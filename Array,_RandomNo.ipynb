{
  "nbformat": 4,
  "nbformat_minor": 0,
  "metadata": {
    "colab": {
      "provenance": [],
      "authorship_tag": "ABX9TyPE1nbUVqQm4HluKSnfJ2I+",
      "include_colab_link": true
    },
    "kernelspec": {
      "name": "python3",
      "display_name": "Python 3"
    },
    "language_info": {
      "name": "python"
    }
  },
  "cells": [
    {
      "cell_type": "markdown",
      "metadata": {
        "id": "view-in-github",
        "colab_type": "text"
      },
      "source": [
        "<a href=\"https://colab.research.google.com/github/VidhyaKishor27/Pythonbasic/blob/main/Array%2C_RandomNo.ipynb\" target=\"_parent\"><img src=\"https://colab.research.google.com/assets/colab-badge.svg\" alt=\"Open In Colab\"/></a>"
      ]
    },
    {
      "cell_type": "code",
      "execution_count": 1,
      "metadata": {
        "colab": {
          "base_uri": "https://localhost:8080/"
        },
        "id": "z4hjKlVwb0Ci",
        "outputId": "9aed60a2-768e-425b-fcce-7f418faffaa4"
      },
      "outputs": [
        {
          "output_type": "stream",
          "name": "stdout",
          "text": [
            "38\n"
          ]
        }
      ],
      "source": [
        "# Random No - generates random within given range\n",
        "# need to import random function\n",
        "import random\n",
        "print(random.randrange(20,100))"
      ]
    },
    {
      "cell_type": "code",
      "source": [
        "#Arrays - Arrays are used to store multiple values in one single variable\n",
        "N=[1,2,3,4,5,6,7,8,9,0]\n",
        "print(len(N))\n",
        "print(N[9])\n",
        "for x in N:\n",
        "  print(x)\n",
        "N.append(11)\n",
        "N.insert(0,100)\n",
        "N.pop(9)\n",
        "N.remove(7)\n",
        "N.sort()\n",
        "print(N)\n",
        "a=N.copy()\n",
        "print(a)\n",
        "a.clear()\n",
        "print(a)"
      ],
      "metadata": {
        "colab": {
          "base_uri": "https://localhost:8080/"
        },
        "id": "sMK5VokTcfLy",
        "outputId": "107c25b9-357a-4be6-c10d-8b5eb57d0020"
      },
      "execution_count": 14,
      "outputs": [
        {
          "output_type": "stream",
          "name": "stdout",
          "text": [
            "10\n",
            "0\n",
            "1\n",
            "2\n",
            "3\n",
            "4\n",
            "5\n",
            "6\n",
            "7\n",
            "8\n",
            "9\n",
            "0\n",
            "[0, 1, 2, 3, 4, 5, 6, 8, 11, 100]\n",
            "[0, 1, 2, 3, 4, 5, 6, 8, 11, 100]\n",
            "[]\n"
          ]
        }
      ]
    }
  ]
}