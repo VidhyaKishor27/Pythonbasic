{
  "nbformat": 4,
  "nbformat_minor": 0,
  "metadata": {
    "colab": {
      "provenance": [],
      "mount_file_id": "1t8hepq1RhZQCLrZZ8sgxGHgHmQkqznzj",
      "authorship_tag": "ABX9TyNa6tic70FMc60MXAt6MQdP",
      "include_colab_link": true
    },
    "kernelspec": {
      "name": "python3",
      "display_name": "Python 3"
    },
    "language_info": {
      "name": "python"
    }
  },
  "cells": [
    {
      "cell_type": "markdown",
      "metadata": {
        "id": "view-in-github",
        "colab_type": "text"
      },
      "source": [
        "<a href=\"https://colab.research.google.com/github/VidhyaKishor27/Pythonbasic/blob/main/Sorting_pandas.ipynb\" target=\"_parent\"><img src=\"https://colab.research.google.com/assets/colab-badge.svg\" alt=\"Open In Colab\"/></a>"
      ]
    },
    {
      "cell_type": "code",
      "execution_count": 31,
      "metadata": {
        "colab": {
          "base_uri": "https://localhost:8080/"
        },
        "id": "5KJ6cXshHSTK",
        "outputId": "7a603ba9-2bd4-4dc1-c036-14dad1fd1232"
      },
      "outputs": [
        {
          "output_type": "stream",
          "name": "stdout",
          "text": [
            "      c1  c2    c3\n",
            "0    Raj   5  pass\n",
            "1    Avi   8  pass\n",
            "2  Nadha   3  fail\n",
            "      c1  c2    c3\n",
            "1    Avi   8  pass\n",
            "2  Nadha   3  fail\n",
            "0    Raj   5  pass\n",
            "      c1  c2    c3\n",
            "1    Avi   8  pass\n",
            "2  Nadha   3  fail\n",
            "0    Raj   5  pass\n",
            "      c1  c2    c3\n",
            "0    Raj   5  pass\n",
            "1    Avi   8  pass\n",
            "2  Nadha   3  fail\n"
          ]
        }
      ],
      "source": [
        "#DataFrame with Sort function\n",
        "# sort_values(by,*,axis=0, ascending=True, inplace=False, kind='quicksort', na_position='last', ignore_index=False, key=None)\n",
        "#by -> key item to be considered for sorting\n",
        "#axis = 0-> row, 1-> col\n",
        "#ascending -> ascending or descending order of sorting\n",
        "#inplace-> whether to do the changes in original datafram or not\n",
        "#kind-> type of sort\n",
        "#na_position-> where to keep NaN values in dataframe\n",
        "#ignore_index-> where to ignore new index or to continue it as in order. If True, the resulting axis will be labeled 0, 1, …, n - 1\n",
        "#key->Apply the key function to the values before sorting.\n",
        "import pandas as pd\n",
        "df=pd.read_excel('/content/drive/MyDrive/Python training/test.xlsx')\n",
        "#print(df)\n",
        "#print(df.sort_values('Name',ignore_index=True))\n",
        "df2=pd.DataFrame({'c1':['Raj','Avi','Nadha'],'c2':[5,8,3],'c3':['pass','pass','fail']})\n",
        "print(df2)\n",
        "normalsort=df2.sort_values('c1')\n",
        "print(normalsort)\n",
        "multiplesort=df2.sort_values(by=['c1','c3'])\n",
        "print(multiplesort)\n",
        "df2.sort_values(by=['c3'],ascending=False,inplace=True)\n",
        "print(df2)"
      ]
    }
  ]
}