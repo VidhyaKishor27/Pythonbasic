{
  "nbformat": 4,
  "nbformat_minor": 0,
  "metadata": {
    "colab": {
      "provenance": [],
      "authorship_tag": "ABX9TyO5uL0qo9/HiiVcPYA1GT1d",
      "include_colab_link": true
    },
    "kernelspec": {
      "name": "python3",
      "display_name": "Python 3"
    },
    "language_info": {
      "name": "python"
    }
  },
  "cells": [
    {
      "cell_type": "markdown",
      "metadata": {
        "id": "view-in-github",
        "colab_type": "text"
      },
      "source": [
        "<a href=\"https://colab.research.google.com/github/VidhyaKishor27/Pythonbasic/blob/main/Tuples%2C_Set_%26_Dict.ipynb\" target=\"_parent\"><img src=\"https://colab.research.google.com/assets/colab-badge.svg\" alt=\"Open In Colab\"/></a>"
      ]
    },
    {
      "cell_type": "code",
      "execution_count": 7,
      "metadata": {
        "colab": {
          "base_uri": "https://localhost:8080/"
        },
        "id": "MwywguCZ5Xcj",
        "outputId": "91224937-492b-4d8f-b7be-39f19202c0f0"
      },
      "outputs": [
        {
          "output_type": "stream",
          "name": "stdout",
          "text": [
            "('Vidhya', 20)\n",
            "('Allen',)\n",
            "Vidhya\n",
            "('Vidhya', 30)\n",
            "Vidhya\n",
            "20\n",
            "Wrong Age\n",
            "2\n",
            "('Vidhya', 20, 'Allen')\n"
          ]
        }
      ],
      "source": [
        "#Tuples - ordered & unchangeable, indexed.\n",
        "# use round bracket\n",
        "# give , at the end of tuple if creating only one item in it\n",
        "#to do changes in tuple-> change to list->do changes->change list to tuple\n",
        "xtuple=(\"Vidhya\",20)\n",
        "print(xtuple)\n",
        "ytuple=(\"Allen\",)\n",
        "print(ytuple)\n",
        "print(xtuple[0])\n",
        "z=list(xtuple) # to do changes in tuple, convert to list\n",
        "z[1]=30\n",
        "a=tuple(z)\n",
        "print(a)\n",
        "for x in xtuple:\n",
        "  print (x)\n",
        "if 20 in xtuple: # use in keyword for checking in tuple\n",
        "  print(\"Wrong Age\")\n",
        "else:\n",
        "  print(\"Correct Age\")\n",
        "print(len(a))\n",
        "del(a)\n",
        "b=xtuple+ytuple\n",
        "print(b)\n"
      ]
    },
    {
      "cell_type": "code",
      "source": [
        "# Set - unordered, unchangeable, and unindexed\n",
        "# use curly bracket\n",
        "set1={\"Venba\",8}\n",
        "set2={\"allen\"}\n",
        "set4={\"Fair Girl\"}\n",
        "for x in set1: # to access items in set use for loop, as it in unindexed\n",
        "  print (x)\n",
        "set2.add(\"Grade 2\") # to add single item - add()\n",
        "print(set2)\n",
        "set2.update([\"Reed\",\"First\"]) # to add multiple item - update()\n",
        "print(set2) # set is unorder, so result come in any order.\n",
        "if 8 in set1: # use in keyword for checking in tuple\n",
        "  print(\"Correct Age\")\n",
        "else:\n",
        "  print(\"Wrong Age\")\n",
        "print(len(set1))\n",
        "set3=set1.union(set2) # add all items in both set in new set\n",
        "print(set3)\n",
        "set1.update(set4) # add items in set2 in set 1\n",
        "print(set1)\n",
        "del set4 # delete complete set\n",
        "set3.pop() # remove last item in set - pop()\n",
        "print(set3)\n",
        "set1.remove(8) # remove mentioned item in set - remove() or discard()\n",
        "print(set1)\n",
        "set3.clear() # empties the set - clear()\n",
        "print(set3)"
      ],
      "metadata": {
        "colab": {
          "base_uri": "https://localhost:8080/"
        },
        "id": "122_m1nN-AXJ",
        "outputId": "2e8548d0-c2e0-4935-ed51-3318e7d08dd4"
      },
      "execution_count": 16,
      "outputs": [
        {
          "output_type": "stream",
          "name": "stdout",
          "text": [
            "Venba\n",
            "8\n",
            "{'Grade 2', 'allen'}\n",
            "{'Grade 2', 'Reed', 'allen', 'First'}\n",
            "Correct Age\n",
            "2\n",
            "{'Venba', 'Reed', 'allen', 8, 'Grade 2', 'First'}\n",
            "{'Venba', 8, 'Fair Girl'}\n",
            "{'Reed', 'allen', 8, 'Grade 2', 'First'}\n",
            "{'Venba', 'Fair Girl'}\n",
            "set()\n"
          ]
        }
      ]
    },
    {
      "cell_type": "code",
      "source": [
        "#Dictionary - unordered, changeable and indexed.\n",
        "# use curly braces, have keys & values, can access values using keys\n",
        "dict1={\"Name\":\"Isai\",\"Age\":3,\"Color\":\"Fair\",\"City\":\"Allen\"}\n",
        "dict2={\"Name\":\"Venba\",\"Age\":7}\n",
        "dict3={\"Name\":\"Vidhya\",\"Age\":30}\n",
        "print(dict1)\n",
        "print(dict1[\"Name\"]) # access values using keys\n",
        "dict1[\"Grade\"]= \"Pre K\" # adding value in dic\n",
        "dict1[\"Age\"]= 4 # changing values\n",
        "print(dict1)\n",
        "for x in dict1: # looping\n",
        "  print(x)\n",
        "if \"Age\" in dict1 == 4: # use in keyword for checking\n",
        "  print(\"Correct Age\")\n",
        "else:\n",
        "  print(\"Wrong Age\")\n",
        "print(len(dict1)) # length of dict\n",
        "dict1.popitem() # delete last item\n",
        "print(dict1)\n",
        "dict2.pop(\"Age\") ## delete specified item\n",
        "print(dict2)\n",
        "del dict1[\"Color\"] # delete specified item\n",
        "print(dict1)\n",
        "dict2.clear() # empties entire dict\n",
        "dict4=dict3.copy()\n",
        "print(dict4) # copy dict\n",
        "del dict3 # del deletes entire dict\n",
        "print(dict2)\n",
        "\n"
      ],
      "metadata": {
        "colab": {
          "base_uri": "https://localhost:8080/"
        },
        "id": "QN9kiGJqWb3z",
        "outputId": "a92ba74b-376b-4361-b4d4-0d483fab32ba"
      },
      "execution_count": 20,
      "outputs": [
        {
          "output_type": "stream",
          "name": "stdout",
          "text": [
            "{'Name': 'Isai', 'Age': 3, 'Color': 'Fair', 'City': 'Allen'}\n",
            "Isai\n",
            "{'Name': 'Isai', 'Age': 4, 'Color': 'Fair', 'City': 'Allen', 'Grade': 'Pre K'}\n",
            "Name\n",
            "Age\n",
            "Color\n",
            "City\n",
            "Grade\n",
            "Wrong Age\n",
            "5\n",
            "{'Name': 'Isai', 'Age': 4, 'Color': 'Fair', 'City': 'Allen'}\n",
            "{'Name': 'Venba'}\n",
            "{'Name': 'Isai', 'Age': 4, 'City': 'Allen'}\n",
            "{'Name': 'Vidhya', 'Age': 30}\n",
            "{}\n"
          ]
        }
      ]
    }
  ]
}