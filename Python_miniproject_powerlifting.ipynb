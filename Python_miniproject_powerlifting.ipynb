{
  "nbformat": 4,
  "nbformat_minor": 0,
  "metadata": {
    "colab": {
      "provenance": [],
      "toc_visible": true,
      "mount_file_id": "14PoZRCWsqDxEdYHQ1kLYUcNmWdowGCMY",
      "authorship_tag": "ABX9TyMZBs9/2AwV05mxPQlutd02",
      "include_colab_link": true
    },
    "kernelspec": {
      "name": "python3",
      "display_name": "Python 3"
    },
    "language_info": {
      "name": "python"
    }
  },
  "cells": [
    {
      "cell_type": "markdown",
      "metadata": {
        "id": "view-in-github",
        "colab_type": "text"
      },
      "source": [
        "<a href=\"https://colab.research.google.com/github/VidhyaKishor27/Pythonbasic/blob/main/Python_miniproject_powerlifting.ipynb\" target=\"_parent\"><img src=\"https://colab.research.google.com/assets/colab-badge.svg\" alt=\"Open In Colab\"/></a>"
      ]
    },
    {
      "cell_type": "code",
      "execution_count": null,
      "metadata": {
        "id": "5Gu-1ydyyRi3"
      },
      "outputs": [],
      "source": [
        "import pandas as pd\n",
        "import numpy as np\n",
        "from google.colab import drive\n",
        "drive.mount('/content/drive')\n",
        "data=pd.read_csv('/content/drive/MyDrive/Python training/Miniproject - python/openpowerlifting-2021-12-10-b420db66.csv', dtype={'Sex':str,'State':str})\n",
        "men_only=data[data[\"Sex\"] == \"M\"]\n",
        "women_only=data[data[\"Sex\"] == \"F\"]\n",
        "m=men_only.groupby(['State']).size().sort_values(ascending=False)\n",
        "print(m.head(10))\n",
        "\n",
        "\n",
        "\n"
      ]
    }
  ]
}