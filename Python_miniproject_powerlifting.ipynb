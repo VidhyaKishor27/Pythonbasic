{
  "nbformat": 4,
  "nbformat_minor": 0,
  "metadata": {
    "colab": {
      "provenance": [],
      "toc_visible": true,
      "mount_file_id": "14PoZRCWsqDxEdYHQ1kLYUcNmWdowGCMY",
      "authorship_tag": "ABX9TyMDnUGuEgvfbZRj0PiUHSPx",
      "include_colab_link": true
    },
    "kernelspec": {
      "name": "python3",
      "display_name": "Python 3"
    },
    "language_info": {
      "name": "python"
    }
  },
  "cells": [
    {
      "cell_type": "markdown",
      "metadata": {
        "id": "view-in-github",
        "colab_type": "text"
      },
      "source": [
        "<a href=\"https://colab.research.google.com/github/VidhyaKishor27/Pythonbasic/blob/main/Python_miniproject_powerlifting.ipynb\" target=\"_parent\"><img src=\"https://colab.research.google.com/assets/colab-badge.svg\" alt=\"Open In Colab\"/></a>"
      ]
    },
    {
      "cell_type": "code",
      "execution_count": 8,
      "metadata": {
        "id": "5Gu-1ydyyRi3",
        "colab": {
          "base_uri": "https://localhost:8080/"
        },
        "outputId": "24c7d9b7-ee41-4e3a-bc8f-4bed5a542f9f"
      },
      "outputs": [
        {
          "output_type": "stream",
          "name": "stdout",
          "text": [
            "Drive already mounted at /content/drive; to attempt to forcibly remount, call drive.mount(\"/content/drive\", force_remount=True).\n"
          ]
        },
        {
          "output_type": "stream",
          "name": "stderr",
          "text": [
            "<ipython-input-8-cce1b57c09e3>:5: DtypeWarning: Columns (35,38) have mixed types. Specify dtype option on import or set low_memory=False.\n",
            "  data=pd.read_csv('/content/drive/MyDrive/Python training/Miniproject - python/openpowerlifting-2021-12-10-b420db66.csv', dtype={'Sex':str,'State':str})\n"
          ]
        },
        {
          "output_type": "stream",
          "name": "stdout",
          "text": [
            "Top 10 States for Men:\n",
            "State\n",
            "CA    32456\n",
            "TX    23517\n",
            "OH    11486\n",
            "FL    11341\n",
            "PA    10857\n",
            "NC    10510\n",
            "NY     9523\n",
            "VA     9312\n",
            "ON     9052\n",
            "AZ     7632\n",
            "dtype: int64\n",
            "Top 10 States for Women:\n",
            "State\n",
            "CA    14639\n",
            "TX    11432\n",
            "FL     5199\n",
            "WI     4396\n",
            "WA     4256\n",
            "NY     4168\n",
            "OH     4110\n",
            "PA     4003\n",
            "VA     3781\n",
            "NC     3744\n",
            "dtype: int64\n"
          ]
        }
      ],
      "source": [
        "import pandas as pd\n",
        "import numpy as np\n",
        "from google.colab import drive\n",
        "drive.mount('/content/drive')\n",
        "data=pd.read_csv('/content/drive/MyDrive/Python training/Miniproject - python/openpowerlifting-2021-12-10-b420db66.csv', dtype={'Sex':str,'State':str})\n",
        "men_only=data[data[\"Sex\"] == \"M\"]\n",
        "women_only=data[data[\"Sex\"] == \"F\"]\n",
        "m=men_only.groupby(['State']).size().sort_values(ascending=False)\n",
        "w=women_only.groupby(['State']).size().sort_values(ascending=False)\n",
        "print(\"Top 10 States for Men:\")\n",
        "print(m.head(10))\n",
        "print(\"Top 10 States for Women:\")\n",
        "print(w.head(10))\n",
        "\n",
        "\n",
        "\n",
        "\n"
      ]
    }
  ]
}