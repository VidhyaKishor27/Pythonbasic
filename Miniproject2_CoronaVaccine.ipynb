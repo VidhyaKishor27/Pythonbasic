{
  "nbformat": 4,
  "nbformat_minor": 0,
  "metadata": {
    "colab": {
      "provenance": [],
      "mount_file_id": "1ejlrWnqd4v-UCycLLuMAYBlzAFnybx83",
      "authorship_tag": "ABX9TyMIdN5/cFltCDad4yqlw2BE",
      "include_colab_link": true
    },
    "kernelspec": {
      "name": "python3",
      "display_name": "Python 3"
    },
    "language_info": {
      "name": "python"
    }
  },
  "cells": [
    {
      "cell_type": "markdown",
      "metadata": {
        "id": "view-in-github",
        "colab_type": "text"
      },
      "source": [
        "<a href=\"https://colab.research.google.com/github/VidhyaKishor27/Pythonbasic/blob/main/Miniproject2_CoronaVaccine.ipynb\" target=\"_parent\"><img src=\"https://colab.research.google.com/assets/colab-badge.svg\" alt=\"Open In Colab\"/></a>"
      ]
    },
    {
      "cell_type": "markdown",
      "source": [
        "### Part I: Observation Questions"
      ],
      "metadata": {
        "id": "sE9M1qWDBuE2"
      }
    },
    {
      "cell_type": "markdown",
      "source": [
        "### Mounting Drive & Reading, Merging files"
      ],
      "metadata": {
        "id": "yzurDsIlBzos"
      }
    },
    {
      "cell_type": "code",
      "source": [
        "import pandas as pd\n",
        "import numpy as np\n",
        "from google.colab import drive\n",
        "drive.mount('/content/drive')\n",
        "data1=pd.read_csv('/content/drive/MyDrive/Python training/Miniproject - python/us-counties-recent.csv')\n",
        "data2=pd.read_csv('/content/drive/MyDrive/Python training/Miniproject - python/us-counties.csv')\n",
        "merged_data=pd.concat([data1,data2], ignore_index=True)\n",
        "print(merged_data.head(3))\n"
      ],
      "metadata": {
        "colab": {
          "base_uri": "https://localhost:8080/"
        },
        "id": "7UdgDisFB32d",
        "outputId": "f2029bb2-ec70-4caa-bc6c-ab7e6030ef67"
      },
      "execution_count": 2,
      "outputs": [
        {
          "output_type": "stream",
          "name": "stdout",
          "text": [
            "Drive already mounted at /content/drive; to attempt to forcibly remount, call drive.mount(\"/content/drive\", force_remount=True).\n",
            "         date   county    state    fips  cases  deaths\n",
            "0  2021-12-11  Autauga  Alabama  1001.0  10596   158.0\n",
            "1  2021-12-11  Baldwin  Alabama  1003.0  38307   591.0\n",
            "2  2021-12-11  Barbour  Alabama  1005.0   3716    81.0\n"
          ]
        }
      ]
    },
    {
      "cell_type": "markdown",
      "source": [
        "### 1. How many distinct counties + state there (hint: unique)"
      ],
      "metadata": {
        "id": "xC-zsxX8EP7D"
      }
    },
    {
      "cell_type": "code",
      "source": [
        "Distinct_county=merged_data['county'].nunique()\n",
        "Distinct_state=merged_data['state'].nunique()\n",
        "print(\"No. of Distinct Counties is:\", Distinct_county)\n",
        "print(\"No. of Distinct States is:\", Distinct_state)\n",
        "\n"
      ],
      "metadata": {
        "colab": {
          "base_uri": "https://localhost:8080/"
        },
        "id": "JeTFW-ODES8d",
        "outputId": "753083a6-4fba-4f1c-b912-71afaa10d4cf"
      },
      "execution_count": 4,
      "outputs": [
        {
          "output_type": "stream",
          "name": "stdout",
          "text": [
            "No. of Distinct Counties is: 1930\n",
            "No. of Distinct States is: 56\n"
          ]
        }
      ]
    },
    {
      "cell_type": "markdown",
      "source": [
        "2. Is there any data missing for any month/day of any year? (hint: use unique applied on date + month part of each year)"
      ],
      "metadata": {
        "id": "PnylRHhUFIN5"
      }
    },
    {
      "cell_type": "code",
      "source": [],
      "metadata": {
        "id": "7eJAo4qrFMFO"
      },
      "execution_count": null,
      "outputs": []
    }
  ]
}