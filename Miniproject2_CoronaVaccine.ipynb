{
  "nbformat": 4,
  "nbformat_minor": 0,
  "metadata": {
    "colab": {
      "provenance": [],
      "mount_file_id": "1ejlrWnqd4v-UCycLLuMAYBlzAFnybx83",
      "authorship_tag": "ABX9TyNnkrUTIMX9+jBu+sVsP1rt",
      "include_colab_link": true
    },
    "kernelspec": {
      "name": "python3",
      "display_name": "Python 3"
    },
    "language_info": {
      "name": "python"
    }
  },
  "cells": [
    {
      "cell_type": "markdown",
      "metadata": {
        "id": "view-in-github",
        "colab_type": "text"
      },
      "source": [
        "<a href=\"https://colab.research.google.com/github/VidhyaKishor27/Pythonbasic/blob/main/Miniproject2_CoronaVaccine.ipynb\" target=\"_parent\"><img src=\"https://colab.research.google.com/assets/colab-badge.svg\" alt=\"Open In Colab\"/></a>"
      ]
    },
    {
      "cell_type": "markdown",
      "source": [
        "### Part I: Observation Questions"
      ],
      "metadata": {
        "id": "sE9M1qWDBuE2"
      }
    },
    {
      "cell_type": "markdown",
      "source": [
        "### Mounting Drive & Reading, Merging files"
      ],
      "metadata": {
        "id": "yzurDsIlBzos"
      }
    },
    {
      "cell_type": "code",
      "source": [
        "import pandas as pd\n",
        "import numpy as np\n",
        "from datetime import datetime\n",
        "from dateutil import parser\n",
        "from google.colab import drive\n",
        "drive.mount('/content/drive')\n",
        "data1=pd.read_csv('/content/drive/MyDrive/Python training/Miniproject - python/us-counties-recent.csv')\n",
        "data2=pd.read_csv('/content/drive/MyDrive/Python training/Miniproject - python/us-counties.csv')\n",
        "merged_data=pd.concat([data1,data2], ignore_index=True)\n",
        "print(merged_data.head(3))\n"
      ],
      "metadata": {
        "colab": {
          "base_uri": "https://localhost:8080/"
        },
        "id": "7UdgDisFB32d",
        "outputId": "40dd25c9-4ba9-4c97-fc32-510601e48981"
      },
      "execution_count": 1,
      "outputs": [
        {
          "output_type": "stream",
          "name": "stdout",
          "text": [
            "Drive already mounted at /content/drive; to attempt to forcibly remount, call drive.mount(\"/content/drive\", force_remount=True).\n",
            "         date   county    state    fips  cases  deaths\n",
            "0  2021-12-11  Autauga  Alabama  1001.0  10596   158.0\n",
            "1  2021-12-11  Baldwin  Alabama  1003.0  38307   591.0\n",
            "2  2021-12-11  Barbour  Alabama  1005.0   3716    81.0\n"
          ]
        }
      ]
    },
    {
      "cell_type": "markdown",
      "source": [
        "### 1. How many distinct counties + state there (hint: unique)"
      ],
      "metadata": {
        "id": "xC-zsxX8EP7D"
      }
    },
    {
      "cell_type": "code",
      "source": [
        "Distinct_county=merged_data['county'].nunique()\n",
        "Distinct_state=merged_data['state'].nunique()\n",
        "print(\"No. of Distinct Counties is:\", Distinct_county)\n",
        "print(\"No. of Distinct States is:\", Distinct_state)\n",
        "\n"
      ],
      "metadata": {
        "colab": {
          "base_uri": "https://localhost:8080/"
        },
        "id": "JeTFW-ODES8d",
        "outputId": "5311a5b7-029d-454e-fa18-fcdd16f7cbcd"
      },
      "execution_count": null,
      "outputs": [
        {
          "output_type": "stream",
          "name": "stdout",
          "text": [
            "No. of Distinct Counties is: 1930\n",
            "No. of Distinct States is: 56\n"
          ]
        }
      ]
    },
    {
      "cell_type": "markdown",
      "source": [
        "2. Is there any data missing for any month/day of any year? (hint: use unique applied on date + month part of each year)"
      ],
      "metadata": {
        "id": "PnylRHhUFIN5"
      }
    },
    {
      "cell_type": "code",
      "source": [
        "merged_data['date']=pd.to_datetime(merged_data['date'])#to_datetime() method converts string to datetime obj\n",
        "unique_dates=merged_data['date'].unique() # gets unique dates from the col.\n",
        "missing_dates=pd.date_range('2020-01-01','2022-12-31').difference(unique_dates)# gets the missing dates comparing with unique dates.\n",
        "print(missing_dates)\n",
        "\n",
        "\n",
        "\n"
      ],
      "metadata": {
        "id": "7eJAo4qrFMFO",
        "colab": {
          "base_uri": "https://localhost:8080/"
        },
        "outputId": "04b65b70-a622-456f-bf90-83106ebc974c"
      },
      "execution_count": 2,
      "outputs": [
        {
          "output_type": "stream",
          "name": "stdout",
          "text": [
            "DatetimeIndex(['2020-01-01', '2020-01-02', '2020-01-03', '2020-01-04',\n",
            "               '2020-01-05', '2020-01-06', '2020-01-07', '2020-01-08',\n",
            "               '2020-01-09', '2020-01-10',\n",
            "               ...\n",
            "               '2022-12-22', '2022-12-23', '2022-12-24', '2022-12-25',\n",
            "               '2022-12-26', '2022-12-27', '2022-12-28', '2022-12-29',\n",
            "               '2022-12-30', '2022-12-31'],\n",
            "              dtype='datetime64[ns]', length=376, freq=None)\n"
          ]
        }
      ]
    },
    {
      "cell_type": "markdown",
      "source": [
        "Part II: Questions:\n",
        "1. Top 10 states having highest total death in the year 2020.\n",
        "2. Top 10 states having highest total death in the year 2021."
      ],
      "metadata": {
        "id": "u_bd6dILpM5d"
      }
    },
    {
      "cell_type": "code",
      "source": [
        "merged_data['year']=pd.DatetimeIndex(merged_data['date']).year\n",
        "yr2020=merged_data.where(merged_data['year']==2020, inplace=False)\n",
        "deaths_2020=yr2020.groupby('state')['deaths'].sum().sort_values(ascending=False)\n",
        "print(\"Top 10 States having highest total death in yr 2020:\")\n",
        "print(deaths_2020.head(10))\n",
        "yr2021=merged_data.where(merged_data['year']==2021, inplace=False)\n",
        "deaths_2021=yr2021.groupby('state')['deaths'].sum().sort_values(ascending=False)\n",
        "print(\"Top 10 States having highest total death in yr 2021:\")\n",
        "print(deaths_2021.head(10))\n"
      ],
      "metadata": {
        "colab": {
          "base_uri": "https://localhost:8080/"
        },
        "id": "DpWK4n3sdL_x",
        "outputId": "e68ffc99-2689-40e8-fb31-b3080743ba95"
      },
      "execution_count": 2,
      "outputs": [
        {
          "output_type": "stream",
          "name": "stdout",
          "text": [
            "Top 10 States having highest total death in yr 2020:\n",
            "state\n",
            "New York         8320598.0\n",
            "New Jersey       3817150.0\n",
            "California       3065113.0\n",
            "Texas            2927740.0\n",
            "Florida          2632238.0\n",
            "Massachusetts    2222455.0\n",
            "Illinois         2211390.0\n",
            "Pennsylvania     2002629.0\n",
            "Michigan         1837617.0\n",
            "Georgia          1363977.0\n",
            "Name: deaths, dtype: float64\n",
            "Top 10 States having highest total death in yr 2021:\n",
            "state\n",
            "California      24130015.0\n",
            "Texas           21673886.0\n",
            "New York        20141502.0\n",
            "Florida         16640701.0\n",
            "Pennsylvania    10773057.0\n",
            "New Jersey      10010634.0\n",
            "Illinois         9944983.0\n",
            "Georgia          8420800.0\n",
            "Michigan         8047434.0\n",
            "Ohio             7919931.0\n",
            "Name: deaths, dtype: float64\n"
          ]
        }
      ]
    },
    {
      "cell_type": "markdown",
      "source": [
        "3. Top 10 states having highest average death in the year 2020\n",
        "4.Top 10 states having highest average death in the year 2021\n"
      ],
      "metadata": {
        "id": "BwInjS5sTZD3"
      }
    },
    {
      "cell_type": "code",
      "source": [
        "avg_2020=yr2020.groupby('state')['deaths'].mean().sort_values(ascending=False)\n",
        "print(\"Top 10 States having highest average death in yr 2020:\")\n",
        "print(round(avg_2020.head(10)))\n",
        "avg_2021=yr2021.groupby('state')['deaths'].mean().sort_values(ascending=False)\n",
        "print(\"Top 10 States having highest average death in yr 2021:\")\n",
        "print(round(avg_2021.head(10)))"
      ],
      "metadata": {
        "colab": {
          "base_uri": "https://localhost:8080/"
        },
        "id": "x7S8J2S4Tedl",
        "outputId": "d8a27191-2584-43bd-8c06-184fddaca636"
      },
      "execution_count": 7,
      "outputs": [
        {
          "output_type": "stream",
          "name": "stdout",
          "text": [
            "Top 10 States having highest average death in yr 2020:\n",
            "state\n",
            "New Jersey              591.0\n",
            "Massachusetts           500.0\n",
            "New York                495.0\n",
            "District of Columbia    488.0\n",
            "Puerto Rico             458.0\n",
            "Connecticut             429.0\n",
            "Arizona                 238.0\n",
            "California              182.0\n",
            "Rhode Island            153.0\n",
            "Florida                 135.0\n",
            "Name: deaths, dtype: float64\n",
            "Top 10 States having highest average death in yr 2021:\n",
            "state\n",
            "Puerto Rico             2613.0\n",
            "Arizona                 1217.0\n",
            "Massachusetts           1183.0\n",
            "New Jersey              1179.0\n",
            "District of Columbia    1111.0\n",
            "California              1077.0\n",
            "Connecticut              912.0\n",
            "New York                 900.0\n",
            "Florida                  634.0\n",
            "Rhode Island             448.0\n",
            "Name: deaths, dtype: float64\n"
          ]
        }
      ]
    },
    {
      "cell_type": "markdown",
      "source": [
        "5. Top 10 county having highest total death in 2020 and 2021 year together\n",
        "Output: county, sum_deaths"
      ],
      "metadata": {
        "id": "DXl1Hua1WepD"
      }
    },
    {
      "cell_type": "code",
      "source": [
        "cond1=merged_data['year']==2020\n",
        "cond2=merged_data['year']==2021\n",
        "yr20_21=merged_data.where(cond1 | cond2,inplace=False)\n",
        "deaths_20_21=yr20_21.groupby('county')['deaths'].sum().sort_values(ascending=False)\n",
        "print(deaths_20_21.head(10))\n"
      ],
      "metadata": {
        "colab": {
          "base_uri": "https://localhost:8080/"
        },
        "id": "1-_JA4bBWhWP",
        "outputId": "9b57a6d0-7302-41f6-94d0-ef260e96b9ed"
      },
      "execution_count": 16,
      "outputs": [
        {
          "output_type": "stream",
          "name": "stdout",
          "text": [
            "county\n",
            "New York City    18529113.0\n",
            "Los Angeles      10532506.0\n",
            "Cook              5517696.0\n",
            "Maricopa          4660419.0\n",
            "Middlesex         3365794.0\n",
            "Orange            3344199.0\n",
            "Miami-Dade        3252556.0\n",
            "Wayne             3238996.0\n",
            "Harris            3165483.0\n",
            "Montgomery        3126347.0\n",
            "Name: deaths, dtype: float64\n"
          ]
        }
      ]
    },
    {
      "cell_type": "markdown",
      "source": [
        "6. Find/print all pair of counties that have the same name but belong to two different states (hint: use pandas self join)"
      ],
      "metadata": {
        "id": "6nc3T6ywbIi5"
      }
    },
    {
      "cell_type": "code",
      "source": [],
      "metadata": {
        "id": "gd0rSeWIbY78"
      },
      "execution_count": null,
      "outputs": []
    },
    {
      "cell_type": "markdown",
      "source": [
        "7.Print list of Top N states by the least number of death in a specific year. Also needed to be ranked.\n",
        "a.Top 10 least death states in 2020\n",
        "b.Top 10 least death states in 2021"
      ],
      "metadata": {
        "id": "0xd-8OBvvPr9"
      }
    },
    {
      "cell_type": "code",
      "source": [
        "least_2020=yr2020.groupby(['state'])['deaths'].sum().to_frame('Total_Deaths_2020').reset_index().sort_values(by='Total_Deaths_2020',ascending=True)\n",
        "least_2020['Rank']=least_2020['Total_Deaths_2020'].rank()# Ranking the total deaths\n",
        "print(\"Top 10 Least Death States for yr 2020 as below:\")\n",
        "print(least_2020.head(10))\n",
        "least_2021=yr2021.groupby(['state'])['deaths'].sum().to_frame('Total_Deaths_2021').reset_index().sort_values(by='Total_Deaths_2021',ascending=True)\n",
        "least_2021['Rank']=least_2021['Total_Deaths_2021'].rank()\n",
        "print(\"Top 10 Least Death States for yr 2021 as below:\")\n",
        "print(least_2021.head(10))\n",
        "\n"
      ],
      "metadata": {
        "colab": {
          "base_uri": "https://localhost:8080/"
        },
        "id": "0Yc19h-5vbLT",
        "outputId": "2e636665-ba56-4af2-b619-86736b79c9e9"
      },
      "execution_count": 34,
      "outputs": [
        {
          "output_type": "stream",
          "name": "stdout",
          "text": [
            "Top 10 Least Death States for yr 2020 as below:\n",
            "                       state  Total_Deaths_2020  Rank\n",
            "36  Northern Mariana Islands              544.0   1.0\n",
            "49            Virgin Islands             3503.0   2.0\n",
            "11                      Guam            10424.0   3.0\n",
            "1                     Alaska            13147.0   4.0\n",
            "48                   Vermont            16434.0   5.0\n",
            "54                   Wyoming            20734.0   6.0\n",
            "12                    Hawaii            27227.0   7.0\n",
            "20                     Maine            35654.0   8.0\n",
            "27                   Montana            58866.0   9.0\n",
            "52             West Virginia            84127.0  10.0\n",
            "Top 10 Least Death States for yr 2021 as below:\n",
            "                       state  Total_Deaths_2021  Rank\n",
            "2             American Samoa                0.0   1.0\n",
            "37  Northern Mariana Islands             1099.0   2.0\n",
            "50            Virgin Islands            18463.0   3.0\n",
            "12                      Guam            67067.0   4.0\n",
            "49                   Vermont           110363.0   5.0\n",
            "1                     Alaska           182601.0   6.0\n",
            "13                    Hawaii           245040.0   7.0\n",
            "55                   Wyoming           347898.0   8.0\n",
            "21                     Maine           359036.0   9.0\n",
            "9       District of Columbia           428693.0  10.0\n"
          ]
        }
      ]
    }
  ]
}