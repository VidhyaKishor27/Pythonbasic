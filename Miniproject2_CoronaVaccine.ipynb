{
  "nbformat": 4,
  "nbformat_minor": 0,
  "metadata": {
    "colab": {
      "provenance": [],
      "mount_file_id": "1ejlrWnqd4v-UCycLLuMAYBlzAFnybx83",
      "authorship_tag": "ABX9TyNDKmJMwk1102RHKHcaj+D3",
      "include_colab_link": true
    },
    "kernelspec": {
      "name": "python3",
      "display_name": "Python 3"
    },
    "language_info": {
      "name": "python"
    }
  },
  "cells": [
    {
      "cell_type": "markdown",
      "metadata": {
        "id": "view-in-github",
        "colab_type": "text"
      },
      "source": [
        "<a href=\"https://colab.research.google.com/github/VidhyaKishor27/Pythonbasic/blob/main/Miniproject2_CoronaVaccine.ipynb\" target=\"_parent\"><img src=\"https://colab.research.google.com/assets/colab-badge.svg\" alt=\"Open In Colab\"/></a>"
      ]
    },
    {
      "cell_type": "markdown",
      "source": [
        "### Part I: Observation Questions"
      ],
      "metadata": {
        "id": "sE9M1qWDBuE2"
      }
    },
    {
      "cell_type": "markdown",
      "source": [
        "### Mounting Drive & Reading, Merging files"
      ],
      "metadata": {
        "id": "yzurDsIlBzos"
      }
    },
    {
      "cell_type": "code",
      "source": [
        "import pandas as pd\n",
        "import numpy as np\n",
        "from datetime import datetime\n",
        "from dateutil import parser\n",
        "from google.colab import drive\n",
        "drive.mount('/content/drive')\n",
        "data1=pd.read_csv('/content/drive/MyDrive/Python training/Miniproject - python/us-counties-recent.csv')\n",
        "data2=pd.read_csv('/content/drive/MyDrive/Python training/Miniproject - python/us-counties.csv')\n",
        "merged_data=pd.concat([data1,data2], ignore_index=True)\n",
        "print(merged_data.head(3))\n"
      ],
      "metadata": {
        "colab": {
          "base_uri": "https://localhost:8080/"
        },
        "id": "7UdgDisFB32d",
        "outputId": "774cc948-6482-47e4-d64d-e6ba83b290ee"
      },
      "execution_count": 15,
      "outputs": [
        {
          "output_type": "stream",
          "name": "stdout",
          "text": [
            "Drive already mounted at /content/drive; to attempt to forcibly remount, call drive.mount(\"/content/drive\", force_remount=True).\n",
            "         date   county    state    fips  cases  deaths\n",
            "0  2021-12-11  Autauga  Alabama  1001.0  10596   158.0\n",
            "1  2021-12-11  Baldwin  Alabama  1003.0  38307   591.0\n",
            "2  2021-12-11  Barbour  Alabama  1005.0   3716    81.0\n"
          ]
        }
      ]
    },
    {
      "cell_type": "markdown",
      "source": [
        "### 1. How many distinct counties + state there (hint: unique)"
      ],
      "metadata": {
        "id": "xC-zsxX8EP7D"
      }
    },
    {
      "cell_type": "code",
      "source": [
        "Distinct_county=merged_data['county'].nunique()\n",
        "Distinct_state=merged_data['state'].nunique()\n",
        "print(\"No. of Distinct Counties is:\", Distinct_county)\n",
        "print(\"No. of Distinct States is:\", Distinct_state)\n",
        "\n"
      ],
      "metadata": {
        "colab": {
          "base_uri": "https://localhost:8080/"
        },
        "id": "JeTFW-ODES8d",
        "outputId": "5311a5b7-029d-454e-fa18-fcdd16f7cbcd"
      },
      "execution_count": 3,
      "outputs": [
        {
          "output_type": "stream",
          "name": "stdout",
          "text": [
            "No. of Distinct Counties is: 1930\n",
            "No. of Distinct States is: 56\n"
          ]
        }
      ]
    },
    {
      "cell_type": "markdown",
      "source": [
        "2. Is there any data missing for any month/day of any year? (hint: use unique applied on date + month part of each year)"
      ],
      "metadata": {
        "id": "PnylRHhUFIN5"
      }
    },
    {
      "cell_type": "code",
      "source": [
        "merged_data['date']=pd.to_datetime(merged_data['date'])#to_datetime() method converts string to datetime obj\n",
        "unique_dates=merged_data['date'].unique() # gets unique dates from the col.\n",
        "missing_dates=pd.date_range('2020-01-01','2022-12-31').difference(unique_dates)# gets the missing dates comparing with unique dates.\n",
        "print(missing_dates)\n",
        "\n",
        "\n",
        "\n"
      ],
      "metadata": {
        "id": "7eJAo4qrFMFO",
        "colab": {
          "base_uri": "https://localhost:8080/"
        },
        "outputId": "ae137f41-0016-4961-b661-1de2ab5d979a"
      },
      "execution_count": 18,
      "outputs": [
        {
          "output_type": "stream",
          "name": "stdout",
          "text": [
            "DatetimeIndex(['2020-01-01', '2020-01-02', '2020-01-03', '2020-01-04',\n",
            "               '2020-01-05', '2020-01-06', '2020-01-07', '2020-01-08',\n",
            "               '2020-01-09', '2020-01-10',\n",
            "               ...\n",
            "               '2022-12-22', '2022-12-23', '2022-12-24', '2022-12-25',\n",
            "               '2022-12-26', '2022-12-27', '2022-12-28', '2022-12-29',\n",
            "               '2022-12-30', '2022-12-31'],\n",
            "              dtype='datetime64[ns]', length=376, freq=None)\n"
          ]
        }
      ]
    },
    {
      "cell_type": "markdown",
      "source": [],
      "metadata": {
        "id": "u_bd6dILpM5d"
      }
    }
  ]
}