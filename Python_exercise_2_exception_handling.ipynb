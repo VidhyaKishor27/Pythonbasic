{
  "nbformat": 4,
  "nbformat_minor": 0,
  "metadata": {
    "colab": {
      "provenance": [],
      "authorship_tag": "ABX9TyMYbthrdb0pi2t3JU4mvgXa",
      "include_colab_link": true
    },
    "kernelspec": {
      "name": "python3",
      "display_name": "Python 3"
    },
    "language_info": {
      "name": "python"
    }
  },
  "cells": [
    {
      "cell_type": "markdown",
      "metadata": {
        "id": "view-in-github",
        "colab_type": "text"
      },
      "source": [
        "<a href=\"https://colab.research.google.com/github/VidhyaKishor27/Pythonbasic/blob/main/Python_exercise_2_exception_handling.ipynb\" target=\"_parent\"><img src=\"https://colab.research.google.com/assets/colab-badge.svg\" alt=\"Open In Colab\"/></a>"
      ]
    },
    {
      "cell_type": "code",
      "execution_count": 8,
      "metadata": {
        "colab": {
          "base_uri": "https://localhost:8080/"
        },
        "id": "WQ-R0PyNxe2L",
        "outputId": "dd84b4fa-61e7-4213-ee1d-6094d5ada3c7"
      },
      "outputs": [
        {
          "output_type": "stream",
          "name": "stdout",
          "text": [
            "Type the numerator to get divide:2\n",
            "Type the denominator no:0\n",
            "No. cannot be divided by Zero\n"
          ]
        }
      ],
      "source": [
        "# 1. code to handle a ZeroDivisionError exception when dividing a number by zero\n",
        "\n",
        "numerator=int(input(\"Type the numerator to get divide:\"))\n",
        "denominator=int(input(\"Type the denominator no:\"))\n",
        "\n",
        "try:\n",
        "  result = numerator / denominator\n",
        "except ZeroDivisionError:\n",
        "  print(\"No. cannot be divided by Zero\")\n",
        "else:\n",
        "  print(\"The result of division is:\", result)\n"
      ]
    },
    {
      "cell_type": "code",
      "source": [
        "# 2.code that prompts the user to input an integer and raises a ValueError exception if the input is not a valid integer.\n",
        "\n",
        "try:\n",
        "  n =int(input(\"Give the integer:\"))\n",
        "  print(\"Given no is an integer\")\n",
        "except ValueError:\n",
        "  print(\"Given no is not an integer\")\n"
      ],
      "metadata": {
        "colab": {
          "base_uri": "https://localhost:8080/"
        },
        "id": "VUSuwBB31ImS",
        "outputId": "f21dcb56-7804-4654-eb1f-d3de712fd533"
      },
      "execution_count": 17,
      "outputs": [
        {
          "output_type": "stream",
          "name": "stdout",
          "text": [
            "Give the integer:2.5\n",
            "Given no is not an integer\n"
          ]
        }
      ]
    },
    {
      "cell_type": "code",
      "source": [
        "# 4. code that prompts the user to input two numbers and raises a TypeError exception if the inputs are not numerical.\n",
        "def check(n1,n2):\n",
        "  try:\n",
        "    val1 =int(n1)\n",
        "    val2 =int(n2)\n",
        "    print(\"Given inputs are integer numbers\")\n",
        "  except ValueError:\n",
        "    try:\n",
        "      val1=float(n1)\n",
        "      val2=float(n2)\n",
        "      print(\"Given inputs are float numbers\")\n",
        "    except ValueError:\n",
        "      print(\"Given inputs are not numbers\")\n",
        "input1 =input(\"Give 1st number:\")\n",
        "input2 = input(\"Give 2nd number\")\n",
        "check(input1,input2)"
      ],
      "metadata": {
        "colab": {
          "base_uri": "https://localhost:8080/"
        },
        "id": "KEO0x2rD4VqH",
        "outputId": "b0427866-76f6-4c63-e248-60514e6a5609"
      },
      "execution_count": 27,
      "outputs": [
        {
          "output_type": "stream",
          "name": "stdout",
          "text": [
            "Give 1st number:abc\n",
            "Give 2nd number2i8\n",
            "Given inputs are not numbers\n"
          ]
        }
      ]
    },
    {
      "cell_type": "code",
      "source": [
        "# 6. code that executes an operation on a list and handles an IndexError exception if the index is out of range.\n",
        "list1=[1,2,3,4]\n",
        "try:\n",
        "  if list1[4]==list1[3]:\n",
        "    print(list1)\n",
        "except IndexError:\n",
        "  print(\"Index is out of range\")\n"
      ],
      "metadata": {
        "colab": {
          "base_uri": "https://localhost:8080/"
        },
        "id": "KGlAwOQJ769i",
        "outputId": "9168d93b-27b3-4895-fdf3-4bfc47582e4a"
      },
      "execution_count": 34,
      "outputs": [
        {
          "output_type": "stream",
          "name": "stdout",
          "text": [
            "Index is out of range\n"
          ]
        }
      ]
    },
    {
      "cell_type": "code",
      "source": [
        "#7. code that prompts the user to input a number and handles a KeyboardInterrupt exception if the user cancels the input.\n",
        "try:\n",
        "\n",
        "  n =input(\"Type your name:\")\n",
        "  time.sleep(1)\n",
        "  print(n)\n",
        "except KeyboardInterrupt:\n",
        "  print(\"Input not given\")"
      ],
      "metadata": {
        "colab": {
          "base_uri": "https://localhost:8080/",
          "height": 263
        },
        "id": "w2y5iGSGAclv",
        "outputId": "8d79b117-987d-4088-d312-5d8345579488"
      },
      "execution_count": 41,
      "outputs": [
        {
          "name": "stdout",
          "output_type": "stream",
          "text": [
            "Type your name:\n"
          ]
        },
        {
          "output_type": "error",
          "ename": "NameError",
          "evalue": "ignored",
          "traceback": [
            "\u001b[0;31m---------------------------------------------------------------------------\u001b[0m",
            "\u001b[0;31mNameError\u001b[0m                                 Traceback (most recent call last)",
            "\u001b[0;32m<ipython-input-41-103ffc5d80c7>\u001b[0m in \u001b[0;36m<cell line: 2>\u001b[0;34m()\u001b[0m\n\u001b[1;32m      3\u001b[0m \u001b[0;34m\u001b[0m\u001b[0m\n\u001b[1;32m      4\u001b[0m   \u001b[0mn\u001b[0m \u001b[0;34m=\u001b[0m\u001b[0minput\u001b[0m\u001b[0;34m(\u001b[0m\u001b[0;34m\"Type your name:\"\u001b[0m\u001b[0;34m)\u001b[0m\u001b[0;34m\u001b[0m\u001b[0;34m\u001b[0m\u001b[0m\n\u001b[0;32m----> 5\u001b[0;31m   \u001b[0mtime\u001b[0m\u001b[0;34m.\u001b[0m\u001b[0msleep\u001b[0m\u001b[0;34m(\u001b[0m\u001b[0;36m1\u001b[0m\u001b[0;34m)\u001b[0m\u001b[0;34m\u001b[0m\u001b[0;34m\u001b[0m\u001b[0m\n\u001b[0m\u001b[1;32m      6\u001b[0m   \u001b[0mprint\u001b[0m\u001b[0;34m(\u001b[0m\u001b[0mn\u001b[0m\u001b[0;34m)\u001b[0m\u001b[0;34m\u001b[0m\u001b[0;34m\u001b[0m\u001b[0m\n\u001b[1;32m      7\u001b[0m \u001b[0;32mexcept\u001b[0m \u001b[0mKeyboardInterrupt\u001b[0m\u001b[0;34m:\u001b[0m\u001b[0;34m\u001b[0m\u001b[0;34m\u001b[0m\u001b[0m\n",
            "\u001b[0;31mNameError\u001b[0m: name 'time' is not defined"
          ]
        }
      ]
    },
    {
      "cell_type": "code",
      "source": [
        "#8.code that executes division and handles an ArithmeticError exception if there is an arithmetic error.\n",
        "numerator=int(input(\"Type the numerator to get divide:\"))\n",
        "denominator=int(input(\"Type the denominator no:\"))\n",
        "\n",
        "try:\n",
        "  result = numerator / denominator\n",
        "except ArithmeticError:\n",
        "  print(\"No. cannot be divided by Zero\")\n",
        "else:\n",
        "  print(\"The result of division is:\", result)"
      ],
      "metadata": {
        "colab": {
          "base_uri": "https://localhost:8080/"
        },
        "id": "fn03HhAyCIJ8",
        "outputId": "fc6ef9dd-4463-4078-e7d1-602dea79c575"
      },
      "execution_count": 42,
      "outputs": [
        {
          "output_type": "stream",
          "name": "stdout",
          "text": [
            "Type the numerator to get divide:10\n",
            "Type the denominator no:0\n",
            "No. cannot be divided by Zero\n"
          ]
        }
      ]
    },
    {
      "cell_type": "code",
      "source": [
        "#10.code that executes a list operation and handles an AttributeError exception if the attribute does not exist.\n",
        "list1 = [\"apple\", \"banana\", \"cherry\"]\n",
        "try:\n",
        "  list1.add(\"orange\")\n",
        "  print(list1)\n",
        "except AttributeError:\n",
        "  print(\"Attribute not found in list \")"
      ],
      "metadata": {
        "colab": {
          "base_uri": "https://localhost:8080/"
        },
        "id": "j7GtD9qXD_TD",
        "outputId": "97c1e92a-f05a-4228-acb5-a66551761417"
      },
      "execution_count": 43,
      "outputs": [
        {
          "output_type": "stream",
          "name": "stdout",
          "text": [
            "Attribute not found in list \n"
          ]
        }
      ]
    },
    {
      "cell_type": "code",
      "source": [],
      "metadata": {
        "id": "uhLkQbqfFwlC"
      },
      "execution_count": null,
      "outputs": []
    }
  ]
}