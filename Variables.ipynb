{
  "nbformat": 4,
  "nbformat_minor": 0,
  "metadata": {
    "colab": {
      "provenance": [],
      "authorship_tag": "ABX9TyOQKVDWZF6bmfaLK89yex7x",
      "include_colab_link": true
    },
    "kernelspec": {
      "name": "python3",
      "display_name": "Python 3"
    },
    "language_info": {
      "name": "python"
    }
  },
  "cells": [
    {
      "cell_type": "markdown",
      "metadata": {
        "id": "view-in-github",
        "colab_type": "text"
      },
      "source": [
        "<a href=\"https://colab.research.google.com/github/VidhyaKishor27/Pythonbasic/blob/main/Variables.ipynb\" target=\"_parent\"><img src=\"https://colab.research.google.com/assets/colab-badge.svg\" alt=\"Open In Colab\"/></a>"
      ]
    },
    {
      "cell_type": "markdown",
      "source": [
        "# New section"
      ],
      "metadata": {
        "id": "y9e_slz-WCoe"
      }
    },
    {
      "cell_type": "code",
      "source": [
        "# coding for variables\n",
        "x=int(3)\n",
        "y=\"world\"\n",
        "print (x,y)\n",
        "# coding for multiple values\n",
        "a,b,c=(\"world \", \"is \", \"beautiful\")\n",
        "print (a,b,c)\n",
        "#coding for using local, global function in var\n",
        "x='Family'\n",
        "y=' comes first '\n",
        "def myfunc():\n",
        " x='Work'\n",
        " global z\n",
        " z='#vidhya'\n",
        " print(x+y+z)\n",
        "myfunc()\n",
        "print(x+y+z)\n"
      ],
      "metadata": {
        "colab": {
          "base_uri": "https://localhost:8080/"
        },
        "id": "jagl4-EkIKN4",
        "outputId": "44becb3f-f455-4cde-e8a2-3e84f295735f"
      },
      "execution_count": 9,
      "outputs": [
        {
          "output_type": "stream",
          "name": "stdout",
          "text": [
            "3 world\n",
            "world  is  beautiful\n",
            "Work comes first #vidhya\n",
            "Family comes first #vidhya\n"
          ]
        }
      ]
    },
    {
      "cell_type": "code",
      "source": [
        "#Coding for data types\n",
        "x=str(\"Learn\")\n",
        "y=int(4)\n",
        "print(x,y)\n",
        "print(type(x))\n",
        "\n",
        "\n"
      ],
      "metadata": {
        "colab": {
          "base_uri": "https://localhost:8080/"
        },
        "id": "ahZD3lhXNHvC",
        "outputId": "09c9987f-8f1a-41c7-f684-0a35bbb1ec5b"
      },
      "execution_count": 12,
      "outputs": [
        {
          "output_type": "stream",
          "name": "stdout",
          "text": [
            "Learn 4\n",
            "<class 'str'>\n"
          ]
        }
      ]
    },
    {
      "cell_type": "code",
      "source": [
        "#coding for number & casting\n",
        "x=5 #integer\n",
        "y=3.5 #floating point\n",
        "z=-8j\n",
        "print(x)\n",
        "print(y)\n",
        "print(z)\n",
        "a=float(x) #conversion of int to float\n",
        "b=int(y) #conversion of float to int\n",
        "c=complex(y) #conversion of float to complex\n",
        "print (a)\n",
        "print(b)\n",
        "print(c)\n",
        "\n"
      ],
      "metadata": {
        "colab": {
          "base_uri": "https://localhost:8080/"
        },
        "id": "QmscH12xOPPj",
        "outputId": "2dc2f2ea-b188-4446-9778-86f1b4ee99b0"
      },
      "execution_count": 13,
      "outputs": [
        {
          "output_type": "stream",
          "name": "stdout",
          "text": [
            "5\n",
            "3.5\n",
            "(-0-8j)\n",
            "5.0\n",
            "3\n",
            "(3.5+0j)\n"
          ]
        }
      ]
    },
    {
      "cell_type": "code",
      "source": [],
      "metadata": {
        "id": "lkEUOIuJQkNm"
      },
      "execution_count": null,
      "outputs": []
    },
    {
      "cell_type": "code",
      "source": [
        "from google.colab import drive\n",
        "drive.mount('/content/drive')"
      ],
      "metadata": {
        "id": "GxFVEdTVLIPx"
      },
      "execution_count": null,
      "outputs": []
    }
  ]
}