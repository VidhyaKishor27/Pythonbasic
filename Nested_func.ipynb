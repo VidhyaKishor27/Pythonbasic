{
  "nbformat": 4,
  "nbformat_minor": 0,
  "metadata": {
    "colab": {
      "provenance": [],
      "authorship_tag": "ABX9TyO/CTa7Jmh6aDtk3ptg8eoE",
      "include_colab_link": true
    },
    "kernelspec": {
      "name": "python3",
      "display_name": "Python 3"
    },
    "language_info": {
      "name": "python"
    }
  },
  "cells": [
    {
      "cell_type": "markdown",
      "metadata": {
        "id": "view-in-github",
        "colab_type": "text"
      },
      "source": [
        "<a href=\"https://colab.research.google.com/github/VidhyaKishor27/Pythonbasic/blob/main/Nested_func.ipynb\" target=\"_parent\"><img src=\"https://colab.research.google.com/assets/colab-badge.svg\" alt=\"Open In Colab\"/></a>"
      ]
    },
    {
      "cell_type": "code",
      "execution_count": 6,
      "metadata": {
        "colab": {
          "base_uri": "https://localhost:8080/"
        },
        "id": "Ic815tI6we8g",
        "outputId": "bf9732d8-4f09-4a56-b02b-315ce43451a6"
      },
      "outputs": [
        {
          "output_type": "stream",
          "name": "stdout",
          "text": [
            "what is the first word?Hello\n",
            "what is the second word?World\n",
            "Concatenated words are Hello World\n"
          ]
        }
      ],
      "source": [
        "#Nested functions\n",
        "def outer(x,y):\n",
        "  def inner(c,d):\n",
        "    #z=c+\" \"+d\n",
        "    #return z\n",
        "    e=\" \".join([c,d])\n",
        "    return e\n",
        "  print(\"Concatenated words are\",inner(x,y))\n",
        "  #c=inner(x,y)\n",
        "  #return c\n",
        "\n",
        "a= input(\"what is the first word?\")\n",
        "b=input(\"what is the second word?\")\n",
        "#print(\"Concatenated words are\",outer(a,b))\n",
        "outer(a,b)"
      ]
    }
  ]
}