{
  "nbformat": 4,
  "nbformat_minor": 0,
  "metadata": {
    "colab": {
      "provenance": [],
      "mount_file_id": "1DZb_v69BisDsQA8Rrt3SguMqTCrCsAde",
      "authorship_tag": "ABX9TyOaD3CKH7WVlrzG/YqhEyND",
      "include_colab_link": true
    },
    "kernelspec": {
      "name": "python3",
      "display_name": "Python 3"
    },
    "language_info": {
      "name": "python"
    }
  },
  "cells": [
    {
      "cell_type": "markdown",
      "metadata": {
        "id": "view-in-github",
        "colab_type": "text"
      },
      "source": [
        "<a href=\"https://colab.research.google.com/github/VidhyaKishor27/Pythonbasic/blob/main/Miniproject_5_Forest_Fire.ipynb\" target=\"_parent\"><img src=\"https://colab.research.google.com/assets/colab-badge.svg\" alt=\"Open In Colab\"/></a>"
      ]
    },
    {
      "cell_type": "markdown",
      "source": [
        "Part 1: Reading files"
      ],
      "metadata": {
        "id": "MlrbemvcoePU"
      }
    },
    {
      "cell_type": "code",
      "source": [
        "import pandas as pd\n",
        "import numpy as np\n",
        "from datetime import datetime\n",
        "from tabulate import tabulate\n",
        "from google.colab import drive\n",
        "drive.mount('/content/drive')\n",
        "ff=pd.read_csv('/content/drive/MyDrive/Python training/Miniproject - python/forestfires.csv')\n",
        "pd.to_datetime(ff['month'], format='%b').dt.month_name()\n",
        "#ff['month']=ff['month'].strftime('%B')\n",
        "print(ff.head(3))"
      ],
      "metadata": {
        "colab": {
          "base_uri": "https://localhost:8080/"
        },
        "id": "YcctTOwYooNl",
        "outputId": "65eb24a1-7d16-4544-b9db-118183dd2fe6"
      },
      "execution_count": 28,
      "outputs": [
        {
          "output_type": "stream",
          "name": "stdout",
          "text": [
            "Drive already mounted at /content/drive; to attempt to forcibly remount, call drive.mount(\"/content/drive\", force_remount=True).\n",
            "   X  Y    month  day  FFMC   DMC     DC  ISI  temp  RH  wind  rain  area\n",
            "0  7  5    March  fri  86.2  26.2   94.3  5.1   8.2  51   6.7   0.0   0.0\n",
            "1  7  4  October  tue  90.6  35.4  669.1  6.7  18.0  33   0.9   0.0   0.0\n",
            "2  7  4  October  sat  90.6  43.7  686.9  6.7  14.6  33   1.3   0.0   0.0\n"
          ]
        }
      ]
    },
    {
      "cell_type": "markdown",
      "source": [
        "1. Top 10 maximum burnt area happened on which month.\n",
        "Output:\n",
        "month,area\n"
      ],
      "metadata": {
        "id": "7iqik3HqqUS0"
      }
    },
    {
      "cell_type": "code",
      "source": [
        "top_10_burntarea=ff.groupby('month')['area'].max().reset_index()\n",
        "#burnt_area=top_10_burntarea.nlargest(10)\n",
        "top_10_burntarea.columns=['Month','Area']\n",
        "print(tabulate(top_10_burntarea.nlargest(10,'Area'),headers=['Month','Area'],tablefmt='grid'))"
      ],
      "metadata": {
        "colab": {
          "base_uri": "https://localhost:8080/"
        },
        "id": "xS_TbzvWqY0w",
        "outputId": "132984e0-3aa7-4590-cfab-a3200ac356e2"
      },
      "execution_count": 29,
      "outputs": [
        {
          "output_type": "stream",
          "name": "stdout",
          "text": [
            "+----+-----------+---------+\n",
            "|    | Month     |    Area |\n",
            "+====+===========+=========+\n",
            "| 11 | September | 1090.84 |\n",
            "+----+-----------+---------+\n",
            "|  1 | August    |  746.28 |\n",
            "+----+-----------+---------+\n",
            "|  5 | July      |  278.53 |\n",
            "+----+-----------+---------+\n",
            "|  6 | June      |   70.32 |\n",
            "+----+-----------+---------+\n",
            "|  0 | April     |   61.13 |\n",
            "+----+-----------+---------+\n",
            "|  3 | February  |   51.78 |\n",
            "+----+-----------+---------+\n",
            "| 10 | October   |   49.37 |\n",
            "+----+-----------+---------+\n",
            "|  8 | May       |   38.48 |\n",
            "+----+-----------+---------+\n",
            "|  7 | March     |   36.85 |\n",
            "+----+-----------+---------+\n",
            "|  2 | December  |   24.77 |\n",
            "+----+-----------+---------+\n"
          ]
        }
      ]
    },
    {
      "cell_type": "markdown",
      "source": [
        "2. Highest temperature and lowest temperature for each month.\n",
        "Output:\n",
        "month,highest_temp, lowest_temp\n"
      ],
      "metadata": {
        "id": "fOIipSlJwOXF"
      }
    },
    {
      "cell_type": "code",
      "source": [
        "temperature=ff.groupby(by=['month']).aggregate({\"temp\":['max','min']}).reset_index()\n",
        "temperature.columns=['Month','Highest Temp','Lowest Temp']\n",
        "print(temperature)\n",
        "! pip install sorted-months-weekdays\n",
        "! pip install sort-dataframeby-monthorweek\n",
        "from sorted_months_weekdays import *\n",
        "from sort_dataframeby_monthorweek import *\n",
        "new=Sort_Dataframeby_Month(df=temperature,monthcolumnname='Month') # sorts the dataframe in month order\n",
        "print(tabulate(new,headers=['Month','Highest Temp','Lowest Temp'],tablefmt='grid'))\n",
        "\n",
        "\n"
      ],
      "metadata": {
        "colab": {
          "base_uri": "https://localhost:8080/"
        },
        "id": "YTyiGoL7wUQn",
        "outputId": "27ce4cec-1634-45f6-902c-f9d918c488d3"
      },
      "execution_count": 35,
      "outputs": [
        {
          "output_type": "stream",
          "name": "stdout",
          "text": [
            "        Month  Highest Temp  Lowest Temp\n",
            "0       April          17.6          5.8\n",
            "1      August          33.3          5.1\n",
            "2    December           5.1          2.2\n",
            "3    February          15.7          4.2\n",
            "4     January           5.3          5.2\n",
            "5        July          30.2         12.6\n",
            "6        June          28.0         10.6\n",
            "7       March          18.8          5.3\n",
            "8         May          18.0         11.3\n",
            "9    November          11.8         11.8\n",
            "10    October          21.7         11.3\n",
            "11  September          30.2          9.8\n",
            "Requirement already satisfied: sorted-months-weekdays in /usr/local/lib/python3.10/dist-packages (0.2)\n",
            "Requirement already satisfied: sort-dataframeby-monthorweek in /usr/local/lib/python3.10/dist-packages (0.4)\n",
            "+----+-----------+----------------+---------------+\n",
            "|    | Month     |   Highest Temp |   Lowest Temp |\n",
            "+====+===========+================+===============+\n",
            "|  0 | January   |            5.3 |           5.2 |\n",
            "+----+-----------+----------------+---------------+\n",
            "|  1 | February  |           15.7 |           4.2 |\n",
            "+----+-----------+----------------+---------------+\n",
            "|  2 | March     |           18.8 |           5.3 |\n",
            "+----+-----------+----------------+---------------+\n",
            "|  3 | April     |           17.6 |           5.8 |\n",
            "+----+-----------+----------------+---------------+\n",
            "|  4 | May       |           18   |          11.3 |\n",
            "+----+-----------+----------------+---------------+\n",
            "|  5 | June      |           28   |          10.6 |\n",
            "+----+-----------+----------------+---------------+\n",
            "|  6 | July      |           30.2 |          12.6 |\n",
            "+----+-----------+----------------+---------------+\n",
            "|  7 | August    |           33.3 |           5.1 |\n",
            "+----+-----------+----------------+---------------+\n",
            "|  8 | September |           30.2 |           9.8 |\n",
            "+----+-----------+----------------+---------------+\n",
            "|  9 | October   |           21.7 |          11.3 |\n",
            "+----+-----------+----------------+---------------+\n",
            "| 10 | November  |           11.8 |          11.8 |\n",
            "+----+-----------+----------------+---------------+\n",
            "| 11 | December  |            5.1 |           2.2 |\n",
            "+----+-----------+----------------+---------------+\n"
          ]
        }
      ]
    },
    {
      "cell_type": "markdown",
      "source": [
        "3. Monthly when highest wind and lowest wind happened.\n",
        "Output:\n",
        "month,highest_wind, lowest_wind\n"
      ],
      "metadata": {
        "id": "lHqsN7_zMFHK"
      }
    },
    {
      "cell_type": "code",
      "source": [
        "winding=ff.groupby(by=['month']).aggregate({\"wind\":['max','min']}).reset_index()\n",
        "winding.columns=['Month','Highest Wind','Lowest Wind']\n",
        "wind_new=Sort_Dataframeby_Month(df=winding,monthcolumnname='Month') # sorts the dataframe in month order\n",
        "print(tabulate(wind_new,headers=['Month','Highest Wind','Lowest Wind'],tablefmt='grid'))\n"
      ],
      "metadata": {
        "colab": {
          "base_uri": "https://localhost:8080/"
        },
        "id": "wkgD0dMqMNoG",
        "outputId": "2a065cb5-4184-4360-96a0-5f15493a26c5"
      },
      "execution_count": 40,
      "outputs": [
        {
          "output_type": "stream",
          "name": "stdout",
          "text": [
            "+----+-----------+----------------+---------------+\n",
            "|    | Month     |   Highest Wind |   Lowest Wind |\n",
            "+====+===========+================+===============+\n",
            "|  0 | January   |            3.1 |           0.9 |\n",
            "+----+-----------+----------------+---------------+\n",
            "|  1 | February  |            9.4 |           0.9 |\n",
            "+----+-----------+----------------+---------------+\n",
            "|  2 | March     |            9.4 |           0.9 |\n",
            "+----+-----------+----------------+---------------+\n",
            "|  3 | April     |            9.4 |           1.8 |\n",
            "+----+-----------+----------------+---------------+\n",
            "|  4 | May       |            4.9 |           4   |\n",
            "+----+-----------+----------------+---------------+\n",
            "|  5 | June      |            9.4 |           1.3 |\n",
            "+----+-----------+----------------+---------------+\n",
            "|  6 | July      |            8   |           0.9 |\n",
            "+----+-----------+----------------+---------------+\n",
            "|  7 | August    |            8.9 |           0.4 |\n",
            "+----+-----------+----------------+---------------+\n",
            "|  8 | September |            7.6 |           0.9 |\n",
            "+----+-----------+----------------+---------------+\n",
            "|  9 | October   |            5.4 |           0.9 |\n",
            "+----+-----------+----------------+---------------+\n",
            "| 10 | November  |            4.5 |           4.5 |\n",
            "+----+-----------+----------------+---------------+\n",
            "| 11 | December  |            8.5 |           4.9 |\n",
            "+----+-----------+----------------+---------------+\n"
          ]
        }
      ]
    },
    {
      "cell_type": "markdown",
      "source": [
        "4. Highest and lowest relative humidity for each month.\n",
        "Output:\n",
        "month,highest_rh, lowest_rh\n"
      ],
      "metadata": {
        "id": "g4ssX8jeOQvN"
      }
    },
    {
      "cell_type": "code",
      "source": [
        "humidity=ff.groupby('month').aggregate({\"RH\":['max','min']}).reset_index()\n",
        "humidity.columns=['Month','Highest Humidity','Lowest Humidity']\n",
        "new_hum=Sort_Dataframeby_Month(df=humidity,monthcolumnname='Month') # sorts the dataframe in month order\n",
        "print(tabulate(new_hum,headers=['Month','Highest Humidity','Lowest Humidity'],tablefmt='grid'))"
      ],
      "metadata": {
        "colab": {
          "base_uri": "https://localhost:8080/"
        },
        "id": "ijg3OP6MPLx0",
        "outputId": "563d6b0e-bb09-4be4-e332-ac0d7a6b626a"
      },
      "execution_count": 42,
      "outputs": [
        {
          "output_type": "stream",
          "name": "stdout",
          "text": [
            "+----+-----------+--------------------+-------------------+\n",
            "|    | Month     |   Highest Humidity |   Lowest Humidity |\n",
            "+====+===========+====================+===================+\n",
            "|  0 | January   |                100 |                78 |\n",
            "+----+-----------+--------------------+-------------------+\n",
            "|  1 | February  |                 82 |                35 |\n",
            "+----+-----------+--------------------+-------------------+\n",
            "|  2 | March     |                 99 |                18 |\n",
            "+----+-----------+--------------------+-------------------+\n",
            "|  3 | April     |                 75 |                20 |\n",
            "+----+-----------+--------------------+-------------------+\n",
            "|  4 | May       |                 94 |                40 |\n",
            "+----+-----------+--------------------+-------------------+\n",
            "|  5 | June      |                 90 |                25 |\n",
            "+----+-----------+--------------------+-------------------+\n",
            "|  6 | July      |                 90 |                22 |\n",
            "+----+-----------+--------------------+-------------------+\n",
            "|  7 | August    |                 96 |                19 |\n",
            "+----+-----------+--------------------+-------------------+\n",
            "|  8 | September |                 86 |                15 |\n",
            "+----+-----------+--------------------+-------------------+\n",
            "|  9 | October   |                 60 |                24 |\n",
            "+----+-----------+--------------------+-------------------+\n",
            "| 10 | November  |                 31 |                31 |\n",
            "+----+-----------+--------------------+-------------------+\n",
            "| 11 | December  |                 61 |                21 |\n",
            "+----+-----------+--------------------+-------------------+\n"
          ]
        }
      ]
    },
    {
      "cell_type": "markdown",
      "source": [
        "5. Join the output from questions 1-4 above.\n",
        "Output:\n",
        "month,area,highest_temp, lowest_temp,highest_wind, lowest_wind,highest_rh, lowest_rh\n"
      ],
      "metadata": {
        "id": "6Qf5gsNrQHqU"
      }
    },
    {
      "cell_type": "code",
      "source": [
        "df=top_10_burntarea.merge(new,on='Month',how='inner')\n",
        "df1=df.merge(wind_new,on='Month',how='inner')\n",
        "df2=df1.merge(new_hum,on='Month',how='inner')\n",
        "df3=Sort_Dataframeby_Month(df=df2,monthcolumnname='Month')\n",
        "print(tabulate(df3,headers=['Month','Area','Highest Temp','Lowest Temp','Highest Wind','Lowest Wind','Highest Humidity','Lowest Humidity'],tablefmt='grid'))"
      ],
      "metadata": {
        "colab": {
          "base_uri": "https://localhost:8080/"
        },
        "id": "BEBygBWBQOF1",
        "outputId": "c6613106-e90d-4701-a9b5-a0fd1e587f21"
      },
      "execution_count": 45,
      "outputs": [
        {
          "output_type": "stream",
          "name": "stdout",
          "text": [
            "+----+-----------+---------+----------------+---------------+----------------+---------------+--------------------+-------------------+\n",
            "|    | Month     |    Area |   Highest Temp |   Lowest Temp |   Highest Wind |   Lowest Wind |   Highest Humidity |   Lowest Humidity |\n",
            "+====+===========+=========+================+===============+================+===============+====================+===================+\n",
            "|  0 | January   |    0    |            5.3 |           5.2 |            3.1 |           0.9 |                100 |                78 |\n",
            "+----+-----------+---------+----------------+---------------+----------------+---------------+--------------------+-------------------+\n",
            "|  1 | February  |   51.78 |           15.7 |           4.2 |            9.4 |           0.9 |                 82 |                35 |\n",
            "+----+-----------+---------+----------------+---------------+----------------+---------------+--------------------+-------------------+\n",
            "|  2 | March     |   36.85 |           18.8 |           5.3 |            9.4 |           0.9 |                 99 |                18 |\n",
            "+----+-----------+---------+----------------+---------------+----------------+---------------+--------------------+-------------------+\n",
            "|  3 | April     |   61.13 |           17.6 |           5.8 |            9.4 |           1.8 |                 75 |                20 |\n",
            "+----+-----------+---------+----------------+---------------+----------------+---------------+--------------------+-------------------+\n",
            "|  4 | May       |   38.48 |           18   |          11.3 |            4.9 |           4   |                 94 |                40 |\n",
            "+----+-----------+---------+----------------+---------------+----------------+---------------+--------------------+-------------------+\n",
            "|  5 | June      |   70.32 |           28   |          10.6 |            9.4 |           1.3 |                 90 |                25 |\n",
            "+----+-----------+---------+----------------+---------------+----------------+---------------+--------------------+-------------------+\n",
            "|  6 | July      |  278.53 |           30.2 |          12.6 |            8   |           0.9 |                 90 |                22 |\n",
            "+----+-----------+---------+----------------+---------------+----------------+---------------+--------------------+-------------------+\n",
            "|  7 | August    |  746.28 |           33.3 |           5.1 |            8.9 |           0.4 |                 96 |                19 |\n",
            "+----+-----------+---------+----------------+---------------+----------------+---------------+--------------------+-------------------+\n",
            "|  8 | September | 1090.84 |           30.2 |           9.8 |            7.6 |           0.9 |                 86 |                15 |\n",
            "+----+-----------+---------+----------------+---------------+----------------+---------------+--------------------+-------------------+\n",
            "|  9 | October   |   49.37 |           21.7 |          11.3 |            5.4 |           0.9 |                 60 |                24 |\n",
            "+----+-----------+---------+----------------+---------------+----------------+---------------+--------------------+-------------------+\n",
            "| 10 | November  |    0    |           11.8 |          11.8 |            4.5 |           4.5 |                 31 |                31 |\n",
            "+----+-----------+---------+----------------+---------------+----------------+---------------+--------------------+-------------------+\n",
            "| 11 | December  |   24.77 |            5.1 |           2.2 |            8.5 |           4.9 |                 61 |                21 |\n",
            "+----+-----------+---------+----------------+---------------+----------------+---------------+--------------------+-------------------+\n"
          ]
        }
      ]
    },
    {
      "cell_type": "markdown",
      "source": [
        "6. Plot a group bar chart for the output in question 5.\n",
        "For schema, see Appendix here\n",
        "X-axis -> Month;\n",
        "Bar 1 -> highest_temp;\n",
        "Bar 2 -> highest_wind;\n",
        "Bar 3 -> highest_rh\n"
      ],
      "metadata": {
        "id": "83CvbCnwR1fN"
      }
    },
    {
      "cell_type": "code",
      "source": [
        "del df3['Area']\n",
        "del df3['Lowest Humidity']\n",
        "del df3['Lowest Temp']\n",
        "del df3['Lowest Wind']\n",
        "df_melted = df3.melt(\"Month\",var_name=\"Forest Fire\",value_name=\"Values\")\n",
        "import seaborn as sns\n",
        "import matplotlib.pyplot as plt\n",
        "sns.barplot(x='Month',y='Values',hue='Forest Fire',data=df_melted)\n",
        "plt.xticks(rotation=90)\n",
        "plt.title('Forest Fire Data')\n",
        "plt.show()\n"
      ],
      "metadata": {
        "colab": {
          "base_uri": "https://localhost:8080/",
          "height": 534
        },
        "id": "8DxvrkkcR-GM",
        "outputId": "366408c0-4e84-4c73-efc6-1f5620c5b627"
      },
      "execution_count": 47,
      "outputs": [
        {
          "output_type": "display_data",
          "data": {
            "text/plain": [
              "<Figure size 640x480 with 1 Axes>"
            ],
            "image/png": "[encoded data removed]"
          },
          "metadata": {}
        }
      ]
    },
    {
      "cell_type": "markdown",
      "source": [
        "Part 2:\n",
        "reading files"
      ],
      "metadata": {
        "id": "TogfbMdUT-Iy"
      }
    },
    {
      "cell_type": "code",
      "source": [
        "import pandas as pd\n",
        "import numpy as np\n",
        "from google.colab import drive\n",
        "drive.mount('/content/drive')\n",
        "dept=pd.read_csv('/content/drive/MyDrive/Python training/Miniproject - python/department.csv')\n",
        "notactive=pd.read_csv('/content/drive/MyDrive/Python training/Miniproject - python/not_active.csv')\n",
        "emp=pd.read_csv('/content/drive/MyDrive/Python training/Miniproject - python/employee.csv')\n",
        "print(dept.head(3))\n",
        "print(notactive.head(3))\n",
        "print(emp.head(3))"
      ],
      "metadata": {
        "colab": {
          "base_uri": "https://localhost:8080/"
        },
        "id": "IsPAcJJVUIsz",
        "outputId": "303e8569-f279-4126-bad3-9dcdbdc8422c"
      },
      "execution_count": 3,
      "outputs": [
        {
          "output_type": "stream",
          "name": "stdout",
          "text": [
            "Drive already mounted at /content/drive; to attempt to forcibly remount, call drive.mount(\"/content/drive\", force_remount=True).\n",
            "   emp_id department\n",
            "0       1      sales\n",
            "1       2      sales\n",
            "2       3      sales\n",
            "   emp_id\n",
            "0       3\n",
            "1       7\n",
            "   emp_id  salary\n",
            "0       1     100\n",
            "1       2     120\n",
            "2       3     145\n"
          ]
        }
      ]
    },
    {
      "cell_type": "markdown",
      "source": [
        "1. Find Maximum salary for each department only active employees and output requires `emp_id`:\n",
        "————————--------\n",
        "Expected result:\n",
        "————————--------\n",
        "emp_id, department, max_salary\n",
        "4,'sales',140\n",
        "6,'marketing',150\n"
      ],
      "metadata": {
        "id": "iIKNc4xRVTJZ"
      }
    },
    {
      "cell_type": "code",
      "source": [
        "df4=emp.merge(dept,on='emp_id',how='inner')\n",
        "df5_inactive=df4.merge(notactive,on='emp_id',how='right')\n",
        "active=pd.merge(df4,df5_inactive,indicator=True,how='outer').query(~df4['emp_id'].isin(df5_inactive['emp_id']))\n",
        "#cond1= notactive['emp_id'] != df4['emp_id']\n",
        "#df5_active=df4[~notactive['emp_id'].isin(df4['emp_id'])]\n",
        "print(df4)\n",
        "print(df5_inactive)\n",
        "print(active)"
      ],
      "metadata": {
        "colab": {
          "base_uri": "https://localhost:8080/",
          "height": 356
        },
        "id": "Vralmn59VacK",
        "outputId": "3692944d-4026-4df6-db68-f0f4a31cdda7"
      },
      "execution_count": 17,
      "outputs": [
        {
          "output_type": "error",
          "ename": "ValueError",
          "evalue": "expr must be a string to be evaluated, <class 'pandas.core.series.Series'> given",
          "traceback": [
            "\u001b[0;31m---------------------------------------------------------------------------\u001b[0m",
            "\u001b[0;31mValueError\u001b[0m                                Traceback (most recent call last)",
            "\u001b[0;32m<ipython-input-17-18bfabd3ab17>\u001b[0m in \u001b[0;36m<cell line: 3>\u001b[0;34m()\u001b[0m\n\u001b[1;32m      1\u001b[0m \u001b[0mdf4\u001b[0m\u001b[0;34m=\u001b[0m\u001b[0memp\u001b[0m\u001b[0;34m.\u001b[0m\u001b[0mmerge\u001b[0m\u001b[0;34m(\u001b[0m\u001b[0mdept\u001b[0m\u001b[0;34m,\u001b[0m\u001b[0mon\u001b[0m\u001b[0;34m=\u001b[0m\u001b[0;34m'emp_id'\u001b[0m\u001b[0;34m,\u001b[0m\u001b[0mhow\u001b[0m\u001b[0;34m=\u001b[0m\u001b[0;34m'inner'\u001b[0m\u001b[0;34m)\u001b[0m\u001b[0;34m\u001b[0m\u001b[0;34m\u001b[0m\u001b[0m\n\u001b[1;32m      2\u001b[0m \u001b[0mdf5_inactive\u001b[0m\u001b[0;34m=\u001b[0m\u001b[0mdf4\u001b[0m\u001b[0;34m.\u001b[0m\u001b[0mmerge\u001b[0m\u001b[0;34m(\u001b[0m\u001b[0mnotactive\u001b[0m\u001b[0;34m,\u001b[0m\u001b[0mon\u001b[0m\u001b[0;34m=\u001b[0m\u001b[0;34m'emp_id'\u001b[0m\u001b[0;34m,\u001b[0m\u001b[0mhow\u001b[0m\u001b[0;34m=\u001b[0m\u001b[0;34m'right'\u001b[0m\u001b[0;34m)\u001b[0m\u001b[0;34m\u001b[0m\u001b[0;34m\u001b[0m\u001b[0m\n\u001b[0;32m----> 3\u001b[0;31m \u001b[0mactive\u001b[0m\u001b[0;34m=\u001b[0m\u001b[0mpd\u001b[0m\u001b[0;34m.\u001b[0m\u001b[0mmerge\u001b[0m\u001b[0;34m(\u001b[0m\u001b[0mdf4\u001b[0m\u001b[0;34m,\u001b[0m\u001b[0mdf5_inactive\u001b[0m\u001b[0;34m,\u001b[0m\u001b[0mindicator\u001b[0m\u001b[0;34m=\u001b[0m\u001b[0;32mTrue\u001b[0m\u001b[0;34m,\u001b[0m\u001b[0mhow\u001b[0m\u001b[0;34m=\u001b[0m\u001b[0;34m'outer'\u001b[0m\u001b[0;34m)\u001b[0m\u001b[0;34m.\u001b[0m\u001b[0mquery\u001b[0m\u001b[0;34m(\u001b[0m\u001b[0;34m~\u001b[0m\u001b[0mdf4\u001b[0m\u001b[0;34m[\u001b[0m\u001b[0;34m'emp_id'\u001b[0m\u001b[0;34m]\u001b[0m\u001b[0;34m.\u001b[0m\u001b[0misin\u001b[0m\u001b[0;34m(\u001b[0m\u001b[0mdf5_inactive\u001b[0m\u001b[0;34m[\u001b[0m\u001b[0;34m'emp_id'\u001b[0m\u001b[0;34m]\u001b[0m\u001b[0;34m)\u001b[0m\u001b[0;34m)\u001b[0m\u001b[0;34m\u001b[0m\u001b[0;34m\u001b[0m\u001b[0m\n\u001b[0m\u001b[1;32m      4\u001b[0m \u001b[0;31m#cond1= notactive['emp_id'] != df4['emp_id']\u001b[0m\u001b[0;34m\u001b[0m\u001b[0;34m\u001b[0m\u001b[0m\n\u001b[1;32m      5\u001b[0m \u001b[0;31m#df5_active=df4[~notactive['emp_id'].isin(df4['emp_id'])]\u001b[0m\u001b[0;34m\u001b[0m\u001b[0;34m\u001b[0m\u001b[0m\n",
            "\u001b[0;32m/usr/local/lib/python3.10/dist-packages/pandas/util/_decorators.py\u001b[0m in \u001b[0;36mwrapper\u001b[0;34m(*args, **kwargs)\u001b[0m\n\u001b[1;32m    329\u001b[0m                     \u001b[0mstacklevel\u001b[0m\u001b[0;34m=\u001b[0m\u001b[0mfind_stack_level\u001b[0m\u001b[0;34m(\u001b[0m\u001b[0;34m)\u001b[0m\u001b[0;34m,\u001b[0m\u001b[0;34m\u001b[0m\u001b[0;34m\u001b[0m\u001b[0m\n\u001b[1;32m    330\u001b[0m                 )\n\u001b[0;32m--> 331\u001b[0;31m             \u001b[0;32mreturn\u001b[0m \u001b[0mfunc\u001b[0m\u001b[0;34m(\u001b[0m\u001b[0;34m*\u001b[0m\u001b[0margs\u001b[0m\u001b[0;34m,\u001b[0m \u001b[0;34m**\u001b[0m\u001b[0mkwargs\u001b[0m\u001b[0;34m)\u001b[0m\u001b[0;34m\u001b[0m\u001b[0;34m\u001b[0m\u001b[0m\n\u001b[0m\u001b[1;32m    332\u001b[0m \u001b[0;34m\u001b[0m\u001b[0m\n\u001b[1;32m    333\u001b[0m         \u001b[0;31m# error: \"Callable[[VarArg(Any), KwArg(Any)], Any]\" has no\u001b[0m\u001b[0;34m\u001b[0m\u001b[0;34m\u001b[0m\u001b[0m\n",
            "\u001b[0;32m/usr/local/lib/python3.10/dist-packages/pandas/core/frame.py\u001b[0m in \u001b[0;36mquery\u001b[0;34m(self, expr, inplace, **kwargs)\u001b[0m\n\u001b[1;32m   4469\u001b[0m         \u001b[0;32mif\u001b[0m \u001b[0;32mnot\u001b[0m \u001b[0misinstance\u001b[0m\u001b[0;34m(\u001b[0m\u001b[0mexpr\u001b[0m\u001b[0;34m,\u001b[0m \u001b[0mstr\u001b[0m\u001b[0;34m)\u001b[0m\u001b[0;34m:\u001b[0m\u001b[0;34m\u001b[0m\u001b[0;34m\u001b[0m\u001b[0m\n\u001b[1;32m   4470\u001b[0m             \u001b[0mmsg\u001b[0m \u001b[0;34m=\u001b[0m \u001b[0;34mf\"expr must be a string to be evaluated, {type(expr)} given\"\u001b[0m\u001b[0;34m\u001b[0m\u001b[0;34m\u001b[0m\u001b[0m\n\u001b[0;32m-> 4471\u001b[0;31m             \u001b[0;32mraise\u001b[0m \u001b[0mValueError\u001b[0m\u001b[0;34m(\u001b[0m\u001b[0mmsg\u001b[0m\u001b[0;34m)\u001b[0m\u001b[0;34m\u001b[0m\u001b[0;34m\u001b[0m\u001b[0m\n\u001b[0m\u001b[1;32m   4472\u001b[0m         \u001b[0mkwargs\u001b[0m\u001b[0;34m[\u001b[0m\u001b[0;34m\"level\"\u001b[0m\u001b[0;34m]\u001b[0m \u001b[0;34m=\u001b[0m \u001b[0mkwargs\u001b[0m\u001b[0;34m.\u001b[0m\u001b[0mpop\u001b[0m\u001b[0;34m(\u001b[0m\u001b[0;34m\"level\"\u001b[0m\u001b[0;34m,\u001b[0m \u001b[0;36m0\u001b[0m\u001b[0;34m)\u001b[0m \u001b[0;34m+\u001b[0m \u001b[0;36m2\u001b[0m\u001b[0;34m\u001b[0m\u001b[0;34m\u001b[0m\u001b[0m\n\u001b[1;32m   4473\u001b[0m         \u001b[0mkwargs\u001b[0m\u001b[0;34m[\u001b[0m\u001b[0;34m\"target\"\u001b[0m\u001b[0;34m]\u001b[0m \u001b[0;34m=\u001b[0m \u001b[0;32mNone\u001b[0m\u001b[0;34m\u001b[0m\u001b[0;34m\u001b[0m\u001b[0m\n",
            "\u001b[0;31mValueError\u001b[0m: expr must be a string to be evaluated, <class 'pandas.core.series.Series'> given"
          ]
        }
      ]
    }
  ]
}