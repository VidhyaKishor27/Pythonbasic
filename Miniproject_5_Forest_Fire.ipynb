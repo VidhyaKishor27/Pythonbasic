{
  "nbformat": 4,
  "nbformat_minor": 0,
  "metadata": {
    "colab": {
      "provenance": [],
      "mount_file_id": "1DZb_v69BisDsQA8Rrt3SguMqTCrCsAde",
      "authorship_tag": "ABX9TyO+nXydG5sIAng5pX1OFSRg",
      "include_colab_link": true
    },
    "kernelspec": {
      "name": "python3",
      "display_name": "Python 3"
    },
    "language_info": {
      "name": "python"
    }
  },
  "cells": [
    {
      "cell_type": "markdown",
      "metadata": {
        "id": "view-in-github",
        "colab_type": "text"
      },
      "source": [
        "<a href=\"https://colab.research.google.com/github/VidhyaKishor27/Pythonbasic/blob/main/Miniproject_5_Forest_Fire.ipynb\" target=\"_parent\"><img src=\"https://colab.research.google.com/assets/colab-badge.svg\" alt=\"Open In Colab\"/></a>"
      ]
    },
    {
      "cell_type": "markdown",
      "source": [
        "Part 1: Reading files"
      ],
      "metadata": {
        "id": "MlrbemvcoePU"
      }
    },
    {
      "cell_type": "code",
      "source": [
        "import pandas as pd\n",
        "import numpy as np\n",
        "from datetime import datetime\n",
        "from tabulate import tabulate\n",
        "from google.colab import drive\n",
        "drive.mount('/content/drive')\n",
        "ff=pd.read_csv('/content/drive/MyDrive/Python training/Miniproject - python/forestfires.csv')\n",
        "ff['month']=pd.to_datetime(ff['month'], format='%b').dt.month_name()\n",
        "#ff['month']=ff['month'].strftime('%B')\n",
        "print(ff.head(3))"
      ],
      "metadata": {
        "colab": {
          "base_uri": "https://localhost:8080/"
        },
        "id": "YcctTOwYooNl",
        "outputId": "65eb24a1-7d16-4544-b9db-118183dd2fe6"
      },
      "execution_count": 28,
      "outputs": [
        {
          "output_type": "stream",
          "name": "stdout",
          "text": [
            "Drive already mounted at /content/drive; to attempt to forcibly remount, call drive.mount(\"/content/drive\", force_remount=True).\n",
            "   X  Y    month  day  FFMC   DMC     DC  ISI  temp  RH  wind  rain  area\n",
            "0  7  5    March  fri  86.2  26.2   94.3  5.1   8.2  51   6.7   0.0   0.0\n",
            "1  7  4  October  tue  90.6  35.4  669.1  6.7  18.0  33   0.9   0.0   0.0\n",
            "2  7  4  October  sat  90.6  43.7  686.9  6.7  14.6  33   1.3   0.0   0.0\n"
          ]
        }
      ]
    },
    {
      "cell_type": "markdown",
      "source": [
        "1. Top 10 maximum burnt area happened on which month.\n",
        "Output:\n",
        "month,area\n"
      ],
      "metadata": {
        "id": "7iqik3HqqUS0"
      }
    },
    {
      "cell_type": "code",
      "source": [
        "top_10_burntarea=ff.groupby('month')['area'].max().reset_index()\n",
        "#burnt_area=top_10_burntarea.nlargest(10)\n",
        "top_10_burntarea.columns=['Month','Area']\n",
        "print(tabulate(top_10_burntarea.nlargest(10,'Area'),headers=['Month','Area'],tablefmt='grid'))"
      ],
      "metadata": {
        "colab": {
          "base_uri": "https://localhost:8080/"
        },
        "id": "xS_TbzvWqY0w",
        "outputId": "132984e0-3aa7-4590-cfab-a3200ac356e2"
      },
      "execution_count": 29,
      "outputs": [
        {
          "output_type": "stream",
          "name": "stdout",
          "text": [
            "+----+-----------+---------+\n",
            "|    | Month     |    Area |\n",
            "+====+===========+=========+\n",
            "| 11 | September | 1090.84 |\n",
            "+----+-----------+---------+\n",
            "|  1 | August    |  746.28 |\n",
            "+----+-----------+---------+\n",
            "|  5 | July      |  278.53 |\n",
            "+----+-----------+---------+\n",
            "|  6 | June      |   70.32 |\n",
            "+----+-----------+---------+\n",
            "|  0 | April     |   61.13 |\n",
            "+----+-----------+---------+\n",
            "|  3 | February  |   51.78 |\n",
            "+----+-----------+---------+\n",
            "| 10 | October   |   49.37 |\n",
            "+----+-----------+---------+\n",
            "|  8 | May       |   38.48 |\n",
            "+----+-----------+---------+\n",
            "|  7 | March     |   36.85 |\n",
            "+----+-----------+---------+\n",
            "|  2 | December  |   24.77 |\n",
            "+----+-----------+---------+\n"
          ]
        }
      ]
    },
    {
      "cell_type": "markdown",
      "source": [
        "2. Highest temperature and lowest temperature for each month.\n",
        "Output:\n",
        "month,highest_temp, lowest_temp\n"
      ],
      "metadata": {
        "id": "fOIipSlJwOXF"
      }
    },
    {
      "cell_type": "code",
      "source": [
        "temperature=ff.groupby(by=['month']).aggregate({\"temp\":['max','min']}).reset_index()\n",
        "temperature.columns=['Month','Highest Temp','Lowest Temp']\n",
        "print(temperature)\n",
        "! pip install sorted-months-weekdays\n",
        "! pip install sort-dataframeby-monthorweek\n",
        "from sorted_months_weekdays import *\n",
        "from sort_dataframeby_monthorweek import *\n",
        "new=Sort_Dataframeby_Month(df=temperature,monthcolumnname='Month') # sorts the dataframe in month order\n",
        "print(tabulate(new,headers=['Month','Highest Temp','Lowest Temp'],tablefmt='grid'))\n",
        "\n",
        "\n"
      ],
      "metadata": {
        "colab": {
          "base_uri": "https://localhost:8080/"
        },
        "id": "YTyiGoL7wUQn",
        "outputId": "27ce4cec-1634-45f6-902c-f9d918c488d3"
      },
      "execution_count": 35,
      "outputs": [
        {
          "output_type": "stream",
          "name": "stdout",
          "text": [
            "        Month  Highest Temp  Lowest Temp\n",
            "0       April          17.6          5.8\n",
            "1      August          33.3          5.1\n",
            "2    December           5.1          2.2\n",
            "3    February          15.7          4.2\n",
            "4     January           5.3          5.2\n",
            "5        July          30.2         12.6\n",
            "6        June          28.0         10.6\n",
            "7       March          18.8          5.3\n",
            "8         May          18.0         11.3\n",
            "9    November          11.8         11.8\n",
            "10    October          21.7         11.3\n",
            "11  September          30.2          9.8\n",
            "Requirement already satisfied: sorted-months-weekdays in /usr/local/lib/python3.10/dist-packages (0.2)\n",
            "Requirement already satisfied: sort-dataframeby-monthorweek in /usr/local/lib/python3.10/dist-packages (0.4)\n",
            "+----+-----------+----------------+---------------+\n",
            "|    | Month     |   Highest Temp |   Lowest Temp |\n",
            "+====+===========+================+===============+\n",
            "|  0 | January   |            5.3 |           5.2 |\n",
            "+----+-----------+----------------+---------------+\n",
            "|  1 | February  |           15.7 |           4.2 |\n",
            "+----+-----------+----------------+---------------+\n",
            "|  2 | March     |           18.8 |           5.3 |\n",
            "+----+-----------+----------------+---------------+\n",
            "|  3 | April     |           17.6 |           5.8 |\n",
            "+----+-----------+----------------+---------------+\n",
            "|  4 | May       |           18   |          11.3 |\n",
            "+----+-----------+----------------+---------------+\n",
            "|  5 | June      |           28   |          10.6 |\n",
            "+----+-----------+----------------+---------------+\n",
            "|  6 | July      |           30.2 |          12.6 |\n",
            "+----+-----------+----------------+---------------+\n",
            "|  7 | August    |           33.3 |           5.1 |\n",
            "+----+-----------+----------------+---------------+\n",
            "|  8 | September |           30.2 |           9.8 |\n",
            "+----+-----------+----------------+---------------+\n",
            "|  9 | October   |           21.7 |          11.3 |\n",
            "+----+-----------+----------------+---------------+\n",
            "| 10 | November  |           11.8 |          11.8 |\n",
            "+----+-----------+----------------+---------------+\n",
            "| 11 | December  |            5.1 |           2.2 |\n",
            "+----+-----------+----------------+---------------+\n"
          ]
        }
      ]
    }
  ]
}