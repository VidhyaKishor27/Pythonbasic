{
  "nbformat": 4,
  "nbformat_minor": 0,
  "metadata": {
    "colab": {
      "provenance": [],
      "mount_file_id": "1DZb_v69BisDsQA8Rrt3SguMqTCrCsAde",
      "authorship_tag": "ABX9TyOH4yowqFs4QehYd1tlj/yJ",
      "include_colab_link": true
    },
    "kernelspec": {
      "name": "python3",
      "display_name": "Python 3"
    },
    "language_info": {
      "name": "python"
    }
  },
  "cells": [
    {
      "cell_type": "markdown",
      "metadata": {
        "id": "view-in-github",
        "colab_type": "text"
      },
      "source": [
        "<a href=\"https://colab.research.google.com/github/VidhyaKishor27/Pythonbasic/blob/main/Miniproject_5_Forest_Fire.ipynb\" target=\"_parent\"><img src=\"https://colab.research.google.com/assets/colab-badge.svg\" alt=\"Open In Colab\"/></a>"
      ]
    },
    {
      "cell_type": "markdown",
      "source": [
        "Part 1: Reading files"
      ],
      "metadata": {
        "id": "MlrbemvcoePU"
      }
    },
    {
      "cell_type": "code",
      "source": [
        "import pandas as pd\n",
        "import numpy as np\n",
        "from tabulate import tabulate\n",
        "from google.colab import drive\n",
        "drive.mount('/content/drive')\n",
        "ff=pd.read_csv('/content/drive/MyDrive/Python training/Miniproject - python/forestfires.csv')\n",
        "print(ff.head(3))"
      ],
      "metadata": {
        "colab": {
          "base_uri": "https://localhost:8080/"
        },
        "id": "YcctTOwYooNl",
        "outputId": "0aa7d431-3b21-4520-fe5e-f5080458dd9e"
      },
      "execution_count": 5,
      "outputs": [
        {
          "output_type": "stream",
          "name": "stdout",
          "text": [
            "Drive already mounted at /content/drive; to attempt to forcibly remount, call drive.mount(\"/content/drive\", force_remount=True).\n",
            "   X  Y month  day  FFMC   DMC     DC  ISI  temp  RH  wind  rain  area\n",
            "0  7  5   mar  fri  86.2  26.2   94.3  5.1   8.2  51   6.7   0.0   0.0\n",
            "1  7  4   oct  tue  90.6  35.4  669.1  6.7  18.0  33   0.9   0.0   0.0\n",
            "2  7  4   oct  sat  90.6  43.7  686.9  6.7  14.6  33   1.3   0.0   0.0\n"
          ]
        }
      ]
    },
    {
      "cell_type": "markdown",
      "source": [
        "1. Top 10 maximum burnt area happened on which month.\n",
        "Output:\n",
        "month,area\n"
      ],
      "metadata": {
        "id": "7iqik3HqqUS0"
      }
    },
    {
      "cell_type": "code",
      "source": [
        "top_10_burntarea=ff.groupby('month')['area'].max().reset_index()\n",
        "#burnt_area=top_10_burntarea.nlargest(10)\n",
        "top_10_burntarea.columns=['Month','Area']\n",
        "print(tabulate(top_10_burntarea.nlargest(10,'Area'),headers=['Month','Area'],tablefmt='grid'))"
      ],
      "metadata": {
        "colab": {
          "base_uri": "https://localhost:8080/"
        },
        "id": "xS_TbzvWqY0w",
        "outputId": "30ed6386-5147-4dfa-872d-b7a130996194"
      },
      "execution_count": 18,
      "outputs": [
        {
          "output_type": "stream",
          "name": "stdout",
          "text": [
            "+----+---------+---------+\n",
            "|    | Month   |    Area |\n",
            "+====+=========+=========+\n",
            "| 11 | sep     | 1090.84 |\n",
            "+----+---------+---------+\n",
            "|  1 | aug     |  746.28 |\n",
            "+----+---------+---------+\n",
            "|  5 | jul     |  278.53 |\n",
            "+----+---------+---------+\n",
            "|  6 | jun     |   70.32 |\n",
            "+----+---------+---------+\n",
            "|  0 | apr     |   61.13 |\n",
            "+----+---------+---------+\n",
            "|  3 | feb     |   51.78 |\n",
            "+----+---------+---------+\n",
            "| 10 | oct     |   49.37 |\n",
            "+----+---------+---------+\n",
            "|  8 | may     |   38.48 |\n",
            "+----+---------+---------+\n",
            "|  7 | mar     |   36.85 |\n",
            "+----+---------+---------+\n",
            "|  2 | dec     |   24.77 |\n",
            "+----+---------+---------+\n"
          ]
        }
      ]
    },
    {
      "cell_type": "markdown",
      "source": [
        "2. Highest temperature and lowest temperature for each month.\n",
        "Output:\n",
        "month,highest_temp, lowest_temp\n"
      ],
      "metadata": {
        "id": "fOIipSlJwOXF"
      }
    },
    {
      "cell_type": "code",
      "source": [
        "temperature=ff.groupby(by=['month']).aggregate({\"temp\":['max','min']})\n",
        "print(temperature)"
      ],
      "metadata": {
        "colab": {
          "base_uri": "https://localhost:8080/"
        },
        "id": "YTyiGoL7wUQn",
        "outputId": "378d0574-e2fa-4aef-950a-9aadaecf85cb"
      },
      "execution_count": 23,
      "outputs": [
        {
          "output_type": "stream",
          "name": "stdout",
          "text": [
            "       temp      \n",
            "        max   min\n",
            "month            \n",
            "apr    17.6   5.8\n",
            "aug    33.3   5.1\n",
            "dec     5.1   2.2\n",
            "feb    15.7   4.2\n",
            "jan     5.3   5.2\n",
            "jul    30.2  12.6\n",
            "jun    28.0  10.6\n",
            "mar    18.8   5.3\n",
            "may    18.0  11.3\n",
            "nov    11.8  11.8\n",
            "oct    21.7  11.3\n",
            "sep    30.2   9.8\n"
          ]
        }
      ]
    }
  ]
}