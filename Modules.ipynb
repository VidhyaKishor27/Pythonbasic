{
  "nbformat": 4,
  "nbformat_minor": 0,
  "metadata": {
    "colab": {
      "provenance": [],
      "authorship_tag": "ABX9TyN4TCQPimRsxe0F1WpR/O0H",
      "include_colab_link": true
    },
    "kernelspec": {
      "name": "python3",
      "display_name": "Python 3"
    },
    "language_info": {
      "name": "python"
    }
  },
  "cells": [
    {
      "cell_type": "markdown",
      "metadata": {
        "id": "view-in-github",
        "colab_type": "text"
      },
      "source": [
        "<a href=\"https://colab.research.google.com/github/VidhyaKishor27/Pythonbasic/blob/main/Modules.ipynb\" target=\"_parent\"><img src=\"https://colab.research.google.com/assets/colab-badge.svg\" alt=\"Open In Colab\"/></a>"
      ]
    },
    {
      "cell_type": "code",
      "execution_count": 14,
      "metadata": {
        "colab": {
          "base_uri": "https://localhost:8080/"
        },
        "id": "YKs7W6ccw-ml",
        "outputId": "fdf0e36d-8045-4ae0-ec05-85efc5c6ef96"
      },
      "outputs": [
        {
          "output_type": "stream",
          "name": "stdout",
          "text": [
            "Drive already mounted at /content/drive; to attempt to forcibly remount, call drive.mount(\"/content/drive\", force_remount=True).\n",
            "The total mark obtained by vidhya is 120\n",
            "None\n",
            "40\n"
          ]
        }
      ],
      "source": [
        "#Modules - python file with extenstion .py can be used as a code of lib in another pgm.\n",
        "from google.colab import drive # mount the googledrive with pgm\n",
        "drive.mount('/content/drive')\n",
        "import sys # insert directory to our python path using sys\n",
        "sys.path.insert(0,'/content/drive/MyDrive/Python training')\n",
        "import sum_of_marks as sm # sum of marks is a python file saved in drive/colab, which is imported here to use in this code.\n",
        "x=sm.total(\"vidhya\",30,40,50) # total() is fuc defined in sum of marks file, used here with current arguments.\n",
        "print(x)\n",
        "z=sm.venba[\"maths\"] # venba is dic declared in sum of marks file, values are used here.\n",
        "print(z)"
      ]
    }
  ]
}