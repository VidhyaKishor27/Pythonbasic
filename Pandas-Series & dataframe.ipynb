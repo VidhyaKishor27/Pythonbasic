{
  "nbformat": 4,
  "nbformat_minor": 0,
  "metadata": {
    "colab": {
      "provenance": [],
      "mount_file_id": "1MlUJSHKjYnW-j8dcyPFtQ7wOMlYxlFhR",
      "authorship_tag": "ABX9TyM1aacQDI+ZucWo/UKvphHv",
      "include_colab_link": true
    },
    "kernelspec": {
      "name": "python3",
      "display_name": "Python 3"
    },
    "language_info": {
      "name": "python"
    }
  },
  "cells": [
    {
      "cell_type": "markdown",
      "metadata": {
        "id": "view-in-github",
        "colab_type": "text"
      },
      "source": [
        "<a href=\"https://colab.research.google.com/github/VidhyaKishor27/Pythonbasic/blob/main/Pandas-Series%20%26%20dataframe.ipynb\" target=\"_parent\"><img src=\"https://colab.research.google.com/assets/colab-badge.svg\" alt=\"Open In Colab\"/></a>"
      ]
    },
    {
      "cell_type": "code",
      "execution_count": null,
      "metadata": {
        "colab": {
          "base_uri": "https://localhost:8080/",
          "height": 330
        },
        "id": "wSQc16Q69OtN",
        "outputId": "35bc8c6e-c915-4dad-c219-e1729fe7cc55"
      },
      "outputs": [
        {
          "output_type": "stream",
          "name": "stdout",
          "text": [
            "0    1\n",
            "1    2\n",
            "2    3\n",
            "3    4\n",
            "dtype: int64\n",
            "RangeIndex(start=0, stop=4, step=1)\n",
            "[1 2 3 4]\n",
            "Index(['a', 'b', 'c', 'd'], dtype='object')\n",
            "[1 2 7 8]\n",
            "a    1\n",
            "b    2\n",
            "c    7\n",
            "d    8\n",
            "dtype: int64\n",
            "   self  other\n",
            "2   3.0    9.0\n",
            "3   4.0    0.0\n"
          ]
        },
        {
          "output_type": "execute_result",
          "data": {
            "text/plain": [
              "'\\n->Dataframe - for multi dimentional arrays, table, values\\n'"
            ],
            "application/vnd.google.colaboratory.intrinsic+json": {
              "type": "string"
            }
          },
          "metadata": {},
          "execution_count": 25
        }
      ],
      "source": [
        "#pandas lib notes & ref pgm\n",
        "\"\"\"\n",
        "pandas used to work with data sets, used to clean, evaluate, analysis data.\n",
        "->has 2 classes: series & dataframe\n",
        "->Series - for 1d data, series, can hold different data types\n",
        "\"\"\"\n",
        "#Pandas Series\n",
        "#import numpy as np\n",
        "import pandas as pd\n",
        "s1=pd.Series([1,2,3,4]) #assigning values to series in pandas\n",
        "print(s1) # printing the series\n",
        "print(s1.index)\n",
        "print(s1.values)\n",
        "s2=pd.Series([1,2,7,8],index=['a','b','c','d'])\n",
        "print(s2.index)\n",
        "print(s2.values)\n",
        "print(s2)\n",
        "s3=pd.Series([1,2,9,0])\n",
        "print(s1.compare(s3)) # give dif values as result\n",
        "\n"
      ]
    },
    {
      "cell_type": "code",
      "source": [
        "#Dataframe - for multi dimentional arrays, table, values\n",
        "# Pandas Dataframe with list & Dict\n",
        "import pandas as pd\n",
        "cust_list=[['jani','Saree','10'],['seetha','Chudi',4],['raja','leganga',1],['ratha','jeans',5]]\n",
        "df_cust=pd.DataFrame(cust_list,columns=['CustomerName','Pdt','Qty'],index=['jani@mail','seetha@mail','raja@mail','ratha@mail'])\n",
        "print(df_cust)\n",
        "print(df_cust.head(1)) # gives no of data from top of data\n",
        "print(df_cust.tail(1)) # gives no of data from bottom of data\n",
        "print(df_cust.shape) # give the no of rows, col list\n",
        "cust_dict={\"Provisions\":[\"Rice\",\"Dhal\",\"Ghee\"],'Qty in kg':[25,5,1],'Rates':[1200,1000,500]}\n",
        "df_pdt=pd.DataFrame(cust_dict)\n",
        "print(df_pdt)\n"
      ],
      "metadata": {
        "colab": {
          "base_uri": "https://localhost:8080/"
        },
        "id": "zp8DzIuDXdJG",
        "outputId": "a81c2b02-ab56-47b6-fa31-3ce271b2fe32"
      },
      "execution_count": 18,
      "outputs": [
        {
          "output_type": "stream",
          "name": "stdout",
          "text": [
            "            CustomerName      Pdt Qty\n",
            "jani@mail           jani    Saree  10\n",
            "seetha@mail       seetha    Chudi   4\n",
            "raja@mail           raja  leganga   1\n",
            "ratha@mail         ratha    jeans   5\n",
            "          CustomerName    Pdt Qty\n",
            "jani@mail         jani  Saree  10\n",
            "           CustomerName    Pdt Qty\n",
            "ratha@mail        ratha  jeans   5\n",
            "(4, 3)\n",
            "  Provisions  Qty in kg  Rates\n",
            "0       Rice         25   1200\n",
            "1       Dhal          5   1000\n",
            "2       Ghee          1    500\n"
          ]
        }
      ]
    },
    {
      "cell_type": "code",
      "source": [
        "# Pandas Dataframe reading files\n",
        "import pandas as pd\n",
        "df=pd.read_excel('/content/drive/MyDrive/Python training/test.xlsx')\n",
        "#df=pd.read_excel('/content/drive/MyDrive/Python training/test.xlsx',header=none)->removes header in file\n",
        "#df=pd.read_excel('/content/drive/MyDrive/Python training/test.xlsx',skiprows=1)->skips given no of rows in file\n",
        "#df=pd.read_excel('/content/drive/MyDrive/Python training/test.xlsx',comment=\"..\")->considers given symbol with double quotes as comments & ignore it.\n",
        "print(df)"
      ],
      "metadata": {
        "colab": {
          "base_uri": "https://localhost:8080/"
        },
        "id": "nNtry2nKcisd",
        "outputId": "f6f1711c-8f11-42f7-b150-a022a51e9ea6"
      },
      "execution_count": 22,
      "outputs": [
        {
          "output_type": "stream",
          "name": "stdout",
          "text": [
            "    Name  Marks\n",
            "0  rekha     90\n",
            "1    len     25\n",
            "2    abc     78\n"
          ]
        }
      ]
    }
  ]
}