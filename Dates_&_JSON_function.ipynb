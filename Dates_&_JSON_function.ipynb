{
  "nbformat": 4,
  "nbformat_minor": 0,
  "metadata": {
    "colab": {
      "provenance": [],
      "authorship_tag": "ABX9TyPLdWyW1Iu1ASjuzTTnjQog",
      "include_colab_link": true
    },
    "kernelspec": {
      "name": "python3",
      "display_name": "Python 3"
    },
    "language_info": {
      "name": "python"
    }
  },
  "cells": [
    {
      "cell_type": "markdown",
      "metadata": {
        "id": "view-in-github",
        "colab_type": "text"
      },
      "source": [
        "<a href=\"https://colab.research.google.com/github/VidhyaKishor27/Pythonbasic/blob/main/Dates_%26_JSON_function.ipynb\" target=\"_parent\"><img src=\"https://colab.research.google.com/assets/colab-badge.svg\" alt=\"Open In Colab\"/></a>"
      ]
    },
    {
      "cell_type": "code",
      "execution_count": null,
      "metadata": {
        "colab": {
          "base_uri": "https://localhost:8080/"
        },
        "id": "U9BXjHc3cNUf",
        "outputId": "7e6ae09d-95dc-4aa7-e19b-aeb3a7389e72"
      },
      "outputs": [
        {
          "output_type": "stream",
          "name": "stdout",
          "text": [
            "2023-12-07 22:58:03.806899\n",
            "2023\n",
            "Thursday\n",
            "2023:12:07 16:58:03 CST -0600\n"
          ]
        }
      ],
      "source": [
        "# Date & time in python\n",
        "# we need to import a module named datetime to work with dates as date objects.\n",
        "#we need to import a module named pytz to work with timezones.\n",
        "# use functions: 1. datetime(year,month,date) hrs, mins,sec,ect are optional 2. strftime(%A) -> Convert datetime object to string, have set of legal string formats to be passed, ref w3 school date sec.\n",
        "\n",
        "import datetime as dt\n",
        "import pytz\n",
        "today = dt.datetime.now() # get current date & time\n",
        "print(today)\n",
        "print(today.year)\n",
        "ustime=dt.datetime.now(pytz.timezone('US/Central'))\n",
        "print(today.strftime(\"%A\"))\n",
        "print(ustime.strftime(\"%Y:%m:%d %H:%M:%S %Z %z\"))\n"
      ]
    },
    {
      "cell_type": "code",
      "source": [
        "#JSON - JavaScript Object Notation (JSON) is a lightweight data-interchange format that is easy for humans to read and write and easy for machines to parse and generate.\n",
        "#JSON is a syntax for storing and exchanging data across different browsers & networks. JSON is the universal standard of data exchange.\n",
        "#JSON is text, written with JavaScript object notation.\n",
        "#Import the json module to work with JSON data.\n",
        "#It is medium for describing and exchanging text-based data. it is human readable.\n",
        "# datetime objects and set data types are not serializable. Trying to serialize such objects will raise a TypeError.\n",
        "import json\n",
        "dict={'Name':\"Vidhya\",'Age':31,'City':'Allen'} # can use single or doubel quotes in dict for str\n",
        "# Convert the dictionary to JSON format\n",
        "json_data=json.dumps(dict, indent=2) #->dump(): takes in a json object and returns a string.\n",
        "print(json_data)\n",
        "json_data=json.dumps(dict) #->dump(): takes in a json object and returns a string.\n",
        "print(json_data)\n",
        "j_data='{\"Name\":\"Vidhya\",\"Age\":31,\"City\":\"Allen\"}' # shd use only double quotes in JSON formatted string\n",
        "# Convert the JSON string to a Python dictionary\n",
        "json_data1=json.loads(j_data) #->loads() takes in a string and returns a json object\n",
        "print(json_data1)\n"
      ],
      "metadata": {
        "id": "3omWCetjgLnP",
        "colab": {
          "base_uri": "https://localhost:8080/"
        },
        "outputId": "143da9b0-712f-4a82-ff04-0857e5fcdf10"
      },
      "execution_count": 8,
      "outputs": [
        {
          "output_type": "stream",
          "name": "stdout",
          "text": [
            "{\n",
            "  \"Name\": \"Vidhya\",\n",
            "  \"Age\": 31,\n",
            "  \"City\": \"Allen\"\n",
            "}\n",
            "{\"Name\": \"Vidhya\", \"Age\": 31, \"City\": \"Allen\"}\n",
            "{'Name': 'Vidhya', 'Age': 31, 'City': 'Allen'}\n"
          ]
        }
      ]
    }
  ]
}