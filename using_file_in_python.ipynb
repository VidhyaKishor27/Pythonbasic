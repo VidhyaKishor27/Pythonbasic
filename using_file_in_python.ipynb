{
  "nbformat": 4,
  "nbformat_minor": 0,
  "metadata": {
    "colab": {
      "provenance": [],
      "authorship_tag": "ABX9TyO3wrHKzUvSA7KA9a98+R2o",
      "include_colab_link": true
    },
    "kernelspec": {
      "name": "python3",
      "display_name": "Python 3"
    },
    "language_info": {
      "name": "python"
    }
  },
  "cells": [
    {
      "cell_type": "markdown",
      "metadata": {
        "id": "view-in-github",
        "colab_type": "text"
      },
      "source": [
        "<a href=\"https://colab.research.google.com/github/VidhyaKishor27/Pythonbasic/blob/main/using_file_in_python.ipynb\" target=\"_parent\"><img src=\"https://colab.research.google.com/assets/colab-badge.svg\" alt=\"Open In Colab\"/></a>"
      ]
    },
    {
      "cell_type": "code",
      "execution_count": 12,
      "metadata": {
        "id": "Q2-6DqkOE7HU",
        "colab": {
          "base_uri": "https://localhost:8080/"
        },
        "outputId": "c714e0e6-0b4e-4d45-fdc8-886142a2bd1f"
      },
      "outputs": [
        {
          "output_type": "stream",
          "name": "stdout",
          "text": [
            "Drive already mounted at /content/drive; to attempt to forcibly remount, call drive.mount(\"/content/drive\", force_remount=True).\n",
            "   Student ID Student Name  Eng Mark  Maths Mark  Sci Mark\n",
            "0         101         Raja        50          70        68\n",
            "1         102      Gautham        70          69        79\n",
            "2         103         Rani        55          76        81\n",
            "3         104       Swathi        89          90        95\n",
            "4         105     Chandran        78          75        89\n",
            "   Student ID Student Name  Eng Mark  Maths Mark  Sci Mark Total Marks\n",
            "0         101         Raja        50          70        68         188\n",
            "1         102      Gautham        70          69        79         218\n",
            "2         103         Rani        55          76        81         212\n",
            "3         104       Swathi        89          90        95         274\n",
            "4         105     Chandran        78          75        89         242\n"
          ]
        }
      ],
      "source": [
        "from google.colab import drive\n",
        "drive.mount('/content/drive')\n",
        "#using excel file in python\n",
        "import pandas as pd\n",
        "datafile = pd.read_excel('/content/drive/MyDrive/Python training/Student.xlsx')\n",
        "print(datafile)\n",
        "datafile['Total Marks'] = None\n",
        "index_EngMark = datafile.columns.get_loc('Eng Mark')\n",
        "index_MathsMark = datafile.columns.get_loc('Maths Mark')\n",
        "index_SciMark = datafile.columns.get_loc('Sci Mark')\n",
        "index_Total = datafile.columns.get_loc('Total Marks')\n",
        "for row in range(0,len(datafile)):\n",
        " datafile.iloc[row,index_Total]= datafile.iloc[row,index_EngMark]+datafile.iloc[row,index_MathsMark]+datafile.iloc[row,index_SciMark]\n",
        "print(datafile)"
      ]
    }
  ]
}