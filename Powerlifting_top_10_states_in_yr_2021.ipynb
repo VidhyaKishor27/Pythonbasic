{
  "nbformat": 4,
  "nbformat_minor": 0,
  "metadata": {
    "colab": {
      "provenance": [],
      "authorship_tag": "ABX9TyN32e7CVutFdI6bW1iLe9ug",
      "include_colab_link": true
    },
    "kernelspec": {
      "name": "python3",
      "display_name": "Python 3"
    },
    "language_info": {
      "name": "python"
    }
  },
  "cells": [
    {
      "cell_type": "markdown",
      "metadata": {
        "id": "view-in-github",
        "colab_type": "text"
      },
      "source": [
        "<a href=\"https://colab.research.google.com/github/VidhyaKishor27/Pythonbasic/blob/main/Powerlifting_top_10_states_in_yr_2021.ipynb\" target=\"_parent\"><img src=\"https://colab.research.google.com/assets/colab-badge.svg\" alt=\"Open In Colab\"/></a>"
      ]
    },
    {
      "cell_type": "code",
      "execution_count": 3,
      "metadata": {
        "id": "MciQgUuJFeKx",
        "colab": {
          "base_uri": "https://localhost:8080/"
        },
        "outputId": "6745d2a2-81af-45e1-b037-ac6881b572e2"
      },
      "outputs": [
        {
          "output_type": "stream",
          "name": "stdout",
          "text": [
            "Drive already mounted at /content/drive; to attempt to forcibly remount, call drive.mount(\"/content/drive\", force_remount=True).\n"
          ]
        },
        {
          "output_type": "stream",
          "name": "stderr",
          "text": [
            "<ipython-input-3-03db4713beaf>:5: DtypeWarning: Columns (35,38) have mixed types. Specify dtype option on import or set low_memory=False.\n",
            "  data=pd.read_csv('/content/drive/MyDrive/Python training/Miniproject - python/openpowerlifting-2021-12-10-b420db66.csv', dtype={'Sex':str,'State':str})\n",
            "<ipython-input-3-03db4713beaf>:10: SettingWithCopyWarning: \n",
            "A value is trying to be set on a copy of a slice from a DataFrame.\n",
            "Try using .loc[row_indexer,col_indexer] = value instead\n",
            "\n",
            "See the caveats in the documentation: https://pandas.pydata.org/pandas-docs/stable/user_guide/indexing.html#returning-a-view-versus-a-copy\n",
            "  men_only['Date']=pd.to_datetime(men_only['Date'])\n",
            "<ipython-input-3-03db4713beaf>:11: SettingWithCopyWarning: \n",
            "A value is trying to be set on a copy of a slice from a DataFrame.\n",
            "Try using .loc[row_indexer,col_indexer] = value instead\n",
            "\n",
            "See the caveats in the documentation: https://pandas.pydata.org/pandas-docs/stable/user_guide/indexing.html#returning-a-view-versus-a-copy\n",
            "  men_only['Year']=men_only['Date'].dt.year\n"
          ]
        },
        {
          "output_type": "stream",
          "name": "stdout",
          "text": [
            "State\n",
            "CA    3384\n",
            "TX    3037\n",
            "FL    1781\n",
            "OH    1529\n",
            "PA    1183\n",
            "VA    1156\n",
            "NC    1109\n",
            "NY    1033\n",
            "GA     935\n",
            "MO     893\n",
            "dtype: int64\n"
          ]
        }
      ],
      "source": [
        "import pandas as pd\n",
        "import numpy as np\n",
        "from google.colab import drive\n",
        "drive.mount('/content/drive')\n",
        "data=pd.read_csv('/content/drive/MyDrive/Python training/Miniproject - python/openpowerlifting-2021-12-10-b420db66.csv', dtype={'Sex':str,'State':str})\n",
        "men_only=data[data[\"Sex\"] == \"M\"]\n",
        "#women_only=data[data[\"Sex\"] == \"F\"]\n",
        "#m=men_only.groupby(['State']).size().sort_values(ascending=False)\n",
        "#w=women_only.groupby(['State']).size().sort_values(ascending=False)\n",
        "men_only['Date']=pd.to_datetime(men_only['Date'])\n",
        "men_only['Year']=men_only['Date'].dt.year\n",
        "m_yr_only=men_only.query('Year == 2021')\n",
        "m=m_yr_only.groupby(['State']).size().sort_values(ascending=False)\n",
        "print(m.head(10))\n",
        "\n",
        "\n"
      ]
    }
  ]
}