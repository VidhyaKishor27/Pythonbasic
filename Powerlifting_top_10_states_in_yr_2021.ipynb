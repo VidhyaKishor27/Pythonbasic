{
  "nbformat": 4,
  "nbformat_minor": 0,
  "metadata": {
    "colab": {
      "provenance": [],
      "authorship_tag": "ABX9TyM81QBqLgjI7cHzaTx1G62q",
      "include_colab_link": true
    },
    "kernelspec": {
      "name": "python3",
      "display_name": "Python 3"
    },
    "language_info": {
      "name": "python"
    }
  },
  "cells": [
    {
      "cell_type": "markdown",
      "metadata": {
        "id": "view-in-github",
        "colab_type": "text"
      },
      "source": [
        "<a href=\"https://colab.research.google.com/github/VidhyaKishor27/Pythonbasic/blob/main/Powerlifting_top_10_states_in_yr_2021.ipynb\" target=\"_parent\"><img src=\"https://colab.research.google.com/assets/colab-badge.svg\" alt=\"Open In Colab\"/></a>"
      ]
    },
    {
      "cell_type": "code",
      "execution_count": 8,
      "metadata": {
        "id": "MciQgUuJFeKx",
        "colab": {
          "base_uri": "https://localhost:8080/"
        },
        "outputId": "4d820808-cbb8-41bb-8a91-2dd7e44429a0"
      },
      "outputs": [
        {
          "output_type": "stream",
          "name": "stdout",
          "text": [
            "Drive already mounted at /content/drive; to attempt to forcibly remount, call drive.mount(\"/content/drive\", force_remount=True).\n",
            " Top 10 states for Men in year 2021\n",
            "State\n",
            "CA    3384\n",
            "TX    3037\n",
            "FL    1781\n",
            "OH    1529\n",
            "PA    1183\n",
            "VA    1156\n",
            "NC    1109\n",
            "NY    1033\n",
            "GA     935\n",
            "MO     893\n",
            "dtype: int64\n",
            " Top 10 states for Women in year 2021\n",
            "State\n",
            "CA    14639\n",
            "TX    11432\n",
            "FL     5199\n",
            "WI     4396\n",
            "WA     4256\n",
            "NY     4168\n",
            "OH     4110\n",
            "PA     4003\n",
            "VA     3781\n",
            "NC     3744\n",
            "dtype: int64\n"
          ]
        }
      ],
      "source": [
        "import pandas as pd\n",
        "import numpy as np\n",
        "from google.colab import drive\n",
        "drive.mount('/content/drive')\n",
        "data=pd.read_csv('/content/drive/MyDrive/Python training/Miniproject - python/openpowerlifting-2021-12-10-b420db66.csv', dtype='unicode', low_memory=False)\n",
        "men_only=data[data[\"Sex\"] == \"M\"]\n",
        "women_only=data[data[\"Sex\"] == \"F\"]\n",
        "men_only_new=men_only.copy() # Create a copy of view dataframe to avoid chainned assignment error i.e setting with copy warning - warning arises when you try to modify a DataFrame that might be a view of another DataFrame.\n",
        "men_only_new['Date']=pd.to_datetime(men_only_new['Date']).dt.year # converting date format to year\n",
        "men_only=men_only_new # Assign back to the original variable\n",
        "m_yr_only=men_only.query('Date == 2021')\n",
        "m=m_yr_only.groupby(['State']).size().sort_values(ascending=False)\n",
        "print(\" Top 10 states for Men in year 2021\")\n",
        "print(m.head(10))\n",
        "women_only_new=women_only.copy() # Create a copy of view dataframe to avoid chainned assignment error i.e setting with copy warning - warning arises when you try to modify a DataFrame that might be a view of another DataFrame.\n",
        "women_only_new['Date']=pd.to_datetime(women_only_new['Date']).dt.year # converting date format to year\n",
        "women_only=women_only_new # Assign back to the original variable\n",
        "w_yr_only=women_only.query('Date == 2021')\n",
        "w=women_only.groupby(['State']).size().sort_values(ascending=False)\n",
        "print(\" Top 10 states for Women in year 2021\")\n",
        "print(w.head(10))\n"
      ]
    }
  ]
}