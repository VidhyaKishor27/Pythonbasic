{
  "nbformat": 4,
  "nbformat_minor": 0,
  "metadata": {
    "colab": {
      "provenance": [],
      "mount_file_id": "1I_KlnROTSBnjnPIpBV7evyugfjK6cl_U",
      "authorship_tag": "ABX9TyNdg3PvTAcEvQUkASiHGfgM",
      "include_colab_link": true
    },
    "kernelspec": {
      "name": "python3",
      "display_name": "Python 3"
    },
    "language_info": {
      "name": "python"
    }
  },
  "cells": [
    {
      "cell_type": "markdown",
      "metadata": {
        "id": "view-in-github",
        "colab_type": "text"
      },
      "source": [
        "<a href=\"https://colab.research.google.com/github/VidhyaKishor27/Pythonbasic/blob/main/Miniproject_6.ipynb\" target=\"_parent\"><img src=\"https://colab.research.google.com/assets/colab-badge.svg\" alt=\"Open In Colab\"/></a>"
      ]
    },
    {
      "cell_type": "code",
      "execution_count": 1,
      "metadata": {
        "colab": {
          "base_uri": "https://localhost:8080/"
        },
        "id": "ncZHegBimE3I",
        "outputId": "64bb544e-987f-48a3-8db8-2a1ce8bf8231"
      },
      "outputs": [
        {
          "output_type": "stream",
          "name": "stdout",
          "text": [
            "Mounted at /content/drive\n",
            "                                           Indicator Country        Date  \\\n",
            "0  Cumulative number of confirmed, probable and s...  Guinea  2015-03-10   \n",
            "1         Cumulative number of confirmed Ebola cases  Guinea  2015-03-10   \n",
            "2          Cumulative number of probable Ebola cases  Guinea  2015-03-10   \n",
            "\n",
            "    value  \n",
            "0  3285.0  \n",
            "1  2871.0  \n",
            "2   392.0  \n"
          ]
        }
      ],
      "source": [
        "import pandas as pd\n",
        "import numpy as np\n",
        "from tabulate import tabulate\n",
        "from google.colab import drive\n",
        "drive.mount('/content/drive')\n",
        "eb=pd.read_csv('/content/drive/MyDrive/Python training/Miniproject - python/ebola_data_db_format.csv')\n",
        "print(eb.head(3))"
      ]
    },
    {
      "cell_type": "markdown",
      "source": [
        "1. Distinct # of Indicators in the universe (complete dataset).\n",
        "Output:\n",
        "Integer value\n"
      ],
      "metadata": {
        "id": "2toVnZ4RR7j3"
      }
    },
    {
      "cell_type": "code",
      "source": [
        "unique_indicator=eb['Indicator'].nunique()\n",
        "print(\"No. of Distinct Indicators:\",unique_indicator)"
      ],
      "metadata": {
        "colab": {
          "base_uri": "https://localhost:8080/"
        },
        "id": "lwrVY6ZwR9K3",
        "outputId": "0bb00934-b25c-4266-8ae8-8a9d1fe657de"
      },
      "execution_count": null,
      "outputs": [
        {
          "output_type": "stream",
          "name": "stdout",
          "text": [
            "No. of Distinct Indicators: 36\n"
          ]
        }
      ]
    },
    {
      "cell_type": "markdown",
      "source": [
        "2. In the second half of the year 2015, how many countries have one or more “Cumulative number of confirmed Ebola cases”\n",
        "Output:\n",
        "Integer value\n"
      ],
      "metadata": {
        "id": "PKocqsOXSx36"
      }
    },
    {
      "cell_type": "code",
      "source": [
        "eb['Date']=pd.to_datetime(eb['Date'])\n",
        "eb['year'] = eb['Date'].dt.year\n",
        "eb['month'] = eb['Date'].dt.month\n",
        "#print(eb.head(3))\n",
        "filtered_2015=eb.where(eb['year']==2015,inplace=False)\n",
        "print(filtered_2015)\n",
        "month_2015=filtered_2015.where(filtered_2015['month'] > 6,inplace=False)\n",
        "question2=month_2015.where(month_2015['Indicator']==\"Cumulative number of confirmed Ebola cases\",inplace=False)\n",
        "country=question2['Country'].nunique()\n",
        "print(\"No. of Countries having one or more \\' Cumulative no. of confirmed Ebola cases\\':\",country)\n"
      ],
      "metadata": {
        "colab": {
          "base_uri": "https://localhost:8080/"
        },
        "id": "HY_2OANLS2Mo",
        "outputId": "345dff77-a490-4e69-93da-8b09f5be6846"
      },
      "execution_count": 17,
      "outputs": [
        {
          "output_type": "stream",
          "name": "stdout",
          "text": [
            "                                               Indicator Country       Date  \\\n",
            "0      Cumulative number of confirmed, probable and s...  Guinea 2015-03-10   \n",
            "1             Cumulative number of confirmed Ebola cases  Guinea 2015-03-10   \n",
            "2              Cumulative number of probable Ebola cases  Guinea 2015-03-10   \n",
            "3             Cumulative number of suspected Ebola cases  Guinea 2015-03-10   \n",
            "4      Cumulative number of confirmed, probable and s...  Guinea 2015-03-10   \n",
            "...                                                  ...     ...        ...   \n",
            "17580                                                NaN     NaN        NaT   \n",
            "17581                                                NaN     NaN        NaT   \n",
            "17582                                                NaN     NaN        NaT   \n",
            "17583                                                NaN     NaN        NaT   \n",
            "17584                                                NaN     NaN        NaT   \n",
            "\n",
            "        value    year  month  \n",
            "0      3285.0  2015.0    3.0  \n",
            "1      2871.0  2015.0    3.0  \n",
            "2       392.0  2015.0    3.0  \n",
            "3        22.0  2015.0    3.0  \n",
            "4      2170.0  2015.0    3.0  \n",
            "...       ...     ...    ...  \n",
            "17580     NaN     NaN    NaN  \n",
            "17581     NaN     NaN    NaN  \n",
            "17582     NaN     NaN    NaN  \n",
            "17583     NaN     NaN    NaN  \n",
            "17584     NaN     NaN    NaN  \n",
            "\n",
            "[17585 rows x 6 columns]\n",
            "No. of Countries having one or more ' Cumulative no. of confirmed Ebola cases': 11\n"
          ]
        }
      ]
    },
    {
      "cell_type": "markdown",
      "source": [
        "3. Top 10 total Ebola cases confirmed. Note that Indicator = Cumulative number of confirmed Ebola cases. Include rank based on the total value (=cases confirmed).\n",
        "Output:\n",
        "country, total_value, rank\n"
      ],
      "metadata": {
        "id": "EnWd_vVbcbpK"
      }
    },
    {
      "cell_type": "code",
      "source": [
        "question3=eb.where(eb['Indicator']==\"Cumulative number of confirmed Ebola cases\",inplace=False)\n",
        "top10_ebola=question3.groupby(['Country'])['value'].sum().to_frame('TotalValue').sort_values(by='TotalValue',ascending=False).reset_index()\n",
        "top10_ebola['Rank']=top10_ebola['TotalValue'].rank(ascending=False)\n",
        "print(tabulate(top10_ebola.head(10),headers=['Country','Total Value','Rank'],tablefmt='grid'))\n"
      ],
      "metadata": {
        "id": "s4_twKqic2jW",
        "outputId": "88aed3b6-8a2c-44d6-a864-7cd0ab998d93",
        "colab": {
          "base_uri": "https://localhost:8080/"
        }
      },
      "execution_count": 7,
      "outputs": [
        {
          "output_type": "stream",
          "name": "stdout",
          "text": [
            "+----+--------------------------+------------------+--------+\n",
            "|    | Country                  |      Total Value |   Rank |\n",
            "+====+==========================+==================+========+\n",
            "|  0 | Sierra Leone             |      2.04187e+06 |      1 |\n",
            "+----+--------------------------+------------------+--------+\n",
            "|  1 | Liberia                  | 768079           |      2 |\n",
            "+----+--------------------------+------------------+--------+\n",
            "|  2 | Guinea                   | 749622           |      3 |\n",
            "+----+--------------------------+------------------+--------+\n",
            "|  3 | Nigeria                  |   4840           |      4 |\n",
            "+----+--------------------------+------------------+--------+\n",
            "|  4 | Mali                     |   1658           |      5 |\n",
            "+----+--------------------------+------------------+--------+\n",
            "|  5 | United States of America |    967           |      6 |\n",
            "+----+--------------------------+------------------+--------+\n",
            "|  6 | Liberia 2                |    657           |      7 |\n",
            "+----+--------------------------+------------------+--------+\n",
            "|  7 | Senegal                  |    254           |      8 |\n",
            "+----+--------------------------+------------------+--------+\n",
            "|  8 | Spain                    |    243           |      9 |\n",
            "+----+--------------------------+------------------+--------+\n",
            "|  9 | United Kingdom           |    221           |     10 |\n",
            "+----+--------------------------+------------------+--------+\n"
          ]
        }
      ]
    },
    {
      "cell_type": "markdown",
      "source": [
        "4. Top 10 countries that have total cases with Indicator = “Cumulative number of confirmed probable and suspected Ebola deaths” in 2015 Q2 (i.e., April-June 2015).\n",
        "Output:\n",
        "country, total_cases, rank\n"
      ],
      "metadata": {
        "id": "6qa2bZ8DfFBE"
      }
    },
    {
      "cell_type": "code",
      "source": [
        "#cond1=filtered_2015['month'] > 3\n",
        "#cond2=filtered_2015['month'] < 7\n",
        "Q2_2015=filtered_2015.where((filtered_2015['month'] > 3) & (filtered_2015['month'] < 7),inplace=False)\n",
        "question4=Q2_2015.where(Q2_2015['Indicator']==\"Cumulative number of confirmed probable and suspected Ebola deaths\",inplace=False)\n",
        "Q2_eboladeath=question4.groupby(['Country'])['value'].sum().to_frame('TotalCases').sort_values(by='TotalCases',ascending=False).reset_index()\n",
        "Q2_eboladeath['Rank']=Q2_eboladeath['TotalCases'].rank(ascending=False)\n",
        "print(tabulate(Q2_eboladeath.head(10),headers=['Country','Total Cases','Rank'],tablefmt='grid'))\n",
        "#print(Q2_eboladeath)"
      ],
      "metadata": {
        "id": "63HnpsoRfKkC",
        "outputId": "593ac034-81c7-4e37-b1da-8ade6e5e9ca6",
        "colab": {
          "base_uri": "https://localhost:8080/"
        }
      },
      "execution_count": 22,
      "outputs": [
        {
          "output_type": "stream",
          "name": "stdout",
          "text": [
            "+-----------+---------------+--------+\n",
            "| Country   | Total Cases   | Rank   |\n",
            "+===========+===============+========+\n",
            "+-----------+---------------+--------+\n"
          ]
        }
      ]
    }
  ]
}