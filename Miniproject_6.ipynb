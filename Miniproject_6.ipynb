{
  "nbformat": 4,
  "nbformat_minor": 0,
  "metadata": {
    "colab": {
      "provenance": [],
      "mount_file_id": "1I_KlnROTSBnjnPIpBV7evyugfjK6cl_U",
      "authorship_tag": "ABX9TyN7j0vDr2qoWzRR+i1qYcIM",
      "include_colab_link": true
    },
    "kernelspec": {
      "name": "python3",
      "display_name": "Python 3"
    },
    "language_info": {
      "name": "python"
    }
  },
  "cells": [
    {
      "cell_type": "markdown",
      "metadata": {
        "id": "view-in-github",
        "colab_type": "text"
      },
      "source": [
        "<a href=\"https://colab.research.google.com/github/VidhyaKishor27/Pythonbasic/blob/main/Miniproject_6.ipynb\" target=\"_parent\"><img src=\"https://colab.research.google.com/assets/colab-badge.svg\" alt=\"Open In Colab\"/></a>"
      ]
    },
    {
      "cell_type": "code",
      "execution_count": 16,
      "metadata": {
        "colab": {
          "base_uri": "https://localhost:8080/"
        },
        "id": "ncZHegBimE3I",
        "outputId": "11569974-1fe4-47c4-bfb1-54590d866095"
      },
      "outputs": [
        {
          "output_type": "stream",
          "name": "stdout",
          "text": [
            "Drive already mounted at /content/drive; to attempt to forcibly remount, call drive.mount(\"/content/drive\", force_remount=True).\n",
            "                                           Indicator Country        Date  \\\n",
            "0  Cumulative number of confirmed, probable and s...  Guinea  2015-03-10   \n",
            "1         Cumulative number of confirmed Ebola cases  Guinea  2015-03-10   \n",
            "2          Cumulative number of probable Ebola cases  Guinea  2015-03-10   \n",
            "\n",
            "    value  \n",
            "0  3285.0  \n",
            "1  2871.0  \n",
            "2   392.0  \n"
          ]
        }
      ],
      "source": [
        "import pandas as pd\n",
        "import numpy as np\n",
        "from tabulate import tabulate\n",
        "from google.colab import drive\n",
        "drive.mount('/content/drive')\n",
        "eb=pd.read_csv('/content/drive/MyDrive/Python training/Miniproject - python/ebola_data_db_format.csv')\n",
        "print(eb.head(3))"
      ]
    },
    {
      "cell_type": "markdown",
      "source": [
        "1. Distinct # of Indicators in the universe (complete dataset).\n",
        "Output:\n",
        "Integer value\n"
      ],
      "metadata": {
        "id": "2toVnZ4RR7j3"
      }
    },
    {
      "cell_type": "code",
      "source": [
        "unique_indicator=eb['Indicator'].nunique()\n",
        "print(\"No. of Distinct Indicators:\",unique_indicator)"
      ],
      "metadata": {
        "colab": {
          "base_uri": "https://localhost:8080/"
        },
        "id": "lwrVY6ZwR9K3",
        "outputId": "0bb00934-b25c-4266-8ae8-8a9d1fe657de"
      },
      "execution_count": 4,
      "outputs": [
        {
          "output_type": "stream",
          "name": "stdout",
          "text": [
            "No. of Distinct Indicators: 36\n"
          ]
        }
      ]
    },
    {
      "cell_type": "markdown",
      "source": [
        "2. In the second half of the year 2015, how many countries have one or more “Cumulative number of confirmed Ebola cases”\n",
        "Output:\n",
        "Integer value\n"
      ],
      "metadata": {
        "id": "PKocqsOXSx36"
      }
    },
    {
      "cell_type": "code",
      "source": [
        "eb['Date']=pd.to_datetime(eb['Date'])\n",
        "eb['year'] = eb['Date'].dt.year\n",
        "eb['month'] = eb['Date'].dt.month\n",
        "#print(eb.head(3))\n",
        "filtered_2015=eb.where(eb['year']==2015,inplace=False)\n",
        "#print(filtered_2015)\n",
        "#month_2015=filtered_2015.where(filtered_2015['month'] > 6,inplace=False)\n",
        "question2=filtered_2015.where(filtered_2015['Indicator']==\"Cumulative number of confirmed Ebola cases\",inplace=False)\n",
        "country=question2['Country'].nunique()\n",
        "print(\"No. of Countries having one or more \\' Cumulative no. of confirmed Ebola cases\\':\",country)\n"
      ],
      "metadata": {
        "colab": {
          "base_uri": "https://localhost:8080/"
        },
        "id": "HY_2OANLS2Mo",
        "outputId": "83c58c59-7fc0-48e3-bbda-2978711a2601"
      },
      "execution_count": 24,
      "outputs": [
        {
          "output_type": "stream",
          "name": "stdout",
          "text": [
            "No. of Countries having one or more ' Cumulative no. of confirmed Ebola cases': 11\n"
          ]
        }
      ]
    }
  ]
}