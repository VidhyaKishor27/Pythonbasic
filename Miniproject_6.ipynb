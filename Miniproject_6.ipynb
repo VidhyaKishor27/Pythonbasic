{
  "nbformat": 4,
  "nbformat_minor": 0,
  "metadata": {
    "colab": {
      "provenance": [],
      "mount_file_id": "1I_KlnROTSBnjnPIpBV7evyugfjK6cl_U",
      "authorship_tag": "ABX9TyMlouIaJqmJa9Isi5GwnrFO",
      "include_colab_link": true
    },
    "kernelspec": {
      "name": "python3",
      "display_name": "Python 3"
    },
    "language_info": {
      "name": "python"
    }
  },
  "cells": [
    {
      "cell_type": "markdown",
      "metadata": {
        "id": "view-in-github",
        "colab_type": "text"
      },
      "source": [
        "<a href=\"https://colab.research.google.com/github/VidhyaKishor27/Pythonbasic/blob/main/Miniproject_6.ipynb\" target=\"_parent\"><img src=\"https://colab.research.google.com/assets/colab-badge.svg\" alt=\"Open In Colab\"/></a>"
      ]
    },
    {
      "cell_type": "code",
      "execution_count": 36,
      "metadata": {
        "colab": {
          "base_uri": "https://localhost:8080/"
        },
        "id": "ncZHegBimE3I",
        "outputId": "992e8909-0999-46e6-e15f-0331808f3ce8"
      },
      "outputs": [
        {
          "output_type": "stream",
          "name": "stdout",
          "text": [
            "Drive already mounted at /content/drive; to attempt to forcibly remount, call drive.mount(\"/content/drive\", force_remount=True).\n",
            "                                           Indicator Country        Date  \\\n",
            "0  Cumulative number of confirmed, probable and s...  Guinea  2015-03-10   \n",
            "1         Cumulative number of confirmed Ebola cases  Guinea  2015-03-10   \n",
            "2          Cumulative number of probable Ebola cases  Guinea  2015-03-10   \n",
            "\n",
            "    value  \n",
            "0  3285.0  \n",
            "1  2871.0  \n",
            "2   392.0  \n"
          ]
        }
      ],
      "source": [
        "import pandas as pd\n",
        "import numpy as np\n",
        "from tabulate import tabulate\n",
        "from google.colab import drive\n",
        "drive.mount('/content/drive')\n",
        "eb=pd.read_csv('/content/drive/MyDrive/Python training/Miniproject - python/ebola_data_db_format.csv')\n",
        "print(eb.head(3))"
      ]
    },
    {
      "cell_type": "markdown",
      "source": [
        "1. Distinct # of Indicators in the universe (complete dataset).\n",
        "Output:\n",
        "Integer value\n"
      ],
      "metadata": {
        "id": "2toVnZ4RR7j3"
      }
    },
    {
      "cell_type": "code",
      "source": [
        "unique_indicator=eb['Indicator'].nunique()\n",
        "print(\"No. of Distinct Indicators:\",unique_indicator)"
      ],
      "metadata": {
        "colab": {
          "base_uri": "https://localhost:8080/"
        },
        "id": "lwrVY6ZwR9K3",
        "outputId": "6cd7593f-1cc9-4c7f-dc32-32a14ced818c"
      },
      "execution_count": 3,
      "outputs": [
        {
          "output_type": "stream",
          "name": "stdout",
          "text": [
            "No. of Distinct Indicators: 36\n"
          ]
        }
      ]
    },
    {
      "cell_type": "markdown",
      "source": [
        "2. In the second half of the year 2015, how many countries have one or more “Cumulative number of confirmed Ebola cases”\n",
        "Output:\n",
        "Integer value\n"
      ],
      "metadata": {
        "id": "PKocqsOXSx36"
      }
    },
    {
      "cell_type": "code",
      "source": [
        "eb['Date']=pd.to_datetime(eb['Date'])\n",
        "eb['year'] = eb['Date'].dt.year\n",
        "eb['month'] = eb['Date'].dt.month\n",
        "filtered_data = eb[(eb['Indicator'] == \"Cumulative number of confirmed Ebola cases\") & (eb['year'] == 2015) & (eb['month'] > 6)]\n",
        "country=filtered_data['Country'].nunique()\n",
        "print(\"No. of Countries having one or more \\\" Cumulative no of confirmed Ebola cases\\\" are:\",country)"
      ],
      "metadata": {
        "colab": {
          "base_uri": "https://localhost:8080/"
        },
        "id": "HY_2OANLS2Mo",
        "outputId": "fcbfcdbb-20a4-4d42-c71c-3a1ca0fcca88"
      },
      "execution_count": 33,
      "outputs": [
        {
          "output_type": "stream",
          "name": "stdout",
          "text": [
            "No. of Countries having one or more \" Cumulative no of confirmed Ebola cases\" are: 11\n"
          ]
        }
      ]
    },
    {
      "cell_type": "markdown",
      "source": [
        "3. Top 10 total Ebola cases confirmed. Note that Indicator = Cumulative number of confirmed Ebola cases. Include rank based on the total value (=cases confirmed).\n",
        "Output:\n",
        "country, total_value, rank\n"
      ],
      "metadata": {
        "id": "EnWd_vVbcbpK"
      }
    },
    {
      "cell_type": "code",
      "source": [
        "question3=eb[eb['Indicator']==\"Cumulative number of confirmed Ebola cases\"]\n",
        "top10_ebola=question3.groupby(['Country'])['value'].count().to_frame('TotalValue').sort_values(by='TotalValue',ascending=False).reset_index()\n",
        "top10_ebola['Rank']=top10_ebola['TotalValue'].rank(ascending=False)\n",
        "print(tabulate(top10_ebola.head(10),headers=['Country','Total Value','Rank'],tablefmt='grid'))\n"
      ],
      "metadata": {
        "id": "s4_twKqic2jW",
        "outputId": "e286061c-0ee6-4636-8406-23ce10de94d3",
        "colab": {
          "base_uri": "https://localhost:8080/"
        }
      },
      "execution_count": 32,
      "outputs": [
        {
          "output_type": "stream",
          "name": "stdout",
          "text": [
            "+----+--------------------------+---------------+--------+\n",
            "|    | Country                  |   Total Value |   Rank |\n",
            "+====+==========================+===============+========+\n",
            "|  0 | Guinea                   |           259 |    1.5 |\n",
            "+----+--------------------------+---------------+--------+\n",
            "|  1 | Sierra Leone             |           259 |    1.5 |\n",
            "+----+--------------------------+---------------+--------+\n",
            "|  2 | Liberia                  |           258 |    3   |\n",
            "+----+--------------------------+---------------+--------+\n",
            "|  3 | Nigeria                  |           255 |    4   |\n",
            "+----+--------------------------+---------------+--------+\n",
            "|  4 | Senegal                  |           254 |    5   |\n",
            "+----+--------------------------+---------------+--------+\n",
            "|  5 | United States of America |           245 |    6   |\n",
            "+----+--------------------------+---------------+--------+\n",
            "|  6 | Mali                     |           243 |    7.5 |\n",
            "+----+--------------------------+---------------+--------+\n",
            "|  7 | Spain                    |           243 |    7.5 |\n",
            "+----+--------------------------+---------------+--------+\n",
            "|  8 | United Kingdom           |           221 |    9   |\n",
            "+----+--------------------------+---------------+--------+\n",
            "|  9 | Italy                    |           141 |   10   |\n",
            "+----+--------------------------+---------------+--------+\n"
          ]
        }
      ]
    },
    {
      "cell_type": "markdown",
      "source": [
        "4. Top 10 countries that have total cases with Indicator = “Cumulative number of confirmed probable and suspected Ebola deaths” in 2015 Q2 (i.e., April-June 2015).\n",
        "Output:\n",
        "country, total_cases, rank\n"
      ],
      "metadata": {
        "id": "6qa2bZ8DfFBE"
      }
    },
    {
      "cell_type": "code",
      "source": [
        "question4= eb[(eb['Indicator'] == \"Cumulative number of confirmed, probable and suspected Ebola deaths\") & (eb['month'] > 3) & (eb['month'] > 7)]\n",
        "Q2_eboladeath=question4.groupby(['Country'])['value'].count().to_frame('TotalCases').sort_values(by='TotalCases',ascending=False).reset_index()\n",
        "Q2_eboladeath['Rank']=Q2_eboladeath['TotalCases'].rank(ascending=False)\n",
        "print(tabulate(Q2_eboladeath.head(10),headers=['Country','Total Cases','Rank'],tablefmt='grid'))"
      ],
      "metadata": {
        "id": "63HnpsoRfKkC",
        "outputId": "d6e337eb-8514-4bc9-f1ee-8c3c3de6380d",
        "colab": {
          "base_uri": "https://localhost:8080/"
        }
      },
      "execution_count": 31,
      "outputs": [
        {
          "output_type": "stream",
          "name": "stdout",
          "text": [
            "+----+--------------------------+---------------+--------+\n",
            "|    | Country                  |   Total Cases |   Rank |\n",
            "+====+==========================+===============+========+\n",
            "|  0 | Guinea                   |           121 |    2.5 |\n",
            "+----+--------------------------+---------------+--------+\n",
            "|  1 | Liberia                  |           121 |    2.5 |\n",
            "+----+--------------------------+---------------+--------+\n",
            "|  2 | Nigeria                  |           121 |    2.5 |\n",
            "+----+--------------------------+---------------+--------+\n",
            "|  3 | Sierra Leone             |           121 |    2.5 |\n",
            "+----+--------------------------+---------------+--------+\n",
            "|  4 | Senegal                  |           120 |    5   |\n",
            "+----+--------------------------+---------------+--------+\n",
            "|  5 | United States of America |           111 |    6   |\n",
            "+----+--------------------------+---------------+--------+\n",
            "|  6 | Spain                    |           109 |    7   |\n",
            "+----+--------------------------+---------------+--------+\n",
            "|  7 | Mali                     |           105 |    8   |\n",
            "+----+--------------------------+---------------+--------+\n",
            "|  8 | Italy                    |            83 |   10   |\n",
            "+----+--------------------------+---------------+--------+\n",
            "|  9 | Liberia 2                |            83 |   10   |\n",
            "+----+--------------------------+---------------+--------+\n"
          ]
        }
      ]
    },
    {
      "cell_type": "markdown",
      "source": [
        "5. Top 10 countries that have total cases with Indicator = “Cumulative number of confirmed probable and suspected Ebola deaths” with only even months of the year 2015 (i.e., months 2, 4, 6, 8, 10, 12).\n",
        "Output:\n",
        "country, total_cases, rank\n"
      ],
      "metadata": {
        "id": "zj9IpkP9vglv"
      }
    },
    {
      "cell_type": "code",
      "source": [
        "filtered_2015=eb[eb['year']==2015]\n",
        "filtered_2015['month category']=['Odd' if month%2 !=0 else 'Even' for month in filtered_2015['month']]\n",
        "evenmonth=filtered_2015[(filtered_2015['month category'] == 'Even') & (filtered_2015['Indicator']=='Cumulative number of confirmed, probable and suspected Ebola deaths')]\n",
        "top10_que5=evenmonth.groupby(['Country'])['value'].count().to_frame('TotalCases').sort_values(by='TotalCases',ascending=False).reset_index()\n",
        "top10_que5['Rank']=top10_que5['TotalCases'].rank(ascending=False)\n",
        "print(tabulate(top10_que5.head(10),headers=['Country','Total Cases','Rank'],tablefmt='grid'))"
      ],
      "metadata": {
        "id": "0RDrqP3gvl1r",
        "outputId": "1a29182f-c064-4a60-8955-1162484a167c",
        "colab": {
          "base_uri": "https://localhost:8080/"
        }
      },
      "execution_count": 35,
      "outputs": [
        {
          "output_type": "stream",
          "name": "stdout",
          "text": [
            "+----+--------------------------+---------------+--------+\n",
            "|    | Country                  |   Total Cases |   Rank |\n",
            "+====+==========================+===============+========+\n",
            "|  0 | Guinea                   |           105 |      5 |\n",
            "+----+--------------------------+---------------+--------+\n",
            "|  1 | Liberia                  |           105 |      5 |\n",
            "+----+--------------------------+---------------+--------+\n",
            "|  2 | Mali                     |           105 |      5 |\n",
            "+----+--------------------------+---------------+--------+\n",
            "|  3 | Nigeria                  |           105 |      5 |\n",
            "+----+--------------------------+---------------+--------+\n",
            "|  4 | Senegal                  |           105 |      5 |\n",
            "+----+--------------------------+---------------+--------+\n",
            "|  5 | Sierra Leone             |           105 |      5 |\n",
            "+----+--------------------------+---------------+--------+\n",
            "|  6 | Spain                    |           105 |      5 |\n",
            "+----+--------------------------+---------------+--------+\n",
            "|  7 | United Kingdom           |           105 |      5 |\n",
            "+----+--------------------------+---------------+--------+\n",
            "|  8 | United States of America |           105 |      5 |\n",
            "+----+--------------------------+---------------+--------+\n",
            "|  9 | Italy                    |            72 |     10 |\n",
            "+----+--------------------------+---------------+--------+\n"
          ]
        },
        {
          "output_type": "stream",
          "name": "stderr",
          "text": [
            "<ipython-input-35-7fdab2279dd7>:2: SettingWithCopyWarning: \n",
            "A value is trying to be set on a copy of a slice from a DataFrame.\n",
            "Try using .loc[row_indexer,col_indexer] = value instead\n",
            "\n",
            "See the caveats in the documentation: https://pandas.pydata.org/pandas-docs/stable/user_guide/indexing.html#returning-a-view-versus-a-copy\n",
            "  filtered_2015['month category']=['Odd' if month%2 !=0 else 'Even' for month in filtered_2015['month']]\n"
          ]
        }
      ]
    }
  ]
}