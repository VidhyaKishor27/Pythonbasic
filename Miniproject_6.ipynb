{
  "nbformat": 4,
  "nbformat_minor": 0,
  "metadata": {
    "colab": {
      "provenance": [],
      "mount_file_id": "https://github.com/VidhyaKishor27/Pythonbasic/blob/main/Miniproject_6.ipynb",
      "authorship_tag": "ABX9TyMzP0IOsz7mPIdpIjhc2Q/R",
      "include_colab_link": true
    },
    "kernelspec": {
      "name": "python3",
      "display_name": "Python 3"
    },
    "language_info": {
      "name": "python"
    }
  },
  "cells": [
    {
      "cell_type": "markdown",
      "metadata": {
        "id": "view-in-github",
        "colab_type": "text"
      },
      "source": [
        "<a href=\"https://colab.research.google.com/github/VidhyaKishor27/Pythonbasic/blob/main/Miniproject_6.ipynb\" target=\"_parent\"><img src=\"https://colab.research.google.com/assets/colab-badge.svg\" alt=\"Open In Colab\"/></a>"
      ]
    },
    {
      "cell_type": "markdown",
      "source": [
        "Part 1:"
      ],
      "metadata": {
        "id": "2tayHjkMDVrY"
      }
    },
    {
      "cell_type": "code",
      "execution_count": null,
      "metadata": {
        "colab": {
          "base_uri": "https://localhost:8080/"
        },
        "id": "ncZHegBimE3I",
        "outputId": "c387dbe1-01c1-49ba-d308-ff9571a9a061"
      },
      "outputs": [
        {
          "output_type": "stream",
          "name": "stdout",
          "text": [
            "Drive already mounted at /content/drive; to attempt to forcibly remount, call drive.mount(\"/content/drive\", force_remount=True).\n",
            "                                           Indicator Country        Date  \\\n",
            "0  Cumulative number of confirmed, probable and s...  Guinea  2015-03-10   \n",
            "1         Cumulative number of confirmed Ebola cases  Guinea  2015-03-10   \n",
            "2          Cumulative number of probable Ebola cases  Guinea  2015-03-10   \n",
            "\n",
            "    value  \n",
            "0  3285.0  \n",
            "1  2871.0  \n",
            "2   392.0  \n"
          ]
        }
      ],
      "source": [
        "import pandas as pd\n",
        "import numpy as np\n",
        "from tabulate import tabulate\n",
        "import seaborn as sns\n",
        "import matplotlib.pyplot as plt\n",
        "from google.colab import drive\n",
        "drive.mount('/content/drive')\n",
        "eb=pd.read_csv('/content/drive/MyDrive/Python training/Miniproject - python/ebola_data_db_format.csv')\n",
        "print(eb.head(3))"
      ]
    },
    {
      "cell_type": "markdown",
      "source": [
        "1. Distinct # of Indicators in the universe (complete dataset).\n",
        "Output:\n",
        "Integer value\n"
      ],
      "metadata": {
        "id": "2toVnZ4RR7j3"
      }
    },
    {
      "cell_type": "code",
      "source": [
        "unique_indicator=eb['Indicator'].nunique()\n",
        "print(\"No. of Distinct Indicators:\",unique_indicator)"
      ],
      "metadata": {
        "colab": {
          "base_uri": "https://localhost:8080/"
        },
        "id": "lwrVY6ZwR9K3",
        "outputId": "6cd7593f-1cc9-4c7f-dc32-32a14ced818c"
      },
      "execution_count": null,
      "outputs": [
        {
          "output_type": "stream",
          "name": "stdout",
          "text": [
            "No. of Distinct Indicators: 36\n"
          ]
        }
      ]
    },
    {
      "cell_type": "markdown",
      "source": [
        "2. In the second half of the year 2015, how many countries have one or more “Cumulative number of confirmed Ebola cases”\n",
        "Output:\n",
        "Integer value\n"
      ],
      "metadata": {
        "id": "PKocqsOXSx36"
      }
    },
    {
      "cell_type": "code",
      "source": [
        "eb['Date']=pd.to_datetime(eb['Date'])\n",
        "eb['year'] = eb['Date'].dt.year\n",
        "eb['month'] = eb['Date'].dt.month\n",
        "filtered_data = eb[(eb['Indicator'] == \"Cumulative number of confirmed Ebola cases\") & (eb['year'] == 2015) & (eb['month'] > 6)]\n",
        "country=filtered_data['Country'].nunique()\n",
        "print(\"No. of Countries having one or more \\\" Cumulative no of confirmed Ebola cases\\\" are:\",country)"
      ],
      "metadata": {
        "colab": {
          "base_uri": "https://localhost:8080/"
        },
        "id": "HY_2OANLS2Mo",
        "outputId": "fcbfcdbb-20a4-4d42-c71c-3a1ca0fcca88"
      },
      "execution_count": null,
      "outputs": [
        {
          "output_type": "stream",
          "name": "stdout",
          "text": [
            "No. of Countries having one or more \" Cumulative no of confirmed Ebola cases\" are: 11\n"
          ]
        }
      ]
    },
    {
      "cell_type": "markdown",
      "source": [
        "3. Top 10 total Ebola cases confirmed. Note that Indicator = Cumulative number of confirmed Ebola cases. Include rank based on the total value (=cases confirmed).\n",
        "Output:\n",
        "country, total_value, rank\n"
      ],
      "metadata": {
        "id": "EnWd_vVbcbpK"
      }
    },
    {
      "cell_type": "code",
      "source": [
        "question3=eb[eb['Indicator']==\"Cumulative number of confirmed Ebola cases\"]\n",
        "top10_ebola=question3.groupby(['Country'])['value'].count().to_frame('TotalValue').sort_values(by='TotalValue',ascending=False).reset_index()\n",
        "top10_ebola['Rank']=top10_ebola['TotalValue'].rank(ascending=False)\n",
        "print(tabulate(top10_ebola.head(10),headers=['Country','Total Value','Rank'],tablefmt='grid'))\n"
      ],
      "metadata": {
        "id": "s4_twKqic2jW",
        "outputId": "e286061c-0ee6-4636-8406-23ce10de94d3",
        "colab": {
          "base_uri": "https://localhost:8080/"
        }
      },
      "execution_count": null,
      "outputs": [
        {
          "output_type": "stream",
          "name": "stdout",
          "text": [
            "+----+--------------------------+---------------+--------+\n",
            "|    | Country                  |   Total Value |   Rank |\n",
            "+====+==========================+===============+========+\n",
            "|  0 | Guinea                   |           259 |    1.5 |\n",
            "+----+--------------------------+---------------+--------+\n",
            "|  1 | Sierra Leone             |           259 |    1.5 |\n",
            "+----+--------------------------+---------------+--------+\n",
            "|  2 | Liberia                  |           258 |    3   |\n",
            "+----+--------------------------+---------------+--------+\n",
            "|  3 | Nigeria                  |           255 |    4   |\n",
            "+----+--------------------------+---------------+--------+\n",
            "|  4 | Senegal                  |           254 |    5   |\n",
            "+----+--------------------------+---------------+--------+\n",
            "|  5 | United States of America |           245 |    6   |\n",
            "+----+--------------------------+---------------+--------+\n",
            "|  6 | Mali                     |           243 |    7.5 |\n",
            "+----+--------------------------+---------------+--------+\n",
            "|  7 | Spain                    |           243 |    7.5 |\n",
            "+----+--------------------------+---------------+--------+\n",
            "|  8 | United Kingdom           |           221 |    9   |\n",
            "+----+--------------------------+---------------+--------+\n",
            "|  9 | Italy                    |           141 |   10   |\n",
            "+----+--------------------------+---------------+--------+\n"
          ]
        }
      ]
    },
    {
      "cell_type": "markdown",
      "source": [
        "4. Top 10 countries that have total cases with Indicator = “Cumulative number of confirmed probable and suspected Ebola deaths” in 2015 Q2 (i.e., April-June 2015).\n",
        "Output:\n",
        "country, total_cases, rank\n"
      ],
      "metadata": {
        "id": "6qa2bZ8DfFBE"
      }
    },
    {
      "cell_type": "code",
      "source": [
        "question4= eb[(eb['Indicator'] == \"Cumulative number of confirmed, probable and suspected Ebola deaths\") & (eb['month'] > 3) & (eb['month'] > 7)]\n",
        "Q2_eboladeath=question4.groupby(['Country'])['value'].count().to_frame('TotalCases').sort_values(by='TotalCases',ascending=False).reset_index()\n",
        "Q2_eboladeath['Rank']=Q2_eboladeath['TotalCases'].rank(ascending=False)\n",
        "print(tabulate(Q2_eboladeath.head(10),headers=['Country','Total Cases','Rank'],tablefmt='grid'))"
      ],
      "metadata": {
        "id": "63HnpsoRfKkC",
        "outputId": "d6e337eb-8514-4bc9-f1ee-8c3c3de6380d",
        "colab": {
          "base_uri": "https://localhost:8080/"
        }
      },
      "execution_count": null,
      "outputs": [
        {
          "output_type": "stream",
          "name": "stdout",
          "text": [
            "+----+--------------------------+---------------+--------+\n",
            "|    | Country                  |   Total Cases |   Rank |\n",
            "+====+==========================+===============+========+\n",
            "|  0 | Guinea                   |           121 |    2.5 |\n",
            "+----+--------------------------+---------------+--------+\n",
            "|  1 | Liberia                  |           121 |    2.5 |\n",
            "+----+--------------------------+---------------+--------+\n",
            "|  2 | Nigeria                  |           121 |    2.5 |\n",
            "+----+--------------------------+---------------+--------+\n",
            "|  3 | Sierra Leone             |           121 |    2.5 |\n",
            "+----+--------------------------+---------------+--------+\n",
            "|  4 | Senegal                  |           120 |    5   |\n",
            "+----+--------------------------+---------------+--------+\n",
            "|  5 | United States of America |           111 |    6   |\n",
            "+----+--------------------------+---------------+--------+\n",
            "|  6 | Spain                    |           109 |    7   |\n",
            "+----+--------------------------+---------------+--------+\n",
            "|  7 | Mali                     |           105 |    8   |\n",
            "+----+--------------------------+---------------+--------+\n",
            "|  8 | Italy                    |            83 |   10   |\n",
            "+----+--------------------------+---------------+--------+\n",
            "|  9 | Liberia 2                |            83 |   10   |\n",
            "+----+--------------------------+---------------+--------+\n"
          ]
        }
      ]
    },
    {
      "cell_type": "markdown",
      "source": [
        "5. Top 10 countries that have total cases with Indicator = “Cumulative number of confirmed probable and suspected Ebola deaths” with only even months of the year 2015 (i.e., months 2, 4, 6, 8, 10, 12).\n",
        "Output:\n",
        "country, total_cases, rank\n"
      ],
      "metadata": {
        "id": "zj9IpkP9vglv"
      }
    },
    {
      "cell_type": "code",
      "source": [
        "filtered_2015=eb[eb['year']==2015]\n",
        "filtered_2015['month category']=['Odd' if month%2 !=0 else 'Even' for month in filtered_2015['month']]\n",
        "evenmonth=filtered_2015[(filtered_2015['month category'] == 'Even') & (filtered_2015['Indicator']=='Cumulative number of confirmed, probable and suspected Ebola deaths')]\n",
        "top10_que5=evenmonth.groupby(['Country'])['value'].count().to_frame('TotalCases').sort_values(by='TotalCases',ascending=False).reset_index()\n",
        "top10_que5['Rank']=top10_que5['TotalCases'].rank(ascending=False)\n",
        "print(tabulate(top10_que5.head(10),headers=['Country','Total Cases','Rank'],tablefmt='grid'))"
      ],
      "metadata": {
        "colab": {
          "base_uri": "https://localhost:8080/"
        },
        "id": "0RDrqP3gvl1r",
        "outputId": "1a29182f-c064-4a60-8955-1162484a167c"
      },
      "execution_count": null,
      "outputs": [
        {
          "output_type": "stream",
          "name": "stdout",
          "text": [
            "+----+--------------------------+---------------+--------+\n",
            "|    | Country                  |   Total Cases |   Rank |\n",
            "+====+==========================+===============+========+\n",
            "|  0 | Guinea                   |           105 |      5 |\n",
            "+----+--------------------------+---------------+--------+\n",
            "|  1 | Liberia                  |           105 |      5 |\n",
            "+----+--------------------------+---------------+--------+\n",
            "|  2 | Mali                     |           105 |      5 |\n",
            "+----+--------------------------+---------------+--------+\n",
            "|  3 | Nigeria                  |           105 |      5 |\n",
            "+----+--------------------------+---------------+--------+\n",
            "|  4 | Senegal                  |           105 |      5 |\n",
            "+----+--------------------------+---------------+--------+\n",
            "|  5 | Sierra Leone             |           105 |      5 |\n",
            "+----+--------------------------+---------------+--------+\n",
            "|  6 | Spain                    |           105 |      5 |\n",
            "+----+--------------------------+---------------+--------+\n",
            "|  7 | United Kingdom           |           105 |      5 |\n",
            "+----+--------------------------+---------------+--------+\n",
            "|  8 | United States of America |           105 |      5 |\n",
            "+----+--------------------------+---------------+--------+\n",
            "|  9 | Italy                    |            72 |     10 |\n",
            "+----+--------------------------+---------------+--------+\n"
          ]
        },
        {
          "output_type": "stream",
          "name": "stderr",
          "text": [
            "<ipython-input-35-7fdab2279dd7>:2: SettingWithCopyWarning: \n",
            "A value is trying to be set on a copy of a slice from a DataFrame.\n",
            "Try using .loc[row_indexer,col_indexer] = value instead\n",
            "\n",
            "See the caveats in the documentation: https://pandas.pydata.org/pandas-docs/stable/user_guide/indexing.html#returning-a-view-versus-a-copy\n",
            "  filtered_2015['month category']=['Odd' if month%2 !=0 else 'Even' for month in filtered_2015['month']]\n"
          ]
        }
      ]
    },
    {
      "cell_type": "markdown",
      "source": [
        "6. Find Country and Indicator wise total value. Also, rank on the total_value which is the sum at the Country-Indicator level.\n",
        "Output:\n",
        "country, indicator, total_value, country_indicator_rank\n"
      ],
      "metadata": {
        "id": "hr-KzkrHFDZ1"
      }
    },
    {
      "cell_type": "code",
      "source": [
        "df=eb.groupby(['Country','Indicator'])['value'].count().to_frame('TotalValue').sort_values(by='TotalValue',ascending=False).reset_index()\n",
        "#city_airport2=df_altitude.groupby (['City','Country'])['Name'].count().to_frame('TotalAirports').sort_values(by='TotalAirports',ascending=False).reset_index()\n",
        "df['Country-Indicator Rank']=df['TotalValue'].rank(ascending=False)\n",
        "print(tabulate(df.head(10),headers=['Indicator','Total Values','Country-Indicator Rank'],tablefmt='grid'))"
      ],
      "metadata": {
        "colab": {
          "base_uri": "https://localhost:8080/"
        },
        "id": "HULuInHoFEzW",
        "outputId": "514937b1-b64c-4eb0-e5f4-26565fbff2d1"
      },
      "execution_count": null,
      "outputs": [
        {
          "output_type": "stream",
          "name": "stdout",
          "text": [
            "+----+--------------+---------------------------------------------------------------------+----------------+--------------------------+\n",
            "|    |              | Indicator                                                           |   Total Values |   Country-Indicator Rank |\n",
            "+====+==============+=====================================================================+================+==========================+\n",
            "|  0 | Guinea       | Cumulative number of probable Ebola cases                           |            259 |                      6.5 |\n",
            "+----+--------------+---------------------------------------------------------------------+----------------+--------------------------+\n",
            "|  1 | Guinea       | Cumulative number of confirmed, probable and suspected Ebola deaths |            259 |                      6.5 |\n",
            "+----+--------------+---------------------------------------------------------------------+----------------+--------------------------+\n",
            "|  2 | Liberia      | Cumulative number of confirmed, probable and suspected Ebola deaths |            259 |                      6.5 |\n",
            "+----+--------------+---------------------------------------------------------------------+----------------+--------------------------+\n",
            "|  3 | Liberia      | Cumulative number of confirmed, probable and suspected Ebola cases  |            259 |                      6.5 |\n",
            "+----+--------------+---------------------------------------------------------------------+----------------+--------------------------+\n",
            "|  4 | Guinea       | Cumulative number of suspected Ebola cases                          |            259 |                      6.5 |\n",
            "+----+--------------+---------------------------------------------------------------------+----------------+--------------------------+\n",
            "|  5 | Sierra Leone | Cumulative number of confirmed, probable and suspected Ebola cases  |            259 |                      6.5 |\n",
            "+----+--------------+---------------------------------------------------------------------+----------------+--------------------------+\n",
            "|  6 | Sierra Leone | Cumulative number of suspected Ebola cases                          |            259 |                      6.5 |\n",
            "+----+--------------+---------------------------------------------------------------------+----------------+--------------------------+\n",
            "|  7 | Sierra Leone | Cumulative number of confirmed Ebola cases                          |            259 |                      6.5 |\n",
            "+----+--------------+---------------------------------------------------------------------+----------------+--------------------------+\n",
            "|  8 | Guinea       | Cumulative number of confirmed, probable and suspected Ebola cases  |            259 |                      6.5 |\n",
            "+----+--------------+---------------------------------------------------------------------+----------------+--------------------------+\n",
            "|  9 | Sierra Leone | Cumulative number of confirmed, probable and suspected Ebola deaths |            259 |                      6.5 |\n",
            "+----+--------------+---------------------------------------------------------------------+----------------+--------------------------+\n"
          ]
        }
      ]
    },
    {
      "cell_type": "markdown",
      "source": [
        "7. For those Top 10 countries by Indicator = Cumulative number of confirmed Ebola cases, plot group bar chart.\n",
        "\n",
        "X-axis -> Country\n",
        "Y-axis -> Bar 1 -> total_value with Indicator = Cumulative number of suspected Ebola cases\n",
        "Y-axis -> Bar 2 ->  total_value with Indicator = Cumulative number of confirmed Ebola cases\n"
      ],
      "metadata": {
        "id": "6EltVszjJEbh"
      }
    },
    {
      "cell_type": "code",
      "source": [
        "graph=eb[(eb['Indicator']==\"Cumulative number of suspected Ebola cases\")| (eb['Indicator']==\"Cumulative number of confirmed Ebola cases\")]\n",
        "top10_graph=graph.groupby(['Country','Indicator'])['value'].count().to_frame('TotalValues').sort_values(by='TotalValues',ascending=False).reset_index()\n",
        "#print(top10_graph)\n",
        "plt.figure(figsize=(8,8))\n",
        "sns.barplot(x='Country',y='TotalValues',hue='Indicator',data=top10_graph)\n",
        "plt.xticks(rotation=90)\n",
        "plt.legend(loc='upper right')\n",
        "plt.tight_layout()\n",
        "plt.title(\"Top 10 Countries by Indicator of confirmed & suspected Ebola cases\")\n",
        "plt.show()"
      ],
      "metadata": {
        "colab": {
          "base_uri": "https://localhost:8080/",
          "height": 829
        },
        "id": "itEI2jrZJLDJ",
        "outputId": "03d40bf8-3f34-4f4d-87c4-c0b65a18027c"
      },
      "execution_count": null,
      "outputs": [
        {
          "output_type": "display_data",
          "data": {
            "text/plain": [
              "<Figure size 800x800 with 1 Axes>"
            ],
            "image/png": "[encoded data removed]"
          },
          "metadata": {}
        }
      ]
    },
    {
      "cell_type": "markdown",
      "source": [
        "Part II"
      ],
      "metadata": {
        "id": "szbtgxGiDQ7t"
      }
    },
    {
      "cell_type": "code",
      "source": [
        "import pandas as pd\n",
        "import numpy as np\n",
        "from tabulate import tabulate\n",
        "from google.colab import drive\n",
        "drive.mount('/content/drive')\n",
        "song=pd.read_csv('/content/drive/MyDrive/Python training/Miniproject - python/song.csv')\n",
        "print(song)"
      ],
      "metadata": {
        "id": "ktbYhvOFDZyo",
        "outputId": "b9de583a-9e7c-4d04-e53f-bf95c4016aa8",
        "colab": {
          "base_uri": "https://localhost:8080/"
        }
      },
      "execution_count": null,
      "outputs": [
        {
          "output_type": "stream",
          "name": "stdout",
          "text": [
            "Drive already mounted at /content/drive; to attempt to forcibly remount, call drive.mount(\"/content/drive\", force_remount=True).\n",
            "  song_title  rank  year\n",
            "0    Mysong1     1  2012\n",
            "1    Mysong1     1  2013\n",
            "2    Mysong1     2  2014\n",
            "3    Mysong1     3  2015\n",
            "4    Mysong2     2  2012\n",
            "5    Mysong2     2  2013\n",
            "6    Mysong2     1  2014\n",
            "7    Mysong2     2  2015\n",
            "8    Mysong3     3  2012\n",
            "9    Mysong3     3  2013\n"
          ]
        }
      ]
    },
    {
      "cell_type": "markdown",
      "source": [
        "1. Read \"song.csv\" into a dataframe and then produce the following output.\n",
        "Write Output For Ranked Songs By its Highest Frequency. Whichever song won a particular rank (say 2) with maximum frequency takes that place. For example, Mysong1 won rank 1 for two different years (achieved maximum frequency for that particular rank) and so in output (see row 1 in Output expected below), it should appear as Mysong1 with rank 1 and count 2..\n",
        "(Note. in the same year, now two songs have same rank.)\n",
        "\n",
        "The sample data with schema information is in the Appendix here.\n",
        "Output expected:\n",
        "song_title, rank, count\n",
        "Mysong1, 1, 2\n",
        "Mysong2, 2, 3\n",
        "Mysong3, 3, 2\n"
      ],
      "metadata": {
        "id": "nQTCc8u2Eu3C"
      }
    },
    {
      "cell_type": "code",
      "source": [
        "op=song.groupby(['song_title'])['rank'].value_counts().groupby(level=0).head(1).to_frame('frequency').reset_index()\n",
        "op.columns=['song_title','rank','frequency']\n",
        "print(op)\n"
      ],
      "metadata": {
        "id": "-DfzkPE6E1fK",
        "outputId": "716fd956-2eb5-4ab0-ffb1-666c67d2b5d7",
        "colab": {
          "base_uri": "https://localhost:8080/"
        }
      },
      "execution_count": null,
      "outputs": [
        {
          "output_type": "stream",
          "name": "stdout",
          "text": [
            "  song_title  rank  frequency\n",
            "0    Mysong1     1          2\n",
            "1    Mysong2     2          3\n",
            "2    Mysong3     3          2\n"
          ]
        }
      ]
    },
    {
      "cell_type": "markdown",
      "source": [
        "2.House Price Prediction task.\n",
        "Data: Housing.csv from Kaggle\n",
        "Steps:\n",
        "Pre-processing: Convert non-numeric columns (mainroad, guestroom, basement, hotwaterheating, airconditioning) to numeric using one-hot encoding if the column values are not inter-related. If column values are related, need to use ordinal encoding.\n",
        "Pre-processing: Use pd.get_dummies to convert the one-hot encoding from the previous step into single columns. [link | link]\n",
        "Use two-fold cross-validation [sklearn]  and predict (use linear regression) the house price (column \"price\") using features (all columns except \"price\" are the features). You need output evaluation metrics: R1-squared error, Mean Squared Error (MSE), Root Mean Squared Error (RMSE). Mean Average Error (MAE). See doc for some short introduction for the evalaution metrics.\n",
        "Some sample basic code notebook for Linear Regression (also use internet for more) that starts with import of LinearRegression from sklearn.linear_model.\n"
      ],
      "metadata": {
        "id": "wHal9-b6N1Cu"
      }
    },
    {
      "cell_type": "code",
      "source": [
        "import pandas as pd\n",
        "import numpy as np\n",
        "from tabulate import tabulate\n",
        "from sklearn.preprocessing import OrdinalEncoder\n",
        "from sklearn.preprocessing import OneHotEncoder\n",
        "from google.colab import drive\n",
        "drive.mount('/content/drive')\n",
        "house=pd.read_csv('/content/drive/MyDrive/Python training/Miniproject - python/Housing.csv')\n",
        "print(house.head(3))\n",
        "oe=OrdinalEncoder()\n",
        "ohe=OneHotEncoder(handle_unknown='ignore')\n",
        "house['mainroad']=oe.fit_transform(house[['mainroad']])\n",
        "house['guestroom']=oe.fit_transform(house[['guestroom']])\n",
        "house['basement']=oe.fit_transform(house[['basement']])\n",
        "house['hotwaterheating']=oe.fit_transform(house[['hotwaterheating']])\n",
        "house['airconditioning']=oe.fit_transform(house[['airconditioning']])\n",
        "print(house.head(3))\n",
        "house1=house\n",
        "house1['mainroad']=ohe.fit_transform(house1[['mainroad']])\n",
        "house1['guestroom']=ohe.fit_transform(house1[['guestroom']])\n",
        "house1['basement']=ohe.fit_transform(house1[['basement']])\n",
        "house1['hotwaterheating']=ohe.fit_transform(house1[['hotwaterheating']])\n",
        "house1['airconditioning']=ohe.fit_transform(house1[['airconditioning']])\n",
        "print(house1.head(3))\n"
      ],
      "metadata": {
        "id": "BrMTBWRFN9nb",
        "outputId": "f78fc16a-89b8-4455-9fcb-d09ce4cbc432",
        "colab": {
          "base_uri": "https://localhost:8080/",
          "height": 772
        }
      },
      "execution_count": 10,
      "outputs": [
        {
          "output_type": "stream",
          "name": "stdout",
          "text": [
            "Drive already mounted at /content/drive; to attempt to forcibly remount, call drive.mount(\"/content/drive\", force_remount=True).\n",
            "      price  area  bedrooms  bathrooms  stories mainroad guestroom basement  \\\n",
            "0  13300000  7420         4          2        3      yes        no       no   \n",
            "1  12250000  8960         4          4        4      yes        no       no   \n",
            "2  12250000  9960         3          2        2      yes        no      yes   \n",
            "\n",
            "  hotwaterheating airconditioning  parking prefarea furnishingstatus  \n",
            "0              no             yes        2      yes        furnished  \n",
            "1              no             yes        3       no        furnished  \n",
            "2              no              no        2      yes   semi-furnished  \n",
            "      price  area  bedrooms  bathrooms  stories  mainroad  guestroom  \\\n",
            "0  13300000  7420         4          2        3       1.0        0.0   \n",
            "1  12250000  8960         4          4        4       1.0        0.0   \n",
            "2  12250000  9960         3          2        2       1.0        0.0   \n",
            "\n",
            "   basement  hotwaterheating  airconditioning  parking prefarea  \\\n",
            "0       0.0              0.0              1.0        2      yes   \n",
            "1       0.0              0.0              1.0        3       no   \n",
            "2       1.0              0.0              0.0        2      yes   \n",
            "\n",
            "  furnishingstatus  \n",
            "0        furnished  \n",
            "1        furnished  \n",
            "2   semi-furnished  \n"
          ]
        },
        {
          "output_type": "error",
          "ename": "TypeError",
          "evalue": "sparse array length is ambiguous; use getnnz() or shape[0]",
          "traceback": [
            "\u001b[0;31m---------------------------------------------------------------------------\u001b[0m",
            "\u001b[0;31mTypeError\u001b[0m                                 Traceback (most recent call last)",
            "\u001b[0;32m<ipython-input-10-7d5970680367>\u001b[0m in \u001b[0;36m<cell line: 19>\u001b[0;34m()\u001b[0m\n\u001b[1;32m     17\u001b[0m \u001b[0mprint\u001b[0m\u001b[0;34m(\u001b[0m\u001b[0mhouse\u001b[0m\u001b[0;34m.\u001b[0m\u001b[0mhead\u001b[0m\u001b[0;34m(\u001b[0m\u001b[0;36m3\u001b[0m\u001b[0;34m)\u001b[0m\u001b[0;34m)\u001b[0m\u001b[0;34m\u001b[0m\u001b[0;34m\u001b[0m\u001b[0m\n\u001b[1;32m     18\u001b[0m \u001b[0mhouse1\u001b[0m\u001b[0;34m=\u001b[0m\u001b[0mhouse\u001b[0m\u001b[0;34m\u001b[0m\u001b[0;34m\u001b[0m\u001b[0m\n\u001b[0;32m---> 19\u001b[0;31m \u001b[0mhouse1\u001b[0m\u001b[0;34m[\u001b[0m\u001b[0;34m'mainroad'\u001b[0m\u001b[0;34m]\u001b[0m\u001b[0;34m=\u001b[0m\u001b[0mohe\u001b[0m\u001b[0;34m.\u001b[0m\u001b[0mfit_transform\u001b[0m\u001b[0;34m(\u001b[0m\u001b[0mhouse1\u001b[0m\u001b[0;34m[\u001b[0m\u001b[0;34m[\u001b[0m\u001b[0;34m'mainroad'\u001b[0m\u001b[0;34m]\u001b[0m\u001b[0;34m]\u001b[0m\u001b[0;34m)\u001b[0m\u001b[0;34m\u001b[0m\u001b[0;34m\u001b[0m\u001b[0m\n\u001b[0m\u001b[1;32m     20\u001b[0m \u001b[0mhouse1\u001b[0m\u001b[0;34m[\u001b[0m\u001b[0;34m'guestroom'\u001b[0m\u001b[0;34m]\u001b[0m\u001b[0;34m=\u001b[0m\u001b[0mohe\u001b[0m\u001b[0;34m.\u001b[0m\u001b[0mfit_transform\u001b[0m\u001b[0;34m(\u001b[0m\u001b[0mhouse1\u001b[0m\u001b[0;34m[\u001b[0m\u001b[0;34m[\u001b[0m\u001b[0;34m'guestroom'\u001b[0m\u001b[0;34m]\u001b[0m\u001b[0;34m]\u001b[0m\u001b[0;34m)\u001b[0m\u001b[0;34m\u001b[0m\u001b[0;34m\u001b[0m\u001b[0m\n\u001b[1;32m     21\u001b[0m \u001b[0mhouse1\u001b[0m\u001b[0;34m[\u001b[0m\u001b[0;34m'basement'\u001b[0m\u001b[0;34m]\u001b[0m\u001b[0;34m=\u001b[0m\u001b[0mohe\u001b[0m\u001b[0;34m.\u001b[0m\u001b[0mfit_transform\u001b[0m\u001b[0;34m(\u001b[0m\u001b[0mhouse1\u001b[0m\u001b[0;34m[\u001b[0m\u001b[0;34m[\u001b[0m\u001b[0;34m'basement'\u001b[0m\u001b[0;34m]\u001b[0m\u001b[0;34m]\u001b[0m\u001b[0;34m)\u001b[0m\u001b[0;34m\u001b[0m\u001b[0;34m\u001b[0m\u001b[0m\n",
            "\u001b[0;32m/usr/local/lib/python3.10/dist-packages/pandas/core/frame.py\u001b[0m in \u001b[0;36m__setitem__\u001b[0;34m(self, key, value)\u001b[0m\n\u001b[1;32m   3948\u001b[0m         \u001b[0;32melse\u001b[0m\u001b[0;34m:\u001b[0m\u001b[0;34m\u001b[0m\u001b[0;34m\u001b[0m\u001b[0m\n\u001b[1;32m   3949\u001b[0m             \u001b[0;31m# set column\u001b[0m\u001b[0;34m\u001b[0m\u001b[0;34m\u001b[0m\u001b[0m\n\u001b[0;32m-> 3950\u001b[0;31m             \u001b[0mself\u001b[0m\u001b[0;34m.\u001b[0m\u001b[0m_set_item\u001b[0m\u001b[0;34m(\u001b[0m\u001b[0mkey\u001b[0m\u001b[0;34m,\u001b[0m \u001b[0mvalue\u001b[0m\u001b[0;34m)\u001b[0m\u001b[0;34m\u001b[0m\u001b[0;34m\u001b[0m\u001b[0m\n\u001b[0m\u001b[1;32m   3951\u001b[0m \u001b[0;34m\u001b[0m\u001b[0m\n\u001b[1;32m   3952\u001b[0m     \u001b[0;32mdef\u001b[0m \u001b[0m_setitem_slice\u001b[0m\u001b[0;34m(\u001b[0m\u001b[0mself\u001b[0m\u001b[0;34m,\u001b[0m \u001b[0mkey\u001b[0m\u001b[0;34m:\u001b[0m \u001b[0mslice\u001b[0m\u001b[0;34m,\u001b[0m \u001b[0mvalue\u001b[0m\u001b[0;34m)\u001b[0m \u001b[0;34m->\u001b[0m \u001b[0;32mNone\u001b[0m\u001b[0;34m:\u001b[0m\u001b[0;34m\u001b[0m\u001b[0;34m\u001b[0m\u001b[0m\n",
            "\u001b[0;32m/usr/local/lib/python3.10/dist-packages/pandas/core/frame.py\u001b[0m in \u001b[0;36m_set_item\u001b[0;34m(self, key, value)\u001b[0m\n\u001b[1;32m   4141\u001b[0m         \u001b[0mensure\u001b[0m \u001b[0mhomogeneity\u001b[0m\u001b[0;34m.\u001b[0m\u001b[0;34m\u001b[0m\u001b[0;34m\u001b[0m\u001b[0m\n\u001b[1;32m   4142\u001b[0m         \"\"\"\n\u001b[0;32m-> 4143\u001b[0;31m         \u001b[0mvalue\u001b[0m \u001b[0;34m=\u001b[0m \u001b[0mself\u001b[0m\u001b[0;34m.\u001b[0m\u001b[0m_sanitize_column\u001b[0m\u001b[0;34m(\u001b[0m\u001b[0mvalue\u001b[0m\u001b[0;34m)\u001b[0m\u001b[0;34m\u001b[0m\u001b[0;34m\u001b[0m\u001b[0m\n\u001b[0m\u001b[1;32m   4144\u001b[0m \u001b[0;34m\u001b[0m\u001b[0m\n\u001b[1;32m   4145\u001b[0m         if (\n",
            "\u001b[0;32m/usr/local/lib/python3.10/dist-packages/pandas/core/frame.py\u001b[0m in \u001b[0;36m_sanitize_column\u001b[0;34m(self, value)\u001b[0m\n\u001b[1;32m   4868\u001b[0m \u001b[0;34m\u001b[0m\u001b[0m\n\u001b[1;32m   4869\u001b[0m         \u001b[0;32mif\u001b[0m \u001b[0mis_list_like\u001b[0m\u001b[0;34m(\u001b[0m\u001b[0mvalue\u001b[0m\u001b[0;34m)\u001b[0m\u001b[0;34m:\u001b[0m\u001b[0;34m\u001b[0m\u001b[0;34m\u001b[0m\u001b[0m\n\u001b[0;32m-> 4870\u001b[0;31m             \u001b[0mcom\u001b[0m\u001b[0;34m.\u001b[0m\u001b[0mrequire_length_match\u001b[0m\u001b[0;34m(\u001b[0m\u001b[0mvalue\u001b[0m\u001b[0;34m,\u001b[0m \u001b[0mself\u001b[0m\u001b[0;34m.\u001b[0m\u001b[0mindex\u001b[0m\u001b[0;34m)\u001b[0m\u001b[0;34m\u001b[0m\u001b[0;34m\u001b[0m\u001b[0m\n\u001b[0m\u001b[1;32m   4871\u001b[0m         \u001b[0;32mreturn\u001b[0m \u001b[0msanitize_array\u001b[0m\u001b[0;34m(\u001b[0m\u001b[0mvalue\u001b[0m\u001b[0;34m,\u001b[0m \u001b[0mself\u001b[0m\u001b[0;34m.\u001b[0m\u001b[0mindex\u001b[0m\u001b[0;34m,\u001b[0m \u001b[0mcopy\u001b[0m\u001b[0;34m=\u001b[0m\u001b[0;32mTrue\u001b[0m\u001b[0;34m,\u001b[0m \u001b[0mallow_2d\u001b[0m\u001b[0;34m=\u001b[0m\u001b[0;32mTrue\u001b[0m\u001b[0;34m)\u001b[0m\u001b[0;34m\u001b[0m\u001b[0;34m\u001b[0m\u001b[0m\n\u001b[1;32m   4872\u001b[0m \u001b[0;34m\u001b[0m\u001b[0m\n",
            "\u001b[0;32m/usr/local/lib/python3.10/dist-packages/pandas/core/common.py\u001b[0m in \u001b[0;36mrequire_length_match\u001b[0;34m(data, index)\u001b[0m\n\u001b[1;32m    573\u001b[0m     \u001b[0mCheck\u001b[0m \u001b[0mthe\u001b[0m \u001b[0mlength\u001b[0m \u001b[0mof\u001b[0m \u001b[0mdata\u001b[0m \u001b[0mmatches\u001b[0m \u001b[0mthe\u001b[0m \u001b[0mlength\u001b[0m \u001b[0mof\u001b[0m \u001b[0mthe\u001b[0m \u001b[0mindex\u001b[0m\u001b[0;34m.\u001b[0m\u001b[0;34m\u001b[0m\u001b[0;34m\u001b[0m\u001b[0m\n\u001b[1;32m    574\u001b[0m     \"\"\"\n\u001b[0;32m--> 575\u001b[0;31m     \u001b[0;32mif\u001b[0m \u001b[0mlen\u001b[0m\u001b[0;34m(\u001b[0m\u001b[0mdata\u001b[0m\u001b[0;34m)\u001b[0m \u001b[0;34m!=\u001b[0m \u001b[0mlen\u001b[0m\u001b[0;34m(\u001b[0m\u001b[0mindex\u001b[0m\u001b[0;34m)\u001b[0m\u001b[0;34m:\u001b[0m\u001b[0;34m\u001b[0m\u001b[0;34m\u001b[0m\u001b[0m\n\u001b[0m\u001b[1;32m    576\u001b[0m         raise ValueError(\n\u001b[1;32m    577\u001b[0m             \u001b[0;34m\"Length of values \"\u001b[0m\u001b[0;34m\u001b[0m\u001b[0;34m\u001b[0m\u001b[0m\n",
            "\u001b[0;32m/usr/local/lib/python3.10/dist-packages/scipy/sparse/_base.py\u001b[0m in \u001b[0;36m__len__\u001b[0;34m(self)\u001b[0m\n\u001b[1;32m    338\u001b[0m     \u001b[0;31m# non-zeros is more important.  For now, raise an exception!\u001b[0m\u001b[0;34m\u001b[0m\u001b[0;34m\u001b[0m\u001b[0m\n\u001b[1;32m    339\u001b[0m     \u001b[0;32mdef\u001b[0m \u001b[0m__len__\u001b[0m\u001b[0;34m(\u001b[0m\u001b[0mself\u001b[0m\u001b[0;34m)\u001b[0m\u001b[0;34m:\u001b[0m\u001b[0;34m\u001b[0m\u001b[0;34m\u001b[0m\u001b[0m\n\u001b[0;32m--> 340\u001b[0;31m         raise TypeError(\"sparse array length is ambiguous; use getnnz()\"\n\u001b[0m\u001b[1;32m    341\u001b[0m                         \" or shape[0]\")\n\u001b[1;32m    342\u001b[0m \u001b[0;34m\u001b[0m\u001b[0m\n",
            "\u001b[0;31mTypeError\u001b[0m: sparse array length is ambiguous; use getnnz() or shape[0]"
          ]
        }
      ]
    },
    {
      "cell_type": "code",
      "source": [],
      "metadata": {
        "id": "feI9npIHoWxt"
      },
      "execution_count": null,
      "outputs": []
    }
  ]
}