{
  "nbformat": 4,
  "nbformat_minor": 0,
  "metadata": {
    "colab": {
      "provenance": [],
      "mount_file_id": "1JymNB3m7gNtWV3QBNcxtUyhzhUPka4g8",
      "authorship_tag": "ABX9TyNSBq6dXSsY98pdlJ8BNGsj",
      "include_colab_link": true
    },
    "kernelspec": {
      "name": "python3",
      "display_name": "Python 3"
    },
    "language_info": {
      "name": "python"
    }
  },
  "cells": [
    {
      "cell_type": "markdown",
      "metadata": {
        "id": "view-in-github",
        "colab_type": "text"
      },
      "source": [
        "<a href=\"https://colab.research.google.com/github/VidhyaKishor27/Pythonbasic/blob/main/Miniproject_4_Airports.ipynb\" target=\"_parent\"><img src=\"https://colab.research.google.com/assets/colab-badge.svg\" alt=\"Open In Colab\"/></a>"
      ]
    },
    {
      "cell_type": "code",
      "source": [
        "import pandas as pd\n",
        "import numpy as np\n",
        "from tabulate import tabulate\n",
        "from datetime import datetime\n",
        "from google.colab import drive\n",
        "drive.mount('/content/drive')\n",
        "ap2=pd.read_csv('/content/drive/MyDrive/Python training/Miniproject - python/Airports2.csv')\n",
        "ap2['Fly_date']=pd.to_datetime(ap2['Fly_date']) #to_datetime() method converts string to datetime obj\n",
        "ap2['year']=ap2['Fly_date'].dt.year\n",
        "print(ap2.head(3))"
      ],
      "metadata": {
        "colab": {
          "base_uri": "https://localhost:8080/"
        },
        "id": "l29ClaVh-KXP",
        "outputId": "3917e264-3841-4ec2-f2d7-167117de67f3"
      },
      "execution_count": 9,
      "outputs": [
        {
          "output_type": "stream",
          "name": "stdout",
          "text": [
            "Drive already mounted at /content/drive; to attempt to forcibly remount, call drive.mount(\"/content/drive\", force_remount=True).\n",
            "  Origin_airport Destination_airport    Origin_city Destination_city  \\\n",
            "0            MHK                 AMW  Manhattan, KS         Ames, IA   \n",
            "1            EUG                 RDM     Eugene, OR         Bend, OR   \n",
            "2            EUG                 RDM     Eugene, OR         Bend, OR   \n",
            "\n",
            "   Passengers  Seats  Flights  Distance   Fly_date  Origin_population  \\\n",
            "0          21     30        1       254 2008-10-01             122049   \n",
            "1          41    396       22       103 1990-11-01             284093   \n",
            "2          88    342       19       103 1990-12-01             284093   \n",
            "\n",
            "   Destination_population  Org_airport_lat  Org_airport_long  \\\n",
            "0                   86219        39.140999        -96.670799   \n",
            "1                   76034        44.124599       -123.211998   \n",
            "2                   76034        44.124599       -123.211998   \n",
            "\n",
            "   Dest_airport_lat  Dest_airport_long  year  \n",
            "0               NaN                NaN  2008  \n",
            "1         44.254101        -121.150002  1990  \n",
            "2         44.254101        -121.150002  1990  \n"
          ]
        }
      ]
    },
    {
      "cell_type": "markdown",
      "source": [
        "Part  2:\n",
        "1. In the year 2009, print Top 10 cities in the USA that received maximum # inbound flights.\n",
        "Output:\n",
        "city,total_inbound_flights,rank\n"
      ],
      "metadata": {
        "id": "wjT8Rdjc-JYj"
      }
    },
    {
      "cell_type": "code",
      "execution_count": 14,
      "metadata": {
        "colab": {
          "base_uri": "https://localhost:8080/"
        },
        "id": "3GFPbSSlPsn4",
        "outputId": "b4b967a0-874c-4b82-d8a9-b5989dbe8e4a"
      },
      "outputs": [
        {
          "output_type": "stream",
          "name": "stdout",
          "text": [
            "                 City  Total Destination Flights  Rank\n",
            "74        Chicago, IL                   417297.0   1.0\n",
            "21        Atlanta, GA                   396603.0   2.0\n",
            "93         Dallas, TX                   316265.0   3.0\n",
            "263      New York, NY                   278206.0   4.0\n",
            "167       Houston, TX                   250030.0   5.0\n",
            "389    Washington, DC                   238744.0   6.0\n",
            "70      Charlotte, NC                   199700.0   7.0\n",
            "224   Los Angeles, CA                   192676.0   8.0\n",
            "98        Detroit, MI                   183655.0   9.0\n",
            "286  Philadelphia, PA                   181645.0  10.0\n"
          ]
        }
      ],
      "source": [
        "filteredyr=ap2.where(ap2['year']==2009, inplace=False)\n",
        "inbound=filteredyr.groupby('Destination_city')['Flights'].sum().to_frame('TotalFlights')\\\n",
        "  .reset_index().sort_values(by='TotalFlights',ascending=False)\n",
        "inbound['rank']=inbound['TotalFlights'].rank(ascending=False)\n",
        "inbound.columns=['City','Total Destination Flights','Rank']\n",
        "print(inbound.nlargest(10,'Total Destination Flights'))"
      ]
    },
    {
      "cell_type": "markdown",
      "source": [
        "2.In the year 2009, print Top 10 cities in the USA that received maximum # outbound flights.\n",
        "Output:\n",
        "city,total_outbound_flights,rank\n"
      ],
      "metadata": {
        "id": "vLO7lKoBJ9jg"
      }
    },
    {
      "cell_type": "code",
      "source": [
        "outbound=filteredyr.groupby('Origin_city')['Flights'].sum().to_frame('TotalFlights')\\\n",
        "  .reset_index().sort_values(by='TotalFlights',ascending=False)\n",
        "outbound['rank']=outbound['TotalFlights'].rank(ascending=False)\n",
        "outbound.columns=['City','Total Origin Flights','Rank']\n",
        "print(outbound.nlargest(10,'Total Origin Flights'))"
      ],
      "metadata": {
        "colab": {
          "base_uri": "https://localhost:8080/"
        },
        "id": "-Wf5-Y9UKBZI",
        "outputId": "5741a0a7-e5c4-47e7-f0eb-7f2806329912"
      },
      "execution_count": 15,
      "outputs": [
        {
          "output_type": "stream",
          "name": "stdout",
          "text": [
            "                 City  Total Origin Flights  Rank\n",
            "74        Chicago, IL              416742.0   1.0\n",
            "21        Atlanta, GA              397112.0   2.0\n",
            "92         Dallas, TX              316739.0   3.0\n",
            "261      New York, NY              278351.0   4.0\n",
            "166       Houston, TX              249285.0   5.0\n",
            "388    Washington, DC              238958.0   6.0\n",
            "70      Charlotte, NC              200403.0   7.0\n",
            "222   Los Angeles, CA              193248.0   8.0\n",
            "97        Detroit, MI              184087.0   9.0\n",
            "285  Philadelphia, PA              181575.0  10.0\n"
          ]
        }
      ]
    }
  ]
}