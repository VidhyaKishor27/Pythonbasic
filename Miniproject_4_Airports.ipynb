{
  "nbformat": 4,
  "nbformat_minor": 0,
  "metadata": {
    "colab": {
      "provenance": [],
      "mount_file_id": "1JymNB3m7gNtWV3QBNcxtUyhzhUPka4g8",
      "authorship_tag": "ABX9TyM2BKW5I2KErqbyzd5Ff3G2",
      "include_colab_link": true
    },
    "kernelspec": {
      "name": "python3",
      "display_name": "Python 3"
    },
    "language_info": {
      "name": "python"
    }
  },
  "cells": [
    {
      "cell_type": "markdown",
      "metadata": {
        "id": "view-in-github",
        "colab_type": "text"
      },
      "source": [
        "<a href=\"https://colab.research.google.com/github/VidhyaKishor27/Pythonbasic/blob/main/Miniproject_4_Airports.ipynb\" target=\"_parent\"><img src=\"https://colab.research.google.com/assets/colab-badge.svg\" alt=\"Open In Colab\"/></a>"
      ]
    },
    {
      "cell_type": "code",
      "source": [
        "import pandas as pd\n",
        "import numpy as np\n",
        "from tabulate import tabulate\n",
        "from datetime import datetime\n",
        "from google.colab import drive\n",
        "drive.mount('/content/drive')\n",
        "ap2=pd.read_csv('/content/drive/MyDrive/Python training/Miniproject - python/Airports2.csv')\n",
        "ap2['Fly_date']=pd.to_datetime(ap2['Fly_date']) #to_datetime() method converts string to datetime obj\n",
        "ap2['year']=ap2['Fly_date'].dt.year\n",
        "print(ap2.head(3))"
      ],
      "metadata": {
        "colab": {
          "base_uri": "https://localhost:8080/"
        },
        "id": "l29ClaVh-KXP",
        "outputId": "3bad2d17-4f69-4438-aec6-aa65db754875"
      },
      "execution_count": 1,
      "outputs": [
        {
          "output_type": "stream",
          "name": "stdout",
          "text": [
            "Mounted at /content/drive\n",
            "  Origin_airport Destination_airport    Origin_city Destination_city  \\\n",
            "0            MHK                 AMW  Manhattan, KS         Ames, IA   \n",
            "1            EUG                 RDM     Eugene, OR         Bend, OR   \n",
            "2            EUG                 RDM     Eugene, OR         Bend, OR   \n",
            "\n",
            "   Passengers  Seats  Flights  Distance   Fly_date  Origin_population  \\\n",
            "0          21     30        1       254 2008-10-01             122049   \n",
            "1          41    396       22       103 1990-11-01             284093   \n",
            "2          88    342       19       103 1990-12-01             284093   \n",
            "\n",
            "   Destination_population  Org_airport_lat  Org_airport_long  \\\n",
            "0                   86219        39.140999        -96.670799   \n",
            "1                   76034        44.124599       -123.211998   \n",
            "2                   76034        44.124599       -123.211998   \n",
            "\n",
            "   Dest_airport_lat  Dest_airport_long  year  \n",
            "0               NaN                NaN  2008  \n",
            "1         44.254101        -121.150002  1990  \n",
            "2         44.254101        -121.150002  1990  \n"
          ]
        }
      ]
    },
    {
      "cell_type": "markdown",
      "source": [
        "Part  2:\n",
        "1. In the year 2009, print Top 10 cities in the USA that received maximum # inbound flights.\n",
        "Output:\n",
        "city,total_inbound_flights,rank\n"
      ],
      "metadata": {
        "id": "wjT8Rdjc-JYj"
      }
    },
    {
      "cell_type": "code",
      "execution_count": null,
      "metadata": {
        "colab": {
          "base_uri": "https://localhost:8080/"
        },
        "id": "3GFPbSSlPsn4",
        "outputId": "b4b967a0-874c-4b82-d8a9-b5989dbe8e4a"
      },
      "outputs": [
        {
          "output_type": "stream",
          "name": "stdout",
          "text": [
            "                 City  Total Destination Flights  Rank\n",
            "74        Chicago, IL                   417297.0   1.0\n",
            "21        Atlanta, GA                   396603.0   2.0\n",
            "93         Dallas, TX                   316265.0   3.0\n",
            "263      New York, NY                   278206.0   4.0\n",
            "167       Houston, TX                   250030.0   5.0\n",
            "389    Washington, DC                   238744.0   6.0\n",
            "70      Charlotte, NC                   199700.0   7.0\n",
            "224   Los Angeles, CA                   192676.0   8.0\n",
            "98        Detroit, MI                   183655.0   9.0\n",
            "286  Philadelphia, PA                   181645.0  10.0\n"
          ]
        }
      ],
      "source": [
        "filteredyr=ap2.where(ap2['year']==2009, inplace=False)\n",
        "inbound=filteredyr.groupby('Destination_city')['Flights'].sum().to_frame('TotalFlights')\\\n",
        "  .reset_index().sort_values(by='TotalFlights',ascending=False)\n",
        "inbound['rank']=inbound['TotalFlights'].rank(ascending=False)\n",
        "inbound.columns=['City','Total Destination Flights','Rank']\n",
        "print(inbound.nlargest(10,'Total Destination Flights'))"
      ]
    },
    {
      "cell_type": "markdown",
      "source": [
        "2.In the year 2009, print Top 10 cities in the USA that received maximum # outbound flights.\n",
        "Output:\n",
        "city,total_outbound_flights,rank\n"
      ],
      "metadata": {
        "id": "vLO7lKoBJ9jg"
      }
    },
    {
      "cell_type": "code",
      "source": [
        "outbound=filteredyr.groupby('Origin_city')['Flights'].sum().to_frame('TotalFlights')\\\n",
        "  .reset_index().sort_values(by='TotalFlights',ascending=False)\n",
        "outbound['rank']=outbound['TotalFlights'].rank(ascending=False)\n",
        "outbound.columns=['City','Total Origin Flights','Rank']\n",
        "print(outbound.nlargest(10,'Total Origin Flights'))"
      ],
      "metadata": {
        "colab": {
          "base_uri": "https://localhost:8080/"
        },
        "id": "-Wf5-Y9UKBZI",
        "outputId": "5741a0a7-e5c4-47e7-f0eb-7f2806329912"
      },
      "execution_count": null,
      "outputs": [
        {
          "output_type": "stream",
          "name": "stdout",
          "text": [
            "                 City  Total Origin Flights  Rank\n",
            "74        Chicago, IL              416742.0   1.0\n",
            "21        Atlanta, GA              397112.0   2.0\n",
            "92         Dallas, TX              316739.0   3.0\n",
            "261      New York, NY              278351.0   4.0\n",
            "166       Houston, TX              249285.0   5.0\n",
            "388    Washington, DC              238958.0   6.0\n",
            "70      Charlotte, NC              200403.0   7.0\n",
            "222   Los Angeles, CA              193248.0   8.0\n",
            "97        Detroit, MI              184087.0   9.0\n",
            "285  Philadelphia, PA              181575.0  10.0\n"
          ]
        }
      ]
    },
    {
      "cell_type": "markdown",
      "source": [
        "3. In between 1999-2009, print Top 10 cities in the USA that received maximum # outbound flights.\n",
        "Output:\n",
        "city,total_outbound_flights, rank\n"
      ],
      "metadata": {
        "id": "-O11Sz2nLP_4"
      }
    },
    {
      "cell_type": "code",
      "source": [
        "yr99_09=ap2[ap2['year'].between(1999,2009)]\n",
        "out99_09=yr99_09.groupby('Origin_city')['Flights'].sum().to_frame('TotalFlights')\\\n",
        "  .reset_index().sort_values(by='TotalFlights',ascending=False)\n",
        "out99_09['rank']=out99_09['TotalFlights'].rank(ascending=False)\n",
        "out99_09.columns=['Origin City','Total Outbound Flights','Rank']\n",
        "print(out99_09.nlargest(10,'Total Outbound Flights'))\n",
        "\n"
      ],
      "metadata": {
        "colab": {
          "base_uri": "https://localhost:8080/"
        },
        "id": "7FBAvdfDLRVq",
        "outputId": "461822db-bef9-4b48-b350-9e6ed210669f"
      },
      "execution_count": 4,
      "outputs": [
        {
          "output_type": "stream",
          "name": "stdout",
          "text": [
            "         Origin City  Total Outbound Flights  Rank\n",
            "93       Chicago, IL                 4997322   1.0\n",
            "28       Atlanta, GA                 4177480   2.0\n",
            "115       Dallas, TX                 3938032   3.0\n",
            "217      Houston, TX                 2750620   4.0\n",
            "342     New York, NY                 2750398   5.0\n",
            "509   Washington, DC                 2432099   6.0\n",
            "286  Los Angeles, CA                 2412159   7.0\n",
            "125      Detroit, MI                 2215283   8.0\n",
            "313  Minneapolis, MN                 2080578   9.0\n",
            "371      Phoenix, AZ                 1983949  10.0\n"
          ]
        }
      ]
    },
    {
      "cell_type": "markdown",
      "source": [
        "4. In between 1999-2009, the Top 10 cities in the USA carry the maximum total # of passengers on outbound flights. The city column in the output will also have its state (For example San Francisco, CA).\n",
        "Output:\n",
        "city,total_num_passengers,rank\n"
      ],
      "metadata": {
        "id": "T8Fu3BKzNm7S"
      }
    },
    {
      "cell_type": "code",
      "source": [
        "pass99_09=yr99_09.groupby('Origin_city')['Passengers'].sum().to_frame('TotalPassengers')\\\n",
        "  .sort_values(by='TotalPassengers',ascending=False).reset_index()\n",
        "pass99_09['rank']=pass99_09['TotalPassengers'].rank(ascending=False)\n",
        "pass99_09.columns=['Origin City','Total No. of Passengers','Rank']\n",
        "print(pass99_09.nlargest(10,'Total No. of Passengers'))\n"
      ],
      "metadata": {
        "colab": {
          "base_uri": "https://localhost:8080/"
        },
        "id": "8CNV1Lr9Wxum",
        "outputId": "e15f6755-4c18-4527-a6ea-dab68b685e39"
      },
      "execution_count": 6,
      "outputs": [
        {
          "output_type": "stream",
          "name": "stdout",
          "text": [
            "       Origin City  Total No. of Passengers  Rank\n",
            "0      Chicago, IL                381908565   1.0\n",
            "1      Atlanta, GA                368972910   2.0\n",
            "2       Dallas, TX                294826498   3.0\n",
            "3  Los Angeles, CA                223950429   4.0\n",
            "4     New York, NY                209454427   5.0\n",
            "5      Houston, TX                199031920   6.0\n",
            "6      Phoenix, AZ                186032113   7.0\n",
            "7    Las Vegas, NV                184877669   8.0\n",
            "8  Minneapolis, MN                155881721   9.0\n",
            "9   Washington, DC                155604229  10.0\n"
          ]
        }
      ]
    },
    {
      "cell_type": "markdown",
      "source": [
        "5.In the years 2007 and 2009 together, the Top 10 states in the USA carry the maximum total # of passengers on the outbound flights.\n",
        "Output:\n",
        "state,total_num_passengers,rank\n"
      ],
      "metadata": {
        "id": "dFxxWfvJXSW9"
      }
    },
    {
      "cell_type": "code",
      "source": [
        "yr07_09=ap2[ap2['year'].isin([2007,2009])]\n",
        "nop=yr07_09.groupby('Origin_city')['Passengers'].sum().to_frame('TotalPassengers')\\\n",
        "  .sort_values(by='TotalPassengers',ascending=False).reset_index()\n",
        "nop['rank']=nop['TotalPassengers'].rank(ascending=False)\n",
        "nop.columns=['Origin City','Total No of Passengers','Rank']\n",
        "print(nop.nlargest(10,'Total No of Passengers'))"
      ],
      "metadata": {
        "colab": {
          "base_uri": "https://localhost:8080/"
        },
        "id": "ZotGZEuPZBzf",
        "outputId": "3b519854-f60e-4cdd-99be-9e466def7f06"
      },
      "execution_count": 3,
      "outputs": [
        {
          "output_type": "stream",
          "name": "stdout",
          "text": [
            "       Origin City  Total No of Passengers  Rank\n",
            "0      Chicago, IL                69706056   1.0\n",
            "1      Atlanta, GA                69454003   2.0\n",
            "2       Dallas, TX                55229445   3.0\n",
            "3     New York, NY                43328550   4.0\n",
            "4  Los Angeles, CA                39905708   5.0\n",
            "5      Houston, TX                38633317   6.0\n",
            "6    Las Vegas, NV                36404901   7.0\n",
            "7      Phoenix, AZ                34988199   8.0\n",
            "8   Washington, DC                32317957   9.0\n",
            "9    Charlotte, NC                29420705  10.0\n"
          ]
        }
      ]
    }
  ]
}