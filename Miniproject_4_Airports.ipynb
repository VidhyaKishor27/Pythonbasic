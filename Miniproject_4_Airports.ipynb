{
  "nbformat": 4,
  "nbformat_minor": 0,
  "metadata": {
    "colab": {
      "provenance": [],
      "mount_file_id": "https://github.com/VidhyaKishor27/Pythonbasic/blob/main/Miniproject_4_Airports.ipynb",
      "authorship_tag": "ABX9TyO37ZBe/xzBfWzT1fKZOoSe",
      "include_colab_link": true
    },
    "kernelspec": {
      "name": "python3",
      "display_name": "Python 3"
    },
    "language_info": {
      "name": "python"
    }
  },
  "cells": [
    {
      "cell_type": "markdown",
      "metadata": {
        "id": "view-in-github",
        "colab_type": "text"
      },
      "source": [
        "<a href=\"https://colab.research.google.com/github/VidhyaKishor27/Pythonbasic/blob/main/Miniproject_4_Airports.ipynb\" target=\"_parent\"><img src=\"https://colab.research.google.com/assets/colab-badge.svg\" alt=\"Open In Colab\"/></a>"
      ]
    },
    {
      "cell_type": "code",
      "source": [
        "import pandas as pd\n",
        "import numpy as np\n",
        "import seaborn as sns\n",
        "import matplotlib.pyplot as plt\n",
        "from tabulate import tabulate\n",
        "from datetime import datetime\n",
        "from google.colab import drive\n",
        "drive.mount('/content/drive')\n",
        "ap2=pd.read_csv('/content/drive/MyDrive/Python training/Miniproject - python/Airports2.csv')\n",
        "ap2['Fly_date']=pd.to_datetime(ap2['Fly_date']) #to_datetime() method converts string to datetime obj\n",
        "ap2['year']=ap2['Fly_date'].dt.year\n",
        "print(ap2.head(3))"
      ],
      "metadata": {
        "colab": {
          "base_uri": "https://localhost:8080/"
        },
        "id": "l29ClaVh-KXP",
        "outputId": "750193d1-0c22-41d3-e09d-969cc8157705"
      },
      "execution_count": 9,
      "outputs": [
        {
          "output_type": "stream",
          "name": "stdout",
          "text": [
            "Drive already mounted at /content/drive; to attempt to forcibly remount, call drive.mount(\"/content/drive\", force_remount=True).\n",
            "  Origin_airport Destination_airport    Origin_city Destination_city  \\\n",
            "0            MHK                 AMW  Manhattan, KS         Ames, IA   \n",
            "1            EUG                 RDM     Eugene, OR         Bend, OR   \n",
            "2            EUG                 RDM     Eugene, OR         Bend, OR   \n",
            "\n",
            "   Passengers  Seats  Flights  Distance   Fly_date  Origin_population  \\\n",
            "0          21     30        1       254 2008-10-01             122049   \n",
            "1          41    396       22       103 1990-11-01             284093   \n",
            "2          88    342       19       103 1990-12-01             284093   \n",
            "\n",
            "   Destination_population  Org_airport_lat  Org_airport_long  \\\n",
            "0                   86219        39.140999        -96.670799   \n",
            "1                   76034        44.124599       -123.211998   \n",
            "2                   76034        44.124599       -123.211998   \n",
            "\n",
            "   Dest_airport_lat  Dest_airport_long  year  \n",
            "0               NaN                NaN  2008  \n",
            "1         44.254101        -121.150002  1990  \n",
            "2         44.254101        -121.150002  1990  \n"
          ]
        }
      ]
    },
    {
      "cell_type": "markdown",
      "source": [
        "Part  2:\n",
        "1. In the year 2009, print Top 10 cities in the USA that received maximum # inbound flights.\n",
        "Output:\n",
        "city,total_inbound_flights,rank\n"
      ],
      "metadata": {
        "id": "wjT8Rdjc-JYj"
      }
    },
    {
      "cell_type": "code",
      "execution_count": 3,
      "metadata": {
        "colab": {
          "base_uri": "https://localhost:8080/"
        },
        "id": "3GFPbSSlPsn4",
        "outputId": "00b77ee3-55e0-4d3d-ac3d-1d960cc3c30c"
      },
      "outputs": [
        {
          "output_type": "stream",
          "name": "stdout",
          "text": [
            "                 City  Total Destination Flights  Rank\n",
            "74        Chicago, IL                   417297.0   1.0\n",
            "21        Atlanta, GA                   396603.0   2.0\n",
            "93         Dallas, TX                   316265.0   3.0\n",
            "263      New York, NY                   278206.0   4.0\n",
            "167       Houston, TX                   250030.0   5.0\n",
            "389    Washington, DC                   238744.0   6.0\n",
            "70      Charlotte, NC                   199700.0   7.0\n",
            "224   Los Angeles, CA                   192676.0   8.0\n",
            "98        Detroit, MI                   183655.0   9.0\n",
            "286  Philadelphia, PA                   181645.0  10.0\n"
          ]
        }
      ],
      "source": [
        "filteredyr=ap2.where(ap2['year']==2009, inplace=False)\n",
        "inbound=filteredyr.groupby('Destination_city')['Flights'].sum().to_frame('TotalFlights')\\\n",
        "  .reset_index().sort_values(by='TotalFlights',ascending=False)\n",
        "inbound['rank']=inbound['TotalFlights'].rank(ascending=False)\n",
        "inbound.columns=['City','Total Destination Flights','Rank']\n",
        "print(inbound.nlargest(10,'Total Destination Flights'))"
      ]
    },
    {
      "cell_type": "markdown",
      "source": [
        "2.In the year 2009, print Top 10 cities in the USA that received maximum # outbound flights.\n",
        "Output:\n",
        "city,total_outbound_flights,rank\n"
      ],
      "metadata": {
        "id": "vLO7lKoBJ9jg"
      }
    },
    {
      "cell_type": "code",
      "source": [
        "outbound=filteredyr.groupby('Origin_city')['Flights'].sum().to_frame('TotalFlights')\\\n",
        "  .reset_index().sort_values(by='TotalFlights',ascending=False)\n",
        "outbound['rank']=outbound['TotalFlights'].rank(ascending=False)\n",
        "outbound.columns=['City','Total Origin Flights','Rank']\n",
        "print(outbound.nlargest(10,'Total Origin Flights'))"
      ],
      "metadata": {
        "colab": {
          "base_uri": "https://localhost:8080/"
        },
        "id": "-Wf5-Y9UKBZI",
        "outputId": "f2a1ec41-e30d-4c00-a309-c34c1d2eabbc"
      },
      "execution_count": 4,
      "outputs": [
        {
          "output_type": "stream",
          "name": "stdout",
          "text": [
            "                 City  Total Origin Flights  Rank\n",
            "74        Chicago, IL              416742.0   1.0\n",
            "21        Atlanta, GA              397112.0   2.0\n",
            "92         Dallas, TX              316739.0   3.0\n",
            "261      New York, NY              278351.0   4.0\n",
            "166       Houston, TX              249285.0   5.0\n",
            "388    Washington, DC              238958.0   6.0\n",
            "70      Charlotte, NC              200403.0   7.0\n",
            "222   Los Angeles, CA              193248.0   8.0\n",
            "97        Detroit, MI              184087.0   9.0\n",
            "285  Philadelphia, PA              181575.0  10.0\n"
          ]
        }
      ]
    },
    {
      "cell_type": "markdown",
      "source": [
        "3. In between 1999-2009, print Top 10 cities in the USA that received maximum # outbound flights.\n",
        "Output:\n",
        "city,total_outbound_flights, rank\n"
      ],
      "metadata": {
        "id": "-O11Sz2nLP_4"
      }
    },
    {
      "cell_type": "code",
      "source": [
        "yr99_09=ap2[ap2['year'].between(1999,2009)]\n",
        "out99_09=yr99_09.groupby('Origin_city')['Flights'].sum().to_frame('TotalFlights')\\\n",
        "  .reset_index().sort_values(by='TotalFlights',ascending=False)\n",
        "out99_09['rank']=out99_09['TotalFlights'].rank(ascending=False)\n",
        "out99_09.columns=['Origin City','Total Outbound Flights','Rank']\n",
        "print(out99_09.nlargest(10,'Total Outbound Flights'))\n",
        "\n"
      ],
      "metadata": {
        "colab": {
          "base_uri": "https://localhost:8080/"
        },
        "id": "7FBAvdfDLRVq",
        "outputId": "461822db-bef9-4b48-b350-9e6ed210669f"
      },
      "execution_count": null,
      "outputs": [
        {
          "output_type": "stream",
          "name": "stdout",
          "text": [
            "         Origin City  Total Outbound Flights  Rank\n",
            "93       Chicago, IL                 4997322   1.0\n",
            "28       Atlanta, GA                 4177480   2.0\n",
            "115       Dallas, TX                 3938032   3.0\n",
            "217      Houston, TX                 2750620   4.0\n",
            "342     New York, NY                 2750398   5.0\n",
            "509   Washington, DC                 2432099   6.0\n",
            "286  Los Angeles, CA                 2412159   7.0\n",
            "125      Detroit, MI                 2215283   8.0\n",
            "313  Minneapolis, MN                 2080578   9.0\n",
            "371      Phoenix, AZ                 1983949  10.0\n"
          ]
        }
      ]
    },
    {
      "cell_type": "markdown",
      "source": [
        "4. In between 1999-2009, the Top 10 cities in the USA carry the maximum total # of passengers on outbound flights. The city column in the output will also have its state (For example San Francisco, CA).\n",
        "Output:\n",
        "city,total_num_passengers,rank\n"
      ],
      "metadata": {
        "id": "T8Fu3BKzNm7S"
      }
    },
    {
      "cell_type": "code",
      "source": [
        "pass99_09=yr99_09.groupby('Origin_city')['Passengers'].sum().to_frame('TotalPassengers')\\\n",
        "  .sort_values(by='TotalPassengers',ascending=False).reset_index()\n",
        "pass99_09['rank']=pass99_09['TotalPassengers'].rank(ascending=False)\n",
        "pass99_09.columns=['Origin City','Total No. of Passengers','Rank']\n",
        "print(pass99_09.nlargest(10,'Total No. of Passengers'))\n"
      ],
      "metadata": {
        "colab": {
          "base_uri": "https://localhost:8080/"
        },
        "id": "8CNV1Lr9Wxum",
        "outputId": "e15f6755-4c18-4527-a6ea-dab68b685e39"
      },
      "execution_count": null,
      "outputs": [
        {
          "output_type": "stream",
          "name": "stdout",
          "text": [
            "       Origin City  Total No. of Passengers  Rank\n",
            "0      Chicago, IL                381908565   1.0\n",
            "1      Atlanta, GA                368972910   2.0\n",
            "2       Dallas, TX                294826498   3.0\n",
            "3  Los Angeles, CA                223950429   4.0\n",
            "4     New York, NY                209454427   5.0\n",
            "5      Houston, TX                199031920   6.0\n",
            "6      Phoenix, AZ                186032113   7.0\n",
            "7    Las Vegas, NV                184877669   8.0\n",
            "8  Minneapolis, MN                155881721   9.0\n",
            "9   Washington, DC                155604229  10.0\n"
          ]
        }
      ]
    },
    {
      "cell_type": "markdown",
      "source": [
        "5.In the years 2007 and 2009 together, the Top 10 states in the USA carry the maximum total # of passengers on the outbound flights.\n",
        "Output:\n",
        "state,total_num_passengers,rank\n"
      ],
      "metadata": {
        "id": "dFxxWfvJXSW9"
      }
    },
    {
      "cell_type": "code",
      "source": [
        "yr07_09=ap2[ap2['year'].isin([2007,2009])]\n",
        "nop=yr07_09.groupby('Origin_city')['Passengers'].sum().to_frame('TotalPassengers')\\\n",
        "  .sort_values(by='TotalPassengers',ascending=False).reset_index()\n",
        "nop['rank']=nop['TotalPassengers'].rank(ascending=False)\n",
        "nop.columns=['Origin City','Total No of Passengers','Rank']\n",
        "print(nop.nlargest(10,'Total No of Passengers'))"
      ],
      "metadata": {
        "colab": {
          "base_uri": "https://localhost:8080/"
        },
        "id": "ZotGZEuPZBzf",
        "outputId": "3b519854-f60e-4cdd-99be-9e466def7f06"
      },
      "execution_count": null,
      "outputs": [
        {
          "output_type": "stream",
          "name": "stdout",
          "text": [
            "       Origin City  Total No of Passengers  Rank\n",
            "0      Chicago, IL                69706056   1.0\n",
            "1      Atlanta, GA                69454003   2.0\n",
            "2       Dallas, TX                55229445   3.0\n",
            "3     New York, NY                43328550   4.0\n",
            "4  Los Angeles, CA                39905708   5.0\n",
            "5      Houston, TX                38633317   6.0\n",
            "6    Las Vegas, NV                36404901   7.0\n",
            "7      Phoenix, AZ                34988199   8.0\n",
            "8   Washington, DC                32317957   9.0\n",
            "9    Charlotte, NC                29420705  10.0\n"
          ]
        }
      ]
    },
    {
      "cell_type": "markdown",
      "source": [
        "6. Merge the columns 1 and 2\n",
        "Output:\n",
        "city,total_inbound_flights,inbound_rank,total_outbound_flights,outbound_rank\n"
      ],
      "metadata": {
        "id": "BjJBcQLQbsdk"
      }
    },
    {
      "cell_type": "code",
      "source": [
        "merge_flights=inbound.merge(outbound,on=['City'],how='inner')\n",
        "print(merge_flights.head(3))"
      ],
      "metadata": {
        "id": "6ybXxJu1cW8H",
        "outputId": "bf343f7f-cebb-4c4b-efee-02ed493dae6a",
        "colab": {
          "base_uri": "https://localhost:8080/"
        }
      },
      "execution_count": 5,
      "outputs": [
        {
          "output_type": "stream",
          "name": "stdout",
          "text": [
            "          City  Total Destination Flights  Rank_x  Total Origin Flights  \\\n",
            "0  Chicago, IL                   417297.0     1.0              416742.0   \n",
            "1  Atlanta, GA                   396603.0     2.0              397112.0   \n",
            "2   Dallas, TX                   316265.0     3.0              316739.0   \n",
            "\n",
            "   Rank_y  \n",
            "0     1.0  \n",
            "1     2.0  \n",
            "2     3.0  \n"
          ]
        }
      ]
    },
    {
      "cell_type": "markdown",
      "source": [
        "7. Plot group bar chart (see below image) with seaborn/matplotlib for the output in question 6 above, specifically city,total_inbound_flights,total_outbound_flights. One bar for total_inbound_flights and another for total_outbound_flights. Plot for only top 10 cities by total_inbound_flights.\n",
        "\n",
        "\tX-axis - city\n",
        "\tY-axis - total_outbound_flights, total_inbound_flights"
      ],
      "metadata": {
        "id": "D45oma_Oc_vX"
      }
    },
    {
      "cell_type": "code",
      "source": [
        "top10_inbound=merge_flights.nlargest(10,'Total Destination Flights')\n",
        "del top10_inbound['Rank_x']\n",
        "del top10_inbound['Rank_y']\n",
        "print(top10_inbound)\n",
        "df_melted = top10_inbound.melt(\"City\",var_name=\"Inbound & Outbound Flights\",value_name=\"Total Flights\")\n",
        "sns.barplot(x='City',y='Total Flights',hue='Inbound & Outbound Flights',data=df_melted)\n",
        "plt.xticks(rotation=90)\n",
        "plt.title('Total Flights')\n",
        "plt.show()"
      ],
      "metadata": {
        "id": "J-4XHsrYdG_V",
        "colab": {
          "base_uri": "https://localhost:8080/",
          "height": 760
        },
        "outputId": "d75a9f29-df59-48b6-8a1a-9d073cb79b28"
      },
      "execution_count": 24,
      "outputs": [
        {
          "output_type": "stream",
          "name": "stdout",
          "text": [
            "               City  Total Destination Flights  Total Origin Flights\n",
            "0       Chicago, IL                   417297.0              416742.0\n",
            "1       Atlanta, GA                   396603.0              397112.0\n",
            "2        Dallas, TX                   316265.0              316739.0\n",
            "3      New York, NY                   278206.0              278351.0\n",
            "4       Houston, TX                   250030.0              249285.0\n",
            "5    Washington, DC                   238744.0              238958.0\n",
            "6     Charlotte, NC                   199700.0              200403.0\n",
            "7   Los Angeles, CA                   192676.0              193248.0\n",
            "8       Detroit, MI                   183655.0              184087.0\n",
            "9  Philadelphia, PA                   181645.0              181575.0\n"
          ]
        },
        {
          "output_type": "display_data",
          "data": {
            "text/plain": [
              "<Figure size 640x480 with 1 Axes>"
            ],
            "image/png": "[encoded data removed]"
          },
          "metadata": {}
        }
      ]
    },
    {
      "cell_type": "markdown",
      "source": [
        "Part 1:\n",
        "Reading File"
      ],
      "metadata": {
        "id": "sbt8bA8E3QxD"
      }
    },
    {
      "cell_type": "code",
      "source": [
        "import pandas as pd\n",
        "import numpy as np\n",
        "import seaborn as sns\n",
        "import matplotlib.pyplot as plt\n",
        "from tabulate import tabulate\n",
        "from datetime import datetime\n",
        "from google.colab import drive\n",
        "drive.mount('/content/drive')\n",
        "ap1=pd.read_csv('/content/drive/MyDrive/Python training/Miniproject - python/airports.dat.txt')\n",
        "ap1.columns=['Airport_ID','Name','City','Country','IATA','ICAO','Latitude','Longitude','Altitude','Timezone','DST','Tz Database Timezone','Type','Source']\n",
        "print(ap1.head(3))\n"
      ],
      "metadata": {
        "colab": {
          "base_uri": "https://localhost:8080/"
        },
        "id": "PUl66kek3YHw",
        "outputId": "65a2056d-c3b0-46d2-f41b-18cefbb1743b"
      },
      "execution_count": 1,
      "outputs": [
        {
          "output_type": "stream",
          "name": "stdout",
          "text": [
            "Drive already mounted at /content/drive; to attempt to forcibly remount, call drive.mount(\"/content/drive\", force_remount=True).\n",
            "   Airport_ID                          Name         City           Country  \\\n",
            "0           2                Madang Airport       Madang  Papua New Guinea   \n",
            "1           3  Mount Hagen Kagamuga Airport  Mount Hagen  Papua New Guinea   \n",
            "2           4                Nadzab Airport       Nadzab  Papua New Guinea   \n",
            "\n",
            "  IATA  ICAO  Latitude   Longitude  Altitude Timezone DST  \\\n",
            "0  MAG  AYMD -5.207080  145.789001        20       10   U   \n",
            "1  HGU  AYMH -5.826790  144.296005      5388       10   U   \n",
            "2  LAE  AYNZ -6.569803  146.725977       239       10   U   \n",
            "\n",
            "   Tz Database Timezone     Type       Source  \n",
            "0  Pacific/Port_Moresby  airport  OurAirports  \n",
            "1  Pacific/Port_Moresby  airport  OurAirports  \n",
            "2  Pacific/Port_Moresby  airport  OurAirports  \n"
          ]
        }
      ]
    },
    {
      "cell_type": "markdown",
      "source": [
        "1. Top 20 highest altitude airports in the world. Choose only “type” with “airport”\n",
        "Output:\n",
        "airport_id, name, city, country, altitude, rank\n"
      ],
      "metadata": {
        "id": "7WrqKlQmcaCM"
      }
    },
    {
      "cell_type": "code",
      "source": [
        "df_altitude=ap1[ap1['Type']=='airport']\n",
        "df_altitude['Rank']=df_altitude['Altitude'].rank(ascending=False)\n",
        "top20_altitude=df_altitude.nlargest(20,'Altitude')\n",
        "print(top20_altitude[['Airport_ID','Name','City','Country','Altitude','Rank']])\n"
      ],
      "metadata": {
        "colab": {
          "base_uri": "https://localhost:8080/"
        },
        "id": "mwIo2MUKcohl",
        "outputId": "4b9ce5c1-a967-4354-e685-47aaf64db907"
      },
      "execution_count": 8,
      "outputs": [
        {
          "output_type": "stream",
          "name": "stdout",
          "text": [
            "      Airport_ID                                    Name         City  \\\n",
            "6541        9310                 Daocheng Yading Airport     Daocheng   \n",
            "5027        6396                    Qamdo Bangda Airport       Bangda   \n",
            "6392        8921                        Kangding Airport     Kangding   \n",
            "5871        7932                     Ngari Gunsa Airport    Shiquanhe   \n",
            "2624        2762           El Alto International Airport       La Paz   \n",
            "2626        2764           Capitan Nicolas Rojas Airport       Potosi   \n",
            "5850        7894                    Yushu Batang Airport        Yushu   \n",
            "6419        8969                      Copacabana Airport   Copacabana   \n",
            "2653        2792  Inca Manco Capac International Airport      Juliaca   \n",
            "7537       13483                     Golog Maqin Airport        Golog   \n",
            "5777        7766                      Syangboche Airport   Syangboche   \n",
            "2625        2763                    Juan Mendoza Airport        Oruro   \n",
            "3873        4097                   Lhasa Gonggar Airport        Lhasa   \n",
            "6802       10943                        Hongyuan Airport        Ngawa   \n",
            "2341        2464                       La Quiaca Airport    Laboulaye   \n",
            "4039        4301               Jiuzhai Huanglong Airport   Jiuzhaigou   \n",
            "2648        2787                     Andahuaylas Airport  Andahuaylas   \n",
            "5498        7313                           Uyuni Airport        Uyuni   \n",
            "2652        2791                 Francisco Carle Airport        Jauja   \n",
            "3941        4174                          Manang Airport       Manang   \n",
            "\n",
            "        Country  Altitude  Rank  \n",
            "6541      China     14472   1.0  \n",
            "5027      China     14219   2.0  \n",
            "6392      China     14042   3.0  \n",
            "5871      China     14022   4.0  \n",
            "2624    Bolivia     13355   5.0  \n",
            "2626    Bolivia     12913   6.0  \n",
            "5850      China     12816   7.0  \n",
            "6419    Bolivia     12591   8.0  \n",
            "2653       Peru     12552   9.0  \n",
            "7537      China     12426  10.0  \n",
            "5777      Nepal     12400  11.0  \n",
            "2625    Bolivia     12152  12.0  \n",
            "3873      China     11713  13.0  \n",
            "6802      China     11600  14.0  \n",
            "2341  Argentina     11414  15.0  \n",
            "4039      China     11327  16.0  \n",
            "2648       Peru     11300  17.0  \n",
            "5498    Bolivia     11136  18.0  \n",
            "2652       Peru     11034  19.0  \n",
            "3941      Nepal     11001  20.0  \n"
          ]
        }
      ]
    },
    {
      "cell_type": "markdown",
      "source": [
        "2. Top 20 countries that have the highest total # of airports.\n",
        "Output:\n",
        "country, total_airports, rank\n"
      ],
      "metadata": {
        "id": "oytjCkg8zEkr"
      }
    },
    {
      "cell_type": "code",
      "source": [
        "num_airport=df_altitude.groupby (['Country'])['Name'].count().to_frame('TotalAirports').sort_values(by='TotalAirports',ascending=False).reset_index()\n",
        "num_airport['Rank']=num_airport['TotalAirports'].rank(ascending=False)\n",
        "print(tabulate(num_airport.head(20),headers=['Country','Total Airports','Rank'],tablefmt='grid'))\n"
      ],
      "metadata": {
        "colab": {
          "base_uri": "https://localhost:8080/"
        },
        "id": "ELjpI9kMzOl_",
        "outputId": "e36c3900-12fd-4239-92e1-60c96e7a0cac"
      },
      "execution_count": 10,
      "outputs": [
        {
          "output_type": "stream",
          "name": "stdout",
          "text": [
            "+----+----------------+------------------+--------+\n",
            "|    | Country        |   Total Airports |   Rank |\n",
            "+====+================+==================+========+\n",
            "|  0 | United States  |             1512 |    1   |\n",
            "+----+----------------+------------------+--------+\n",
            "|  1 | Canada         |              430 |    2   |\n",
            "+----+----------------+------------------+--------+\n",
            "|  2 | Australia      |              334 |    3   |\n",
            "+----+----------------+------------------+--------+\n",
            "|  3 | Russia         |              264 |    4.5 |\n",
            "+----+----------------+------------------+--------+\n",
            "|  4 | Brazil         |              264 |    4.5 |\n",
            "+----+----------------+------------------+--------+\n",
            "|  5 | Germany        |              249 |    6   |\n",
            "+----+----------------+------------------+--------+\n",
            "|  6 | China          |              241 |    7   |\n",
            "+----+----------------+------------------+--------+\n",
            "|  7 | France         |              217 |    8   |\n",
            "+----+----------------+------------------+--------+\n",
            "|  8 | United Kingdom |              167 |    9   |\n",
            "+----+----------------+------------------+--------+\n",
            "|  9 | India          |              148 |   10   |\n",
            "+----+----------------+------------------+--------+\n",
            "| 10 | Indonesia      |              145 |   11   |\n",
            "+----+----------------+------------------+--------+\n",
            "| 11 | Japan          |              123 |   12   |\n",
            "+----+----------------+------------------+--------+\n",
            "| 12 | South Africa   |               99 |   13   |\n",
            "+----+----------------+------------------+--------+\n",
            "| 13 | Argentina      |               96 |   14   |\n",
            "+----+----------------+------------------+--------+\n",
            "| 14 | Mexico         |               84 |   15   |\n",
            "+----+----------------+------------------+--------+\n",
            "| 15 | Italy          |               83 |   16   |\n",
            "+----+----------------+------------------+--------+\n",
            "| 16 | Iran           |               82 |   17   |\n",
            "+----+----------------+------------------+--------+\n",
            "| 17 | Sweden         |               77 |   18   |\n",
            "+----+----------------+------------------+--------+\n",
            "| 18 | Turkey         |               76 |   19   |\n",
            "+----+----------------+------------------+--------+\n",
            "| 19 | Colombia       |               75 |   20   |\n",
            "+----+----------------+------------------+--------+\n"
          ]
        }
      ]
    },
    {
      "cell_type": "markdown",
      "source": [
        "3. Top 20 cities that have the highest total # of airports. (Two cities from different countries can have the same name, and you have to make sure the numbers are not messed up due to that!)\n",
        "Output:\n",
        "city, total_airports, rank\n"
      ],
      "metadata": {
        "id": "1DLCzg3l1gXL"
      }
    },
    {
      "cell_type": "code",
      "source": [
        "city_airport2=df_altitude.groupby (['City'])['Name'].count().to_frame('TotalAirports').sort_values(by='TotalAirports',ascending=False).reset_index()\n",
        "city_airport2['Rank']=city_airport2['TotalAirports'].rank(method='dense',ascending=False)# dense method in rank() will not skip any rank if there is tie between numbers.\n",
        "print(tabulate(city_airport2.head(20),headers=['City','Total Airports','Rank'],tablefmt='grid'))\n",
        "#print(city_airport2.nlargest(20,'TotalAirports'))\n"
      ],
      "metadata": {
        "colab": {
          "base_uri": "https://localhost:8080/"
        },
        "id": "tcQSH7L-1ofZ",
        "outputId": "0599f158-0a4a-4b8f-eaff-5fdacc0bebf3"
      },
      "execution_count": 20,
      "outputs": [
        {
          "output_type": "stream",
          "name": "stdout",
          "text": [
            "+----+--------------+------------------+--------+\n",
            "|    | City         |   Total Airports |   Rank |\n",
            "+====+==============+==================+========+\n",
            "|  0 | London       |                9 |      1 |\n",
            "+----+--------------+------------------+--------+\n",
            "|  1 | Columbus     |                8 |      2 |\n",
            "+----+--------------+------------------+--------+\n",
            "|  2 | Georgetown   |                7 |      3 |\n",
            "+----+--------------+------------------+--------+\n",
            "|  3 | San Jose     |                7 |      3 |\n",
            "+----+--------------+------------------+--------+\n",
            "|  4 | Houston      |                6 |      4 |\n",
            "+----+--------------+------------------+--------+\n",
            "|  5 | New York     |                6 |      4 |\n",
            "+----+--------------+------------------+--------+\n",
            "|  6 | Moscow       |                6 |      4 |\n",
            "+----+--------------+------------------+--------+\n",
            "|  7 | Alexandria   |                6 |      4 |\n",
            "+----+--------------+------------------+--------+\n",
            "|  8 | Jacksonville |                6 |      4 |\n",
            "+----+--------------+------------------+--------+\n",
            "|  9 | Santiago     |                6 |      4 |\n",
            "+----+--------------+------------------+--------+\n",
            "| 10 | Greenville   |                6 |      4 |\n",
            "+----+--------------+------------------+--------+\n",
            "| 11 | Victoria     |                5 |      5 |\n",
            "+----+--------------+------------------+--------+\n",
            "| 12 | Burlington   |                5 |      5 |\n",
            "+----+--------------+------------------+--------+\n",
            "| 13 | Atlanta      |                5 |      5 |\n",
            "+----+--------------+------------------+--------+\n",
            "| 14 | Hamilton     |                5 |      5 |\n",
            "+----+--------------+------------------+--------+\n",
            "| 15 | Rome         |                5 |      5 |\n",
            "+----+--------------+------------------+--------+\n",
            "| 16 | Richmond     |                5 |      5 |\n",
            "+----+--------------+------------------+--------+\n",
            "| 17 | San Antonio  |                5 |      5 |\n",
            "+----+--------------+------------------+--------+\n",
            "| 18 | Athens       |                5 |      5 |\n",
            "+----+--------------+------------------+--------+\n",
            "| 19 | Izmir        |                5 |      5 |\n",
            "+----+--------------+------------------+--------+\n"
          ]
        }
      ]
    },
    {
      "cell_type": "markdown",
      "source": [
        "4. Pair of cities that have the same name, but from two different countries.\n",
        "(hint: Use self join with query in Python (slack example))\n",
        "Output:\n",
        "city_a, country_a, city_b, country_b\n"
      ],
      "metadata": {
        "id": "FZmJdhYF4ytQ"
      }
    },
    {
      "cell_type": "code",
      "source": [],
      "metadata": {
        "id": "_Ep91psz43ni"
      },
      "execution_count": null,
      "outputs": []
    }
  ]
}