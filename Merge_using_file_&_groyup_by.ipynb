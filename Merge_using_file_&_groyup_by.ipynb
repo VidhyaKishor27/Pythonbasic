{
  "nbformat": 4,
  "nbformat_minor": 0,
  "metadata": {
    "colab": {
      "provenance": [],
      "authorship_tag": "ABX9TyOeGNxtEV8zBAJ6sTkO35Kj",
      "include_colab_link": true
    },
    "kernelspec": {
      "name": "python3",
      "display_name": "Python 3"
    },
    "language_info": {
      "name": "python"
    }
  },
  "cells": [
    {
      "cell_type": "markdown",
      "metadata": {
        "id": "view-in-github",
        "colab_type": "text"
      },
      "source": [
        "<a href=\"https://colab.research.google.com/github/VidhyaKishor27/Pythonbasic/blob/main/Merge_using_file_%26_groyup_by.ipynb\" target=\"_parent\"><img src=\"https://colab.research.google.com/assets/colab-badge.svg\" alt=\"Open In Colab\"/></a>"
      ]
    },
    {
      "cell_type": "code",
      "execution_count": null,
      "metadata": {
        "colab": {
          "base_uri": "https://localhost:8080/"
        },
        "id": "xiWhscgvcbpi",
        "outputId": "4cbe35b9-1158-48b7-8e4e-e8de70f033df"
      },
      "outputs": [
        {
          "output_type": "stream",
          "name": "stdout",
          "text": [
            "Drive already mounted at /content/drive; to attempt to forcibly remount, call drive.mount(\"/content/drive\", force_remount=True).\n",
            "         Class     Name  Age     Sex   Train\n",
            "0  First Class     Raja   20    Male  Train1\n",
            "1      General     Rani   15  Female  Train1\n",
            "2           AC  Gowtham   45    Male  Train2\n",
            "3      General     Ajay   39    Male  Train1\n",
            "4  First Class   Aneesh   40    Male  Train2\n",
            "5           AC     Maya   25  Female  Train1\n",
            "6  First Class   Radika   12  Female  Train2\n",
            "7  First Class    Laxmi   60  Female  Train2\n",
            "         Class     Name   Train  Cost\n",
            "0  First Class     Raja  Train1   100\n",
            "1      General     Rani  Train1    50\n",
            "2           AC  Gowtham  Train2  1000\n",
            "3      General     Ajay  Train1    50\n",
            "4  First Class   Aneesh  Train2   100\n",
            "5           AC     Maya  Train1  1000\n",
            "6  First Class   Radika  Train2   100\n",
            "7  First Class    Laxmi  Train2   100\n",
            "         Class     Name  Age     Sex   Train  Cost\n",
            "0  First Class     Raja   20    Male  Train1   100\n",
            "1      General     Rani   15  Female  Train1    50\n",
            "2           AC  Gowtham   45    Male  Train2  1000\n",
            "3      General     Ajay   39    Male  Train1    50\n",
            "4  First Class   Aneesh   40    Male  Train2   100\n",
            "5           AC     Maya   25  Female  Train1  1000\n",
            "6  First Class   Radika   12  Female  Train2   100\n",
            "7  First Class    Laxmi   60  Female  Train2   100\n",
            "Class\n",
            "AC             2000\n",
            "First Class     400\n",
            "General         100\n",
            "Name: Cost, dtype: int64\n",
            "      Name  Cost\n",
            "2  Gowtham  1000\n",
            "5     Maya  1000\n"
          ]
        },
        {
          "output_type": "stream",
          "name": "stderr",
          "text": [
            "<ipython-input-5-cbc10c0e2904>:16: FutureWarning: Indexing with multiple keys (implicitly converted to a tuple of keys) will be deprecated, use a list instead.\n",
            "  print(df3.groupby(['Class'])['Name','Cost'].get_group('AC'))\n"
          ]
        }
      ],
      "source": [
        "#Merge() & groupby() - group by is used to group data based on the specified classification.\n",
        "import pandas as pd\n",
        "from google.colab import drive\n",
        "drive.mount('/content/drive')\n",
        "df1=pd.read_excel('/content/drive/MyDrive/Python training/mergedf1.xlsx')\n",
        "print(df1)\n",
        "df2=pd.read_excel('/content/drive/MyDrive/Python training/mergedf2.xlsx')\n",
        "print(df2)\n",
        "df3=df1.merge(df2,how=\"inner\")\n",
        "print(df3)\n",
        "#df4=df3.groupby(['Class'])['Cost'].sum()\n",
        "print(df3.groupby(['Class'])['Cost'].sum())\n",
        "#print(df3.groupby(['Class','Sex'])['Age'])\n",
        "#print(df4)\n",
        "#print(df4.get_group('AC'))\n",
        "print(df3.groupby(['Class'])['Name','Cost'].get_group('AC'))\n"
      ]
    }
  ]
}