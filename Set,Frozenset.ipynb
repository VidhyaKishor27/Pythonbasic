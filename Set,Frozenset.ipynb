{
  "nbformat": 4,
  "nbformat_minor": 0,
  "metadata": {
    "colab": {
      "provenance": [],
      "authorship_tag": "ABX9TyMhwgO9Q5GWUt11JfChhMCg",
      "include_colab_link": true
    },
    "kernelspec": {
      "name": "python3",
      "display_name": "Python 3"
    },
    "language_info": {
      "name": "python"
    }
  },
  "cells": [
    {
      "cell_type": "markdown",
      "metadata": {
        "id": "view-in-github",
        "colab_type": "text"
      },
      "source": [
        "<a href=\"https://colab.research.google.com/github/VidhyaKishor27/Pythonbasic/blob/main/Set%2CFrozenset.ipynb\" target=\"_parent\"><img src=\"https://colab.research.google.com/assets/colab-badge.svg\" alt=\"Open In Colab\"/></a>"
      ]
    },
    {
      "cell_type": "code",
      "execution_count": 9,
      "metadata": {
        "colab": {
          "base_uri": "https://localhost:8080/"
        },
        "id": "46jhE2gUnhz1",
        "outputId": "5c2d2404-b039-4b3e-edc3-095bb96d6a86"
      },
      "outputs": [
        {
          "output_type": "stream",
          "name": "stdout",
          "text": [
            "{'Red', 'Yellow', 'Blue', 'Orange'}\n",
            "{'Orange', 'Blue', 'Green', 'Yellow', 'Red'}\n",
            "{'Orange', 'Blue', 'Green', 'Yellow'}\n",
            "frozenset({'Cherry', 'Banana', 'Apple'})\n",
            "frozenset({'c2', 'c1', 'c3'})\n"
          ]
        }
      ],
      "source": [
        "#A set is an unordered and unindexed collection of unique elements.\n",
        "#Sets are mutable, you can change the elements using a built-in function like add(), remove(), etc\n",
        "#A frozenset is an unordered and unindexed collection of unique elements. It is immutable.\n",
        "#Since the elements are fixed, unlike sets you can't add or remove elements from the set.\n",
        "#Can be used as keys in dict\n",
        "colors={'Red','Blue','Orange','Yellow'}\n",
        "fruits={'Apple','Banana','Cherry'}\n",
        "fset1=frozenset(fruits)\n",
        "print(colors)\n",
        "colors.add('Green')\n",
        "print(colors)\n",
        "colors.remove('Red')\n",
        "print(colors)\n",
        "print(fset1)\n",
        "dict1={'c1':1,'c2':2,'c3':3}\n",
        "items=frozenset(dict1)\n",
        "print(items)# only keys of dict can act as frozenset"
      ]
    }
  ]
}