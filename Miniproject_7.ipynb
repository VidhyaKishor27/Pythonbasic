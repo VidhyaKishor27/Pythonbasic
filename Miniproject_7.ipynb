{
  "nbformat": 4,
  "nbformat_minor": 0,
  "metadata": {
    "colab": {
      "provenance": [],
      "mount_file_id": "1kJgCuO51x69Ec2Ex3wR-zVjBEP6FrQ8F",
      "authorship_tag": "ABX9TyPL3vdE18nPFZ3rChPSyr9d",
      "include_colab_link": true
    },
    "kernelspec": {
      "name": "python3",
      "display_name": "Python 3"
    },
    "language_info": {
      "name": "python"
    }
  },
  "cells": [
    {
      "cell_type": "markdown",
      "metadata": {
        "id": "view-in-github",
        "colab_type": "text"
      },
      "source": [
        "<a href=\"https://colab.research.google.com/github/VidhyaKishor27/Pythonbasic/blob/main/Miniproject_7.ipynb\" target=\"_parent\"><img src=\"https://colab.research.google.com/assets/colab-badge.svg\" alt=\"Open In Colab\"/></a>"
      ]
    },
    {
      "cell_type": "code",
      "execution_count": 2,
      "metadata": {
        "colab": {
          "base_uri": "https://localhost:8080/"
        },
        "id": "uML2PSbsfM0f",
        "outputId": "0bbd90f1-479b-411d-ae6a-27495f8b8b77"
      },
      "outputs": [
        {
          "output_type": "stream",
          "name": "stdout",
          "text": [
            "Drive already mounted at /content/drive; to attempt to forcibly remount, call drive.mount(\"/content/drive\", force_remount=True).\n",
            "            Type                       Date Part of a policing operation  \\\n",
            "0  Person search  2019-07-01T00:02:43+00:00                        False   \n",
            "1  Person search  2019-07-01T00:39:19+00:00                        False   \n",
            "2  Person search  2019-07-01T01:11:57+00:00                        False   \n",
            "\n",
            "   Policing operation   Latitude  Longitude Gender Age range  \\\n",
            "0                 NaN  52.390821  -2.169897   Male   over 34   \n",
            "1                 NaN  52.365964  -2.192521   Male     25-34   \n",
            "2                 NaN  52.111560  -1.919568   Male     10-17   \n",
            "\n",
            "                              Self-defined ethnicity  \\\n",
            "0  White - English/Welsh/Scottish/Northern Irish/...   \n",
            "1        Other ethnic group - Any other ethnic group   \n",
            "2  White - English/Welsh/Scottish/Northern Irish/...   \n",
            "\n",
            "  Officer-defined ethnicity  ... Month Reported by Falls within Location  \\\n",
            "0                     White  ...   NaN         NaN          NaN      NaN   \n",
            "1                     Other  ...   NaN         NaN          NaN      NaN   \n",
            "2                     White  ...   NaN         NaN          NaN      NaN   \n",
            "\n",
            "  LSOA code LSOA name Outcome type Crime type Last outcome category Context  \n",
            "0       NaN       NaN          NaN        NaN                   NaN     NaN  \n",
            "1       NaN       NaN          NaN        NaN                   NaN     NaN  \n",
            "2       NaN       NaN          NaN        NaN                   NaN     NaN  \n",
            "\n",
            "[3 rows x 26 columns]\n"
          ]
        }
      ],
      "source": [
        "import glob\n",
        "import pandas as pd\n",
        "from tabulate import tabulate\n",
        "import numpy as np\n",
        "from google.colab import drive\n",
        "drive.mount('/content/drive')\n",
        "path = '/content/drive/MyDrive/Python MiniProjects/Miniproject 7'\n",
        "csv_files = glob.glob(path + \"/*.csv\")\n",
        "df_list = [pd.read_csv(file) for file in csv_files]\n",
        "big_df=pd.concat(df_list,ignore_index=True)\n",
        "print(big_df.head(3))"
      ]
    },
    {
      "cell_type": "markdown",
      "source": [
        "Part 1 Questions:\n",
        "1. Top 10 Type by # events. Type column is the event (see sample data in the end of this document ).\n",
        "Output:\n",
        "type, num_events, rank\n"
      ],
      "metadata": {
        "id": "tHTbb9HKiSJU"
      }
    },
    {
      "cell_type": "code",
      "source": [
        "top10_type=big_df.groupby(['Type'])['Type'].size().to_frame('Num_Event').sort_values(by='Num_Event', ascending=False).reset_index()\n",
        "top10_type['Rank']=top10_type['Num_Event'].rank(ascending=False)\n",
        "print(top10_type)\n",
        "df1=big_df.to_csv()"
      ],
      "metadata": {
        "colab": {
          "base_uri": "https://localhost:8080/"
        },
        "id": "7VU3Fi8rjv5T",
        "outputId": "2dab6da9-a77a-492f-f337-b78e6a3c17f1"
      },
      "execution_count": 12,
      "outputs": [
        {
          "output_type": "stream",
          "name": "stdout",
          "text": [
            "                        Type  Num_Event  Rank\n",
            "0              Person search      17275   1.0\n",
            "1  Person and Vehicle search       4555   2.0\n",
            "2             Vehicle search        596   3.0\n"
          ]
        }
      ]
    },
    {
      "cell_type": "markdown",
      "source": [
        "2. Top 10 Ethnics by # events. Use column “Officer-defined ethnicity”\n",
        "Output:\n",
        "type, office_num_events, office_ethnic_rank\n"
      ],
      "metadata": {
        "id": "IiNnPPcNtBBG"
      }
    },
    {
      "cell_type": "code",
      "source": [
        "top10_ethnics=big_df.groupby(['Type','Officer-defined ethnicity'])['Officer-defined ethnicity'].count().to_frame('Num_Event').sort_values(by='Num_Event',ascending=False).reset_index()\n",
        "top10_ethnics['Rank']=top10_ethnics['Num_Event'].rank(ascending=False)\n",
        "print(top10_ethnics.head(10))"
      ],
      "metadata": {
        "colab": {
          "base_uri": "https://localhost:8080/"
        },
        "id": "uocyKrLJtSiN",
        "outputId": "5b5adfc5-4e43-4795-9307-2e4f2de64c14"
      },
      "execution_count": 17,
      "outputs": [
        {
          "output_type": "stream",
          "name": "stdout",
          "text": [
            "                        Type Officer-defined ethnicity  Num_Event  Rank\n",
            "0              Person search                     White      12172   1.0\n",
            "1  Person and Vehicle search                     White       2970   2.0\n",
            "2              Person search                     Black       1389   3.0\n",
            "3              Person search                     Asian       1193   4.0\n",
            "4  Person and Vehicle search                     Asian        663   5.0\n",
            "5  Person and Vehicle search                     Black        494   6.0\n",
            "6              Person search                     Other        317   7.0\n",
            "7              Person search                     Mixed         95   8.0\n",
            "8  Person and Vehicle search                     Other         93   9.0\n",
            "9             Vehicle search                     White         65  10.0\n"
          ]
        }
      ]
    },
    {
      "cell_type": "markdown",
      "source": [
        "3. Top 10 Ethnics by # events. Use column “Self-defined ethnicity”\n",
        "Output:\n",
        "type, self_num_events, self_ethnic_rank\n"
      ],
      "metadata": {
        "id": "2LRVJ_SGuMZO"
      }
    },
    {
      "cell_type": "code",
      "source": [
        "top10_self=big_df.groupby(['Type','Self-defined ethnicity'])['Self-defined ethnicity'].count().to_frame('Num_Event').sort_values(by='Num_Event',ascending=False).reset_index()\n",
        "top10_self['Rank']=top10_ethnics['Num_Event'].rank(ascending=False)\n",
        "print(tabulate(top10_self.head(10),headers=['Type','Self-defined ethnicity','No. of Events','Rank'],tablefmt='grid'))\n"
      ],
      "metadata": {
        "colab": {
          "base_uri": "https://localhost:8080/"
        },
        "id": "M299BOt-uU8N",
        "outputId": "53afce6c-43c6-44a7-ee12-6614125c20e6"
      },
      "execution_count": 18,
      "outputs": [
        {
          "output_type": "stream",
          "name": "stdout",
          "text": [
            "+----+---------------------------+--------------------------------------------------------------------------------------+-----------------+--------+\n",
            "|    | Type                      | Self-defined ethnicity                                                               |   No. of Events |   Rank |\n",
            "+====+===========================+======================================================================================+=================+========+\n",
            "|  0 | Person search             | White - English/Welsh/Scottish/Northern Irish/British                                |           11049 |      1 |\n",
            "+----+---------------------------+--------------------------------------------------------------------------------------+-----------------+--------+\n",
            "|  1 | Person and Vehicle search | White - English/Welsh/Scottish/Northern Irish/British                                |            2580 |      2 |\n",
            "+----+---------------------------+--------------------------------------------------------------------------------------+-----------------+--------+\n",
            "|  2 | Person search             | Other ethnic group - Not stated                                                      |            2003 |      3 |\n",
            "+----+---------------------------+--------------------------------------------------------------------------------------+-----------------+--------+\n",
            "|  3 | Person search             | White - Any other White background                                                   |             725 |      4 |\n",
            "+----+---------------------------+--------------------------------------------------------------------------------------+-----------------+--------+\n",
            "|  4 | Person search             | Asian/Asian British - Pakistani                                                      |             534 |      5 |\n",
            "+----+---------------------------+--------------------------------------------------------------------------------------+-----------------+--------+\n",
            "|  5 | Person and Vehicle search | Other ethnic group - Not stated                                                      |             487 |      6 |\n",
            "+----+---------------------------+--------------------------------------------------------------------------------------+-----------------+--------+\n",
            "|  6 | Person search             | Black/African/Caribbean/Black British - African                                      |             464 |      7 |\n",
            "+----+---------------------------+--------------------------------------------------------------------------------------+-----------------+--------+\n",
            "|  7 | Person search             | Black/African/Caribbean/Black British - Caribbean                                    |             394 |      8 |\n",
            "+----+---------------------------+--------------------------------------------------------------------------------------+-----------------+--------+\n",
            "|  8 | Person search             | Black/African/Caribbean/Black British - Any other Black/African/Caribbean background |             366 |      9 |\n",
            "+----+---------------------------+--------------------------------------------------------------------------------------+-----------------+--------+\n",
            "|  9 | Person and Vehicle search | Asian/Asian British - Pakistani                                                      |             347 |     10 |\n",
            "+----+---------------------------+--------------------------------------------------------------------------------------+-----------------+--------+\n"
          ]
        }
      ]
    },
    {
      "cell_type": "markdown",
      "source": [
        "4. Merge 2 and 3 above on type.\n",
        "Output:\n",
        "type, office_num_events, office_ethnic_rank, self_num_events, self_ethnic_rank\n"
      ],
      "metadata": {
        "id": "ba7Sz7B4vbim"
      }
    },
    {
      "cell_type": "code",
      "source": [
        "merged_df=top10_ethnics.merge(top10_self,on='Type',how='inner')\n",
        "print(tabulate(merged_df.head(10),headers=['Type','Officer-defined ethnicity','Office_Num_Event','Office_Rank','Self-defined ethnicity','Self_Num_Events','Self_Rank'],tablefmt='grid'))\n"
      ],
      "metadata": {
        "colab": {
          "base_uri": "https://localhost:8080/"
        },
        "id": "J9J3RnUovgab",
        "outputId": "a0bf04d2-7f87-417c-ce9b-c5d69f2b58fa"
      },
      "execution_count": 21,
      "outputs": [
        {
          "output_type": "stream",
          "name": "stdout",
          "text": [
            "+----+---------------+-----------------------------+--------------------+---------------+--------------------------------------------------------------------------------------+-------------------+-------------+\n",
            "|    | Type          | Officer-defined ethnicity   |   Office_Num_Event |   Office_Rank | Self-defined ethnicity                                                               |   Self_Num_Events |   Self_Rank |\n",
            "+====+===============+=============================+====================+===============+======================================================================================+===================+=============+\n",
            "|  0 | Person search | White                       |              12172 |             1 | White - English/Welsh/Scottish/Northern Irish/British                                |             11049 |           1 |\n",
            "+----+---------------+-----------------------------+--------------------+---------------+--------------------------------------------------------------------------------------+-------------------+-------------+\n",
            "|  1 | Person search | White                       |              12172 |             1 | Other ethnic group - Not stated                                                      |              2003 |           3 |\n",
            "+----+---------------+-----------------------------+--------------------+---------------+--------------------------------------------------------------------------------------+-------------------+-------------+\n",
            "|  2 | Person search | White                       |              12172 |             1 | White - Any other White background                                                   |               725 |           4 |\n",
            "+----+---------------+-----------------------------+--------------------+---------------+--------------------------------------------------------------------------------------+-------------------+-------------+\n",
            "|  3 | Person search | White                       |              12172 |             1 | Asian/Asian British - Pakistani                                                      |               534 |           5 |\n",
            "+----+---------------+-----------------------------+--------------------+---------------+--------------------------------------------------------------------------------------+-------------------+-------------+\n",
            "|  4 | Person search | White                       |              12172 |             1 | Black/African/Caribbean/Black British - African                                      |               464 |           7 |\n",
            "+----+---------------+-----------------------------+--------------------+---------------+--------------------------------------------------------------------------------------+-------------------+-------------+\n",
            "|  5 | Person search | White                       |              12172 |             1 | Black/African/Caribbean/Black British - Caribbean                                    |               394 |           8 |\n",
            "+----+---------------+-----------------------------+--------------------+---------------+--------------------------------------------------------------------------------------+-------------------+-------------+\n",
            "|  6 | Person search | White                       |              12172 |             1 | Black/African/Caribbean/Black British - Any other Black/African/Caribbean background |               366 |           9 |\n",
            "+----+---------------+-----------------------------+--------------------+---------------+--------------------------------------------------------------------------------------+-------------------+-------------+\n",
            "|  7 | Person search | White                       |              12172 |             1 | Asian/Asian British - Any other Asian background                                     |               293 |          11 |\n",
            "+----+---------------+-----------------------------+--------------------+---------------+--------------------------------------------------------------------------------------+-------------------+-------------+\n",
            "|  8 | Person search | White                       |              12172 |             1 | Mixed/Multiple ethnic groups - Any other Mixed/Multiple ethnic background            |               182 |          13 |\n",
            "+----+---------------+-----------------------------+--------------------+---------------+--------------------------------------------------------------------------------------+-------------------+-------------+\n",
            "|  9 | Person search | White                       |              12172 |             1 | Mixed/Multiple ethnic groups - White and Black Caribbean                             |               175 |          14 |\n",
            "+----+---------------+-----------------------------+--------------------+---------------+--------------------------------------------------------------------------------------+-------------------+-------------+\n"
          ]
        }
      ]
    },
    {
      "cell_type": "markdown",
      "source": [
        "5. Top 10 Type by Gender = Male.\n",
        "Output:\n",
        "type, num_events_men, rank_men\n",
        "6. Top 10 Type by Gender = Female.\n",
        "Output:\n",
        "type, num_events_men, rank_women\n",
        "\n"
      ],
      "metadata": {
        "id": "0BN-Ks51xjKu"
      }
    },
    {
      "cell_type": "code",
      "source": [
        "men=big_df[big_df['Gender']=='Male']\n",
        "women=big_df[big_df['Gender']=='Female']\n",
        "top10_men=men.groupby(['Type'])['Type'].count().to_frame('Num_Event_Men').sort_values(by='Num_Event_Men', ascending=False).reset_index()\n",
        "top10_men['Rank']=top10_men['Num_Event_Men'].rank(ascending=False)\n",
        "print(tabulate(top10_men.head(10),headers=['Type','Num_Event_Men','Men_Rank'],tablefmt='grid'))\n",
        "top10_women=women.groupby(['Type'])['Type'].count().to_frame('Num_Event_women').sort_values(by='Num_Event_women', ascending=False).reset_index()\n",
        "top10_women['Rank']=top10_women['Num_Event_women'].rank(ascending=False)\n",
        "print(tabulate(top10_women.head(10),headers=['Type','Num_Event_women','Women_Rank'],tablefmt='grid'))"
      ],
      "metadata": {
        "colab": {
          "base_uri": "https://localhost:8080/"
        },
        "id": "aPUnBcRAxwjY",
        "outputId": "83abae8e-7c13-4a5e-9be3-ce2c56464841"
      },
      "execution_count": 5,
      "outputs": [
        {
          "output_type": "stream",
          "name": "stdout",
          "text": [
            "+----+---------------------------+-----------------+------------+\n",
            "|    | Type                      |   Num_Event_Men |   Men_Rank |\n",
            "+====+===========================+=================+============+\n",
            "|  0 | Person search             |           13714 |          1 |\n",
            "+----+---------------------------+-----------------+------------+\n",
            "|  1 | Person and Vehicle search |            3855 |          2 |\n",
            "+----+---------------------------+-----------------+------------+\n",
            "|  2 | Vehicle search            |              11 |          3 |\n",
            "+----+---------------------------+-----------------+------------+\n",
            "+----+---------------------------+-------------------+--------------+\n",
            "|    | Type                      |   Num_Event_women |   Women_Rank |\n",
            "+====+===========================+===================+==============+\n",
            "|  0 | Person search             |              1619 |            1 |\n",
            "+----+---------------------------+-------------------+--------------+\n",
            "|  1 | Person and Vehicle search |               362 |            2 |\n",
            "+----+---------------------------+-------------------+--------------+\n",
            "|  2 | Vehicle search            |                 4 |            3 |\n",
            "+----+---------------------------+-------------------+--------------+\n"
          ]
        }
      ]
    },
    {
      "cell_type": "markdown",
      "source": [
        "7. Group bar chart plot (vertical) with output from 5 and 6.\n",
        "[1][2]\n",
        "Bar 1 -> Male\n",
        "Bar 2 -> Female\n"
      ],
      "metadata": {
        "id": "4PI3vXq-c2mj"
      }
    },
    {
      "cell_type": "code",
      "source": [
        "df2=top10_men.merge(top10_women,on='Type',how='inner')\n",
        "#print(df2)\n",
        "del df2['Rank_x']\n",
        "del df2['Rank_y']\n",
        "df3=df2.melt(\"Type\",var_name=\"#Men and Women Crime Count\",value_name=\"Values\")\n",
        "#print(df3)\n",
        "import seaborn as sns\n",
        "import matplotlib.pyplot as plt\n",
        "sns.barplot(x='Type',y='Values',hue='#Men and Women Crime Count',data=df3)\n",
        "plt.xticks(rotation=90)\n",
        "plt.title(\"Group bar chart for men & women\")\n",
        "plt.show()\n"
      ],
      "metadata": {
        "colab": {
          "base_uri": "https://localhost:8080/",
          "height": 639
        },
        "id": "pTm4iR48digu",
        "outputId": "a91fee61-d5a6-4c6c-f432-0246ff0ad4e5"
      },
      "execution_count": 13,
      "outputs": [
        {
          "output_type": "display_data",
          "data": {
            "text/plain": [
              "<Figure size 640x480 with 1 Axes>"
            ],
            "image/png": "[encoded data removed]"
          },
          "metadata": {}
        }
      ]
    },
    {
      "cell_type": "markdown",
      "source": [
        "8. For Gender = Male, # events by “Age range”\n",
        "Output:\n",
        "type, age_range_male, num_events_male, rank_male\n",
        "9. For Gender = Female, # events by “Age range”\n",
        "Output:\n",
        "type, age_range_female, num_events_female, rank_female\n",
        "10.  Merge 8 and 9 on column “type”\n",
        "Output:\n",
        "type, age_range_male, num_events_male, rank_male, age_range_female, num_events_female, rank_female\n"
      ],
      "metadata": {
        "id": "73oonCvsdjKD"
      }
    },
    {
      "cell_type": "code",
      "source": [
        "top10_men_agerange=men.groupby(['Type','Age range'])['Type'].count().to_frame('Num_Event_Men').sort_values(by='Num_Event_Men', ascending=False).reset_index()\n",
        "top10_men_agerange['Rank']=top10_men_agerange['Num_Event_Men'].rank(ascending=False)\n",
        "print(tabulate(top10_men_agerange.head(10),headers=['Type','Age Range','Num_Event_Men','Men_Rank'],tablefmt='grid'))\n",
        "top10_women_agerange=women.groupby(['Type','Age range'])['Type'].count().to_frame('Num_Event_women').sort_values(by='Num_Event_women', ascending=False).reset_index()\n",
        "top10_women_agerange['Rank']=top10_women_agerange['Num_Event_women'].rank(ascending=False)\n",
        "print(tabulate(top10_women_agerange.head(10),headers=['Type','Age Range','Num_Event_women','Women_Rank'],tablefmt='grid'))\n",
        "male_female=top10_men_agerange.merge(top10_women_agerange,on='Type',how='inner')\n",
        "print(tabulate(male_female,headers=['Type','Age Range_Male','Num_Event_men','men_Rank','Age Range_Female','Num_Event_women','women_Rank'],tablefmt='grid'))\n"
      ],
      "metadata": {
        "colab": {
          "base_uri": "https://localhost:8080/"
        },
        "id": "mtnrKlx3dqIf",
        "outputId": "762332f4-3d90-44ca-ed67-eb2b0b0bb1bd"
      },
      "execution_count": 7,
      "outputs": [
        {
          "output_type": "stream",
          "name": "stdout",
          "text": [
            "+----+---------------------------+-------------+-----------------+------------+\n",
            "|    | Type                      | Age Range   |   Num_Event_Men |   Men_Rank |\n",
            "+====+===========================+=============+=================+============+\n",
            "|  0 | Person search             | 18-24       |            3905 |          1 |\n",
            "+----+---------------------------+-------------+-----------------+------------+\n",
            "|  1 | Person search             | 10-17       |            3023 |          2 |\n",
            "+----+---------------------------+-------------+-----------------+------------+\n",
            "|  2 | Person search             | over 34     |            2941 |          3 |\n",
            "+----+---------------------------+-------------+-----------------+------------+\n",
            "|  3 | Person search             | 25-34       |            2655 |          4 |\n",
            "+----+---------------------------+-------------+-----------------+------------+\n",
            "|  4 | Person and Vehicle search | 18-24       |            1468 |          5 |\n",
            "+----+---------------------------+-------------+-----------------+------------+\n",
            "|  5 | Person and Vehicle search | 25-34       |            1050 |          6 |\n",
            "+----+---------------------------+-------------+-----------------+------------+\n",
            "|  6 | Person and Vehicle search | over 34     |             786 |          7 |\n",
            "+----+---------------------------+-------------+-----------------+------------+\n",
            "|  7 | Person and Vehicle search | 10-17       |             395 |          8 |\n",
            "+----+---------------------------+-------------+-----------------+------------+\n",
            "|  8 | Person search             | under 10    |               9 |          9 |\n",
            "+----+---------------------------+-------------+-----------------+------------+\n",
            "|  9 | Person and Vehicle search | under 10    |               5 |         10 |\n",
            "+----+---------------------------+-------------+-----------------+------------+\n",
            "+----+---------------------------+-------------+-------------------+--------------+\n",
            "|    | Type                      | Age Range   |   Num_Event_women |   Women_Rank |\n",
            "+====+===========================+=============+===================+==============+\n",
            "|  0 | Person search             | over 34     |               427 |            1 |\n",
            "+----+---------------------------+-------------+-------------------+--------------+\n",
            "|  1 | Person search             | 25-34       |               378 |            2 |\n",
            "+----+---------------------------+-------------+-------------------+--------------+\n",
            "|  2 | Person search             | 18-24       |               339 |            3 |\n",
            "+----+---------------------------+-------------+-------------------+--------------+\n",
            "|  3 | Person search             | 10-17       |               324 |            4 |\n",
            "+----+---------------------------+-------------+-------------------+--------------+\n",
            "|  4 | Person and Vehicle search | 18-24       |               111 |            5 |\n",
            "+----+---------------------------+-------------+-------------------+--------------+\n",
            "|  5 | Person and Vehicle search | 25-34       |               100 |            6 |\n",
            "+----+---------------------------+-------------+-------------------+--------------+\n",
            "|  6 | Person and Vehicle search | over 34     |                92 |            7 |\n",
            "+----+---------------------------+-------------+-------------------+--------------+\n",
            "|  7 | Person and Vehicle search | 10-17       |                43 |            8 |\n",
            "+----+---------------------------+-------------+-------------------+--------------+\n",
            "|  8 | Vehicle search            | 25-34       |                 2 |            9 |\n",
            "+----+---------------------------+-------------+-------------------+--------------+\n",
            "|  9 | Vehicle search            | over 34     |                 1 |           10 |\n",
            "+----+---------------------------+-------------+-------------------+--------------+\n",
            "+----+---------------------------+------------------+-----------------+------------+--------------------+-------------------+--------------+\n",
            "|    | Type                      | Age Range_Male   |   Num_Event_men |   men_Rank | Age Range_Female   |   Num_Event_women |   women_Rank |\n",
            "+====+===========================+==================+=================+============+====================+===================+==============+\n",
            "|  0 | Person search             | 18-24            |            3905 |          1 | over 34            |               427 |            1 |\n",
            "+----+---------------------------+------------------+-----------------+------------+--------------------+-------------------+--------------+\n",
            "|  1 | Person search             | 18-24            |            3905 |          1 | 25-34              |               378 |            2 |\n",
            "+----+---------------------------+------------------+-----------------+------------+--------------------+-------------------+--------------+\n",
            "|  2 | Person search             | 18-24            |            3905 |          1 | 18-24              |               339 |            3 |\n",
            "+----+---------------------------+------------------+-----------------+------------+--------------------+-------------------+--------------+\n",
            "|  3 | Person search             | 18-24            |            3905 |          1 | 10-17              |               324 |            4 |\n",
            "+----+---------------------------+------------------+-----------------+------------+--------------------+-------------------+--------------+\n",
            "|  4 | Person search             | 10-17            |            3023 |          2 | over 34            |               427 |            1 |\n",
            "+----+---------------------------+------------------+-----------------+------------+--------------------+-------------------+--------------+\n",
            "|  5 | Person search             | 10-17            |            3023 |          2 | 25-34              |               378 |            2 |\n",
            "+----+---------------------------+------------------+-----------------+------------+--------------------+-------------------+--------------+\n",
            "|  6 | Person search             | 10-17            |            3023 |          2 | 18-24              |               339 |            3 |\n",
            "+----+---------------------------+------------------+-----------------+------------+--------------------+-------------------+--------------+\n",
            "|  7 | Person search             | 10-17            |            3023 |          2 | 10-17              |               324 |            4 |\n",
            "+----+---------------------------+------------------+-----------------+------------+--------------------+-------------------+--------------+\n",
            "|  8 | Person search             | over 34          |            2941 |          3 | over 34            |               427 |            1 |\n",
            "+----+---------------------------+------------------+-----------------+------------+--------------------+-------------------+--------------+\n",
            "|  9 | Person search             | over 34          |            2941 |          3 | 25-34              |               378 |            2 |\n",
            "+----+---------------------------+------------------+-----------------+------------+--------------------+-------------------+--------------+\n",
            "| 10 | Person search             | over 34          |            2941 |          3 | 18-24              |               339 |            3 |\n",
            "+----+---------------------------+------------------+-----------------+------------+--------------------+-------------------+--------------+\n",
            "| 11 | Person search             | over 34          |            2941 |          3 | 10-17              |               324 |            4 |\n",
            "+----+---------------------------+------------------+-----------------+------------+--------------------+-------------------+--------------+\n",
            "| 12 | Person search             | 25-34            |            2655 |          4 | over 34            |               427 |            1 |\n",
            "+----+---------------------------+------------------+-----------------+------------+--------------------+-------------------+--------------+\n",
            "| 13 | Person search             | 25-34            |            2655 |          4 | 25-34              |               378 |            2 |\n",
            "+----+---------------------------+------------------+-----------------+------------+--------------------+-------------------+--------------+\n",
            "| 14 | Person search             | 25-34            |            2655 |          4 | 18-24              |               339 |            3 |\n",
            "+----+---------------------------+------------------+-----------------+------------+--------------------+-------------------+--------------+\n",
            "| 15 | Person search             | 25-34            |            2655 |          4 | 10-17              |               324 |            4 |\n",
            "+----+---------------------------+------------------+-----------------+------------+--------------------+-------------------+--------------+\n",
            "| 16 | Person search             | under 10         |               9 |          9 | over 34            |               427 |            1 |\n",
            "+----+---------------------------+------------------+-----------------+------------+--------------------+-------------------+--------------+\n",
            "| 17 | Person search             | under 10         |               9 |          9 | 25-34              |               378 |            2 |\n",
            "+----+---------------------------+------------------+-----------------+------------+--------------------+-------------------+--------------+\n",
            "| 18 | Person search             | under 10         |               9 |          9 | 18-24              |               339 |            3 |\n",
            "+----+---------------------------+------------------+-----------------+------------+--------------------+-------------------+--------------+\n",
            "| 19 | Person search             | under 10         |               9 |          9 | 10-17              |               324 |            4 |\n",
            "+----+---------------------------+------------------+-----------------+------------+--------------------+-------------------+--------------+\n",
            "| 20 | Person and Vehicle search | 18-24            |            1468 |          5 | 18-24              |               111 |            5 |\n",
            "+----+---------------------------+------------------+-----------------+------------+--------------------+-------------------+--------------+\n",
            "| 21 | Person and Vehicle search | 18-24            |            1468 |          5 | 25-34              |               100 |            6 |\n",
            "+----+---------------------------+------------------+-----------------+------------+--------------------+-------------------+--------------+\n",
            "| 22 | Person and Vehicle search | 18-24            |            1468 |          5 | over 34            |                92 |            7 |\n",
            "+----+---------------------------+------------------+-----------------+------------+--------------------+-------------------+--------------+\n",
            "| 23 | Person and Vehicle search | 18-24            |            1468 |          5 | 10-17              |                43 |            8 |\n",
            "+----+---------------------------+------------------+-----------------+------------+--------------------+-------------------+--------------+\n",
            "| 24 | Person and Vehicle search | 25-34            |            1050 |          6 | 18-24              |               111 |            5 |\n",
            "+----+---------------------------+------------------+-----------------+------------+--------------------+-------------------+--------------+\n",
            "| 25 | Person and Vehicle search | 25-34            |            1050 |          6 | 25-34              |               100 |            6 |\n",
            "+----+---------------------------+------------------+-----------------+------------+--------------------+-------------------+--------------+\n",
            "| 26 | Person and Vehicle search | 25-34            |            1050 |          6 | over 34            |                92 |            7 |\n",
            "+----+---------------------------+------------------+-----------------+------------+--------------------+-------------------+--------------+\n",
            "| 27 | Person and Vehicle search | 25-34            |            1050 |          6 | 10-17              |                43 |            8 |\n",
            "+----+---------------------------+------------------+-----------------+------------+--------------------+-------------------+--------------+\n",
            "| 28 | Person and Vehicle search | over 34          |             786 |          7 | 18-24              |               111 |            5 |\n",
            "+----+---------------------------+------------------+-----------------+------------+--------------------+-------------------+--------------+\n",
            "| 29 | Person and Vehicle search | over 34          |             786 |          7 | 25-34              |               100 |            6 |\n",
            "+----+---------------------------+------------------+-----------------+------------+--------------------+-------------------+--------------+\n",
            "| 30 | Person and Vehicle search | over 34          |             786 |          7 | over 34            |                92 |            7 |\n",
            "+----+---------------------------+------------------+-----------------+------------+--------------------+-------------------+--------------+\n",
            "| 31 | Person and Vehicle search | over 34          |             786 |          7 | 10-17              |                43 |            8 |\n",
            "+----+---------------------------+------------------+-----------------+------------+--------------------+-------------------+--------------+\n",
            "| 32 | Person and Vehicle search | 10-17            |             395 |          8 | 18-24              |               111 |            5 |\n",
            "+----+---------------------------+------------------+-----------------+------------+--------------------+-------------------+--------------+\n",
            "| 33 | Person and Vehicle search | 10-17            |             395 |          8 | 25-34              |               100 |            6 |\n",
            "+----+---------------------------+------------------+-----------------+------------+--------------------+-------------------+--------------+\n",
            "| 34 | Person and Vehicle search | 10-17            |             395 |          8 | over 34            |                92 |            7 |\n",
            "+----+---------------------------+------------------+-----------------+------------+--------------------+-------------------+--------------+\n",
            "| 35 | Person and Vehicle search | 10-17            |             395 |          8 | 10-17              |                43 |            8 |\n",
            "+----+---------------------------+------------------+-----------------+------------+--------------------+-------------------+--------------+\n",
            "| 36 | Person and Vehicle search | under 10         |               5 |         10 | 18-24              |               111 |            5 |\n",
            "+----+---------------------------+------------------+-----------------+------------+--------------------+-------------------+--------------+\n",
            "| 37 | Person and Vehicle search | under 10         |               5 |         10 | 25-34              |               100 |            6 |\n",
            "+----+---------------------------+------------------+-----------------+------------+--------------------+-------------------+--------------+\n",
            "| 38 | Person and Vehicle search | under 10         |               5 |         10 | over 34            |                92 |            7 |\n",
            "+----+---------------------------+------------------+-----------------+------------+--------------------+-------------------+--------------+\n",
            "| 39 | Person and Vehicle search | under 10         |               5 |         10 | 10-17              |                43 |            8 |\n",
            "+----+---------------------------+------------------+-----------------+------------+--------------------+-------------------+--------------+\n",
            "| 40 | Vehicle search            | 25-34            |               4 |         11 | 25-34              |                 2 |            9 |\n",
            "+----+---------------------------+------------------+-----------------+------------+--------------------+-------------------+--------------+\n",
            "| 41 | Vehicle search            | 25-34            |               4 |         11 | over 34            |                 1 |           10 |\n",
            "+----+---------------------------+------------------+-----------------+------------+--------------------+-------------------+--------------+\n",
            "| 42 | Vehicle search            | over 34          |               2 |         12 | 25-34              |                 2 |            9 |\n",
            "+----+---------------------------+------------------+-----------------+------------+--------------------+-------------------+--------------+\n",
            "| 43 | Vehicle search            | over 34          |               2 |         12 | over 34            |                 1 |           10 |\n",
            "+----+---------------------------+------------------+-----------------+------------+--------------------+-------------------+--------------+\n"
          ]
        }
      ]
    },
    {
      "cell_type": "markdown",
      "source": [
        "Part 2:\n",
        "\n",
        "1. The file \"Employee_start_time_end_time.csv\" contains the start and end times for employees' daily work shifts. The file \"hour_range_slot_for_pay.csv\" specifies the pay rate applicable based on the number of hours worked for a particular day. For example, if an employee works for 4 hours on a given day, the applicable pay rate is $10 per hour, as 4 hours falls within the range of 1 to 5 hours (see row 1 in the \"hour_range_slot_for_pay.csv\" file). If an employee works for 7 hours on a given day, the pay rate is $12 per hour, as it falls within the range of 6 to 10 hours (see row 2 in the \"hour_range_slot_for_pay.csv\" file). Using these criteria, you need to calculate the total pay in USD for each employee based on the provided information from the two CSV files.\n"
      ],
      "metadata": {
        "id": "IKg6hbOcFxRq"
      }
    },
    {
      "cell_type": "code",
      "source": [
        "import pandas as pd\n",
        "import numpy as np\n",
        "import glob\n",
        "from tabulate import tabulate\n",
        "from google.colab import drive\n",
        "drive.mount('/content/drive')\n",
        "emp = pd.read_csv('/content/drive/MyDrive/Python MiniProjects/Miniproject7-part2/employee_start_time_end_time.csv')\n",
        "emp[['start_time', 'end_time']] = emp[['start_time', 'end_time']].apply(pd.to_datetime)\n",
        "hrs=pd.read_csv('/content/drive/MyDrive/Python MiniProjects/Miniproject7-part2/hour_range_slot_for_pay.csv')\n",
        "print(emp.head(3))\n",
        "print(hrs)\n"
      ],
      "metadata": {
        "colab": {
          "base_uri": "https://localhost:8080/"
        },
        "id": "pqOheulcGS06",
        "outputId": "24db1b95-9c10-4d89-b420-0b1489321301"
      },
      "execution_count": 8,
      "outputs": [
        {
          "output_type": "stream",
          "name": "stdout",
          "text": [
            "Drive already mounted at /content/drive; to attempt to forcibly remount, call drive.mount(\"/content/drive\", force_remount=True).\n",
            "   employee_id          start_time            end_time\n",
            "0            1 2022-03-01 09:10:00 2022-03-01 17:10:00\n",
            "1            2 2022-03-01 08:10:00 2022-03-01 17:10:00\n",
            "2            3 2022-03-01 06:00:00 2022-03-01 17:10:00\n",
            "   daily_hour_min_range  daily_hour_max_range  pay_per_hour_usd\n",
            "0                     1                     5                10\n",
            "1                     6                    10                12\n",
            "2                    11                   100                20\n"
          ]
        }
      ]
    },
    {
      "cell_type": "code",
      "source": [
        "emp['hours_diff'] = (emp.end_time - emp.start_time) / pd.Timedelta(hours=1)\n",
        "print(emp.head(10))\n"
      ],
      "metadata": {
        "colab": {
          "base_uri": "https://localhost:8080/"
        },
        "id": "zX9RoMOaMzPZ",
        "outputId": "4d764acc-2949-4a64-94b2-839c4a4c9d04"
      },
      "execution_count": 9,
      "outputs": [
        {
          "output_type": "stream",
          "name": "stdout",
          "text": [
            "   employee_id          start_time            end_time  hours_diff\n",
            "0            1 2022-03-01 09:10:00 2022-03-01 17:10:00    8.000000\n",
            "1            2 2022-03-01 08:10:00 2022-03-01 17:10:00    9.000000\n",
            "2            3 2022-03-01 06:00:00 2022-03-01 17:10:00   11.166667\n",
            "3            4 2022-03-01 06:10:00 2022-03-01 17:10:00   11.000000\n",
            "4            5 2022-03-01 05:10:00 2022-03-01 17:10:00   12.000000\n",
            "5            6 2022-03-01 08:10:00 2022-03-01 17:10:00    9.000000\n",
            "6            7 2022-03-01 07:10:00 2022-03-01 17:10:00   10.000000\n",
            "7            1 2022-03-02 06:10:00 2022-03-02 17:10:00   11.000000\n",
            "8            2 2022-03-02 05:10:00 2022-03-02 17:10:00   12.000000\n",
            "9            3 2022-03-02 08:10:00 2022-03-02 17:10:00    9.000000\n"
          ]
        }
      ]
    }
  ]
}