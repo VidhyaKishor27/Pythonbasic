{
  "nbformat": 4,
  "nbformat_minor": 0,
  "metadata": {
    "colab": {
      "provenance": [],
      "mount_file_id": "1kJgCuO51x69Ec2Ex3wR-zVjBEP6FrQ8F",
      "authorship_tag": "ABX9TyOtB9Aba61sPgYbLR/NYlQx",
      "include_colab_link": true
    },
    "kernelspec": {
      "name": "python3",
      "display_name": "Python 3"
    },
    "language_info": {
      "name": "python"
    }
  },
  "cells": [
    {
      "cell_type": "markdown",
      "metadata": {
        "id": "view-in-github",
        "colab_type": "text"
      },
      "source": [
        "<a href=\"https://colab.research.google.com/github/VidhyaKishor27/Pythonbasic/blob/main/Miniproject_7.ipynb\" target=\"_parent\"><img src=\"https://colab.research.google.com/assets/colab-badge.svg\" alt=\"Open In Colab\"/></a>"
      ]
    },
    {
      "cell_type": "code",
      "execution_count": 4,
      "metadata": {
        "colab": {
          "base_uri": "https://localhost:8080/"
        },
        "id": "uML2PSbsfM0f",
        "outputId": "e892d27b-8352-4afb-efcf-f1c003535b11"
      },
      "outputs": [
        {
          "output_type": "stream",
          "name": "stdout",
          "text": [
            "Drive already mounted at /content/drive; to attempt to forcibly remount, call drive.mount(\"/content/drive\", force_remount=True).\n",
            "            Type                       Date Part of a policing operation  \\\n",
            "0  Person search  2019-07-01T00:02:43+00:00                        False   \n",
            "1  Person search  2019-07-01T00:39:19+00:00                        False   \n",
            "2  Person search  2019-07-01T01:11:57+00:00                        False   \n",
            "\n",
            "   Policing operation   Latitude  Longitude Gender Age range  \\\n",
            "0                 NaN  52.390821  -2.169897   Male   over 34   \n",
            "1                 NaN  52.365964  -2.192521   Male     25-34   \n",
            "2                 NaN  52.111560  -1.919568   Male     10-17   \n",
            "\n",
            "                              Self-defined ethnicity  \\\n",
            "0  White - English/Welsh/Scottish/Northern Irish/...   \n",
            "1        Other ethnic group - Any other ethnic group   \n",
            "2  White - English/Welsh/Scottish/Northern Irish/...   \n",
            "\n",
            "  Officer-defined ethnicity  ... Month Reported by Falls within Location  \\\n",
            "0                     White  ...   NaN         NaN          NaN      NaN   \n",
            "1                     Other  ...   NaN         NaN          NaN      NaN   \n",
            "2                     White  ...   NaN         NaN          NaN      NaN   \n",
            "\n",
            "  LSOA code LSOA name Outcome type Crime type Last outcome category Context  \n",
            "0       NaN       NaN          NaN        NaN                   NaN     NaN  \n",
            "1       NaN       NaN          NaN        NaN                   NaN     NaN  \n",
            "2       NaN       NaN          NaN        NaN                   NaN     NaN  \n",
            "\n",
            "[3 rows x 26 columns]\n"
          ]
        }
      ],
      "source": [
        "import glob\n",
        "import pandas as pd\n",
        "from google.colab import drive\n",
        "drive.mount('/content/drive')\n",
        "path = '/content/drive/MyDrive/Python MiniProjects/Miniproject 7'\n",
        "csv_files = glob.glob(path + \"/*.csv\")\n",
        "df_list = [pd.read_csv(file) for file in csv_files]\n",
        "big_df=pd.concat(df_list,ignore_index=True)\n",
        "print(big_df.head(3))"
      ]
    },
    {
      "cell_type": "markdown",
      "source": [
        "Part 1 Questions:\n",
        "1. Top 10 Type by # events. Type column is the event (see sample data in the end of this document ).\n",
        "Output:\n",
        "type, num_events, rank\n"
      ],
      "metadata": {
        "id": "tHTbb9HKiSJU"
      }
    },
    {
      "cell_type": "code",
      "source": [
        "from tabulate import tabulate\n",
        "import numpy as np\n",
        "top10_type=big_df.groupby(['Type'])['Type'].size().to_frame('Num_Event').sort_values(by='Num_Event', ascending=False).reset_index()\n",
        "top10_type['Rank']=top10_type['Num_Event'].rank(ascending=False)\n",
        "print(top10_type)\n",
        "df1=big_df.to_csv()"
      ],
      "metadata": {
        "colab": {
          "base_uri": "https://localhost:8080/"
        },
        "id": "7VU3Fi8rjv5T",
        "outputId": "2dab6da9-a77a-492f-f337-b78e6a3c17f1"
      },
      "execution_count": 12,
      "outputs": [
        {
          "output_type": "stream",
          "name": "stdout",
          "text": [
            "                        Type  Num_Event  Rank\n",
            "0              Person search      17275   1.0\n",
            "1  Person and Vehicle search       4555   2.0\n",
            "2             Vehicle search        596   3.0\n"
          ]
        }
      ]
    },
    {
      "cell_type": "markdown",
      "source": [
        "2. Top 10 Ethnics by # events. Use column “Officer-defined ethnicity”\n",
        "Output:\n",
        "type, office_num_events, office_ethnic_rank\n"
      ],
      "metadata": {
        "id": "IiNnPPcNtBBG"
      }
    },
    {
      "cell_type": "code",
      "source": [
        "top10_ethnics=big_df.groupby(['Type','Officer-defined ethnicity'])['Officer-defined ethnicity'].count().to_frame('Num_Event').sort_values(by='Num_Event',ascending=False).reset_index()\n",
        "top10_ethnics['Rank']=top10_ethnics['Num_Event'].rank(ascending=False)\n",
        "print(top10_ethnics.head(10))"
      ],
      "metadata": {
        "colab": {
          "base_uri": "https://localhost:8080/"
        },
        "id": "uocyKrLJtSiN",
        "outputId": "5b5adfc5-4e43-4795-9307-2e4f2de64c14"
      },
      "execution_count": 17,
      "outputs": [
        {
          "output_type": "stream",
          "name": "stdout",
          "text": [
            "                        Type Officer-defined ethnicity  Num_Event  Rank\n",
            "0              Person search                     White      12172   1.0\n",
            "1  Person and Vehicle search                     White       2970   2.0\n",
            "2              Person search                     Black       1389   3.0\n",
            "3              Person search                     Asian       1193   4.0\n",
            "4  Person and Vehicle search                     Asian        663   5.0\n",
            "5  Person and Vehicle search                     Black        494   6.0\n",
            "6              Person search                     Other        317   7.0\n",
            "7              Person search                     Mixed         95   8.0\n",
            "8  Person and Vehicle search                     Other         93   9.0\n",
            "9             Vehicle search                     White         65  10.0\n"
          ]
        }
      ]
    },
    {
      "cell_type": "markdown",
      "source": [
        "3. Top 10 Ethnics by # events. Use column “Self-defined ethnicity”\n",
        "Output:\n",
        "type, self_num_events, self_ethnic_rank\n"
      ],
      "metadata": {
        "id": "2LRVJ_SGuMZO"
      }
    },
    {
      "cell_type": "code",
      "source": [
        "top10_self=big_df.groupby(['Type','Self-defined ethnicity'])['Self-defined ethnicity'].count().to_frame('Num_Event').sort_values(by='Num_Event',ascending=False).reset_index()\n",
        "top10_self['Rank']=top10_ethnics['Num_Event'].rank(ascending=False)\n",
        "print(tabulate(top10_self.head(10),headers=['Type','Self-defined ethnicity','No. of Events','Rank'],tablefmt='grid'))\n"
      ],
      "metadata": {
        "colab": {
          "base_uri": "https://localhost:8080/"
        },
        "id": "M299BOt-uU8N",
        "outputId": "53afce6c-43c6-44a7-ee12-6614125c20e6"
      },
      "execution_count": 18,
      "outputs": [
        {
          "output_type": "stream",
          "name": "stdout",
          "text": [
            "+----+---------------------------+--------------------------------------------------------------------------------------+-----------------+--------+\n",
            "|    | Type                      | Self-defined ethnicity                                                               |   No. of Events |   Rank |\n",
            "+====+===========================+======================================================================================+=================+========+\n",
            "|  0 | Person search             | White - English/Welsh/Scottish/Northern Irish/British                                |           11049 |      1 |\n",
            "+----+---------------------------+--------------------------------------------------------------------------------------+-----------------+--------+\n",
            "|  1 | Person and Vehicle search | White - English/Welsh/Scottish/Northern Irish/British                                |            2580 |      2 |\n",
            "+----+---------------------------+--------------------------------------------------------------------------------------+-----------------+--------+\n",
            "|  2 | Person search             | Other ethnic group - Not stated                                                      |            2003 |      3 |\n",
            "+----+---------------------------+--------------------------------------------------------------------------------------+-----------------+--------+\n",
            "|  3 | Person search             | White - Any other White background                                                   |             725 |      4 |\n",
            "+----+---------------------------+--------------------------------------------------------------------------------------+-----------------+--------+\n",
            "|  4 | Person search             | Asian/Asian British - Pakistani                                                      |             534 |      5 |\n",
            "+----+---------------------------+--------------------------------------------------------------------------------------+-----------------+--------+\n",
            "|  5 | Person and Vehicle search | Other ethnic group - Not stated                                                      |             487 |      6 |\n",
            "+----+---------------------------+--------------------------------------------------------------------------------------+-----------------+--------+\n",
            "|  6 | Person search             | Black/African/Caribbean/Black British - African                                      |             464 |      7 |\n",
            "+----+---------------------------+--------------------------------------------------------------------------------------+-----------------+--------+\n",
            "|  7 | Person search             | Black/African/Caribbean/Black British - Caribbean                                    |             394 |      8 |\n",
            "+----+---------------------------+--------------------------------------------------------------------------------------+-----------------+--------+\n",
            "|  8 | Person search             | Black/African/Caribbean/Black British - Any other Black/African/Caribbean background |             366 |      9 |\n",
            "+----+---------------------------+--------------------------------------------------------------------------------------+-----------------+--------+\n",
            "|  9 | Person and Vehicle search | Asian/Asian British - Pakistani                                                      |             347 |     10 |\n",
            "+----+---------------------------+--------------------------------------------------------------------------------------+-----------------+--------+\n"
          ]
        }
      ]
    },
    {
      "cell_type": "markdown",
      "source": [
        "4. Merge 2 and 3 above on type.\n",
        "Output:\n",
        "type, office_num_events, office_ethnic_rank, self_num_events, self_ethnic_rank\n"
      ],
      "metadata": {
        "id": "ba7Sz7B4vbim"
      }
    },
    {
      "cell_type": "code",
      "source": [
        "merged_df=top10_ethnics.merge(top10_self,on='Type',how='inner')\n",
        "print(tabulate(merged_df.head(10),headers=['Type','Officer-defined ethnicity','Office_Num_Event','Office_Rank','Self-defined ethnicity','Self_Num_Events','Self_Rank'],tablefmt='grid'))\n"
      ],
      "metadata": {
        "colab": {
          "base_uri": "https://localhost:8080/"
        },
        "id": "J9J3RnUovgab",
        "outputId": "a0bf04d2-7f87-417c-ce9b-c5d69f2b58fa"
      },
      "execution_count": 21,
      "outputs": [
        {
          "output_type": "stream",
          "name": "stdout",
          "text": [
            "+----+---------------+-----------------------------+--------------------+---------------+--------------------------------------------------------------------------------------+-------------------+-------------+\n",
            "|    | Type          | Officer-defined ethnicity   |   Office_Num_Event |   Office_Rank | Self-defined ethnicity                                                               |   Self_Num_Events |   Self_Rank |\n",
            "+====+===============+=============================+====================+===============+======================================================================================+===================+=============+\n",
            "|  0 | Person search | White                       |              12172 |             1 | White - English/Welsh/Scottish/Northern Irish/British                                |             11049 |           1 |\n",
            "+----+---------------+-----------------------------+--------------------+---------------+--------------------------------------------------------------------------------------+-------------------+-------------+\n",
            "|  1 | Person search | White                       |              12172 |             1 | Other ethnic group - Not stated                                                      |              2003 |           3 |\n",
            "+----+---------------+-----------------------------+--------------------+---------------+--------------------------------------------------------------------------------------+-------------------+-------------+\n",
            "|  2 | Person search | White                       |              12172 |             1 | White - Any other White background                                                   |               725 |           4 |\n",
            "+----+---------------+-----------------------------+--------------------+---------------+--------------------------------------------------------------------------------------+-------------------+-------------+\n",
            "|  3 | Person search | White                       |              12172 |             1 | Asian/Asian British - Pakistani                                                      |               534 |           5 |\n",
            "+----+---------------+-----------------------------+--------------------+---------------+--------------------------------------------------------------------------------------+-------------------+-------------+\n",
            "|  4 | Person search | White                       |              12172 |             1 | Black/African/Caribbean/Black British - African                                      |               464 |           7 |\n",
            "+----+---------------+-----------------------------+--------------------+---------------+--------------------------------------------------------------------------------------+-------------------+-------------+\n",
            "|  5 | Person search | White                       |              12172 |             1 | Black/African/Caribbean/Black British - Caribbean                                    |               394 |           8 |\n",
            "+----+---------------+-----------------------------+--------------------+---------------+--------------------------------------------------------------------------------------+-------------------+-------------+\n",
            "|  6 | Person search | White                       |              12172 |             1 | Black/African/Caribbean/Black British - Any other Black/African/Caribbean background |               366 |           9 |\n",
            "+----+---------------+-----------------------------+--------------------+---------------+--------------------------------------------------------------------------------------+-------------------+-------------+\n",
            "|  7 | Person search | White                       |              12172 |             1 | Asian/Asian British - Any other Asian background                                     |               293 |          11 |\n",
            "+----+---------------+-----------------------------+--------------------+---------------+--------------------------------------------------------------------------------------+-------------------+-------------+\n",
            "|  8 | Person search | White                       |              12172 |             1 | Mixed/Multiple ethnic groups - Any other Mixed/Multiple ethnic background            |               182 |          13 |\n",
            "+----+---------------+-----------------------------+--------------------+---------------+--------------------------------------------------------------------------------------+-------------------+-------------+\n",
            "|  9 | Person search | White                       |              12172 |             1 | Mixed/Multiple ethnic groups - White and Black Caribbean                             |               175 |          14 |\n",
            "+----+---------------+-----------------------------+--------------------+---------------+--------------------------------------------------------------------------------------+-------------------+-------------+\n"
          ]
        }
      ]
    },
    {
      "cell_type": "markdown",
      "source": [
        "5. Top 10 Type by Gender = Male.\n",
        "Output:\n",
        "type, num_events_men, rank_men\n"
      ],
      "metadata": {
        "id": "0BN-Ks51xjKu"
      }
    }
  ]
}