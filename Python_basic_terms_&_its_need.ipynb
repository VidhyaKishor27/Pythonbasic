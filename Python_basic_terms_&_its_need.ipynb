{
  "nbformat": 4,
  "nbformat_minor": 0,
  "metadata": {
    "colab": {
      "provenance": [],
      "authorship_tag": "ABX9TyMCiBx44PtOllr76yvaxmsR",
      "include_colab_link": true
    },
    "kernelspec": {
      "name": "python3",
      "display_name": "Python 3"
    },
    "language_info": {
      "name": "python"
    }
  },
  "cells": [
    {
      "cell_type": "markdown",
      "metadata": {
        "id": "view-in-github",
        "colab_type": "text"
      },
      "source": [
        "<a href=\"https://colab.research.google.com/github/VidhyaKishor27/Pythonbasic/blob/main/Python_basic_terms_%26_its_need.ipynb\" target=\"_parent\"><img src=\"https://colab.research.google.com/assets/colab-badge.svg\" alt=\"Open In Colab\"/></a>"
      ]
    },
    {
      "cell_type": "code",
      "execution_count": 3,
      "metadata": {
        "colab": {
          "base_uri": "https://localhost:8080/"
        },
        "id": "iv933Jj-LMkj",
        "outputId": "5168ed5e-382b-417d-ed82-ded2ac0b14b1"
      },
      "outputs": [
        {
          "output_type": "stream",
          "name": "stdout",
          "text": [
            "Hello World!\n"
          ]
        }
      ],
      "source": [
        "#Python basics\n",
        "# 1. Indentation - Spaces at beginning of code are mandatory to indicate that they are block of sets of same function/conditions.\n",
        "# ->No. of spaces depends on us.\n",
        "# 2. Comments - starts with # symbol, python ignore that code during execution.\n",
        "# 3. Multi line comments - can insert # in each line to indicate as comments as can use \"\"\" (triple quotes) at beginning & end.\n",
        "def fun():\n",
        "  print(\"Hello World!\") # to print the stmt -> this is comment.\n",
        "  \"\"\"\n",
        "  This is just a testing functions. -> Multiline comment.\n",
        "  Please ignore.\n",
        "  \"\"\"\n",
        "fun()\n"
      ]
    },
    {
      "cell_type": "code",
      "source": [
        "\"\"\"\n",
        " 4. Variables -> containers for storing data values,\n",
        " ->gets created while assigning values,\n",
        " ->no need to mention data types, can change type anytime.\n",
        " -> allow to assign values to muiltple var in 1 line & same value to multiple var in 1 line.\n",
        " -> use print stmt to give output i.e o/p var\n",
        " rules for var names: ->can start with letters & underscore, cannot start with number,\n",
        " ->can have alphanumeric letter, underscore & are case sensitive\n",
        "\n",
        " \"\"\"\n",
        "x= 2 # x is variable of data type int\n",
        "y=\"Vidhya\" # y is variable of data type str\n",
        "z=a=b=4\n",
        "c,d,e=1,2,3 # assign values to multiple var\n",
        "total=a+b+c+d+e+z\n",
        "print(y,x) # This is o/p var\n",
        "print(\"Sum of numbers is\", total)"
      ],
      "metadata": {
        "colab": {
          "base_uri": "https://localhost:8080/"
        },
        "id": "RQWe7M9CL0JM",
        "outputId": "513c8364-0e81-42a4-ec81-0d12d8e41eba"
      },
      "execution_count": 5,
      "outputs": [
        {
          "output_type": "stream",
          "name": "stdout",
          "text": [
            "Vidhya 2\n",
            "Sum of numbers is 18\n"
          ]
        }
      ]
    },
    {
      "cell_type": "code",
      "source": [
        "#5. String Concatenation -> adds to strings together, use + operator for combing 2 string, for int it act as addition operator.\n",
        "x=\"Vidhya\"\n",
        "y=\"Kishor\"\n",
        "print(x+y)\n",
        "print(x,\"\",y)"
      ],
      "metadata": {
        "colab": {
          "base_uri": "https://localhost:8080/"
        },
        "id": "wHBv_WceRbio",
        "outputId": "3f33cd6d-82fb-4ec3-8a4c-ecf21546b701"
      },
      "execution_count": 9,
      "outputs": [
        {
          "output_type": "stream",
          "name": "stdout",
          "text": [
            "VidhyaKishor\n",
            "Vidhya  Kishor\n"
          ]
        }
      ]
    },
    {
      "cell_type": "code",
      "source": [
        "\"\"\"\n",
        "6.Global Variable -> var declared outside func is global var, can be used inside & outside func.\n",
        "-> use keyword globla to declare inside func.\n",
        "\"\"\"\n",
        "x= \"Kris\"\n",
        "def test():\n",
        "  global y\n",
        "  y=\"vid\"\n",
        "  x=\"Kishor\"\n",
        "  print(x)\n",
        "test()\n",
        "print(x)\n",
        "print (x+y)\n",
        "\n"
      ],
      "metadata": {
        "colab": {
          "base_uri": "https://localhost:8080/"
        },
        "id": "1L0UGvb6Tnf8",
        "outputId": "39b95266-68d1-443e-fc0e-b677d5e39255"
      },
      "execution_count": 11,
      "outputs": [
        {
          "output_type": "stream",
          "name": "stdout",
          "text": [
            "Kishor\n",
            "Kris\n",
            "Krisvid\n"
          ]
        }
      ]
    },
    {
      "cell_type": "code",
      "source": [
        "# 6. Datatypes -. there are many data types built in, use type() to get its types. Its types are set while assigning values to var.\n",
        "print(type(\"Hello\"))\n",
        "print(type(3))\n",
        "print(type(3.14))\n",
        "print(type(1j))\n",
        "print(type([\"apple\", \"banana\", \"cherry\"]))\n",
        "print(type((\"apple\", \"banana\", \"cherry\")))\n",
        "print(type(range(6)))\n",
        "print(type({\"name\" : \"John\", \"age\" : 36}))\n",
        "print(type({\"apple\", \"banana\", \"cherry\"}))\n",
        "print(type(frozenset({\"apple\", \"banana\", \"cherry\"})))\n",
        "print(type(True))\n",
        "print(type(b\"Hello\"))\n",
        "print(type(bytearray(5)))\n",
        "print(type(memoryview(bytes(5))))"
      ],
      "metadata": {
        "colab": {
          "base_uri": "https://localhost:8080/"
        },
        "id": "lsYZVgQmVQUj",
        "outputId": "3aa78d42-a771-4f1e-d5b8-3bafddb96d6e"
      },
      "execution_count": 12,
      "outputs": [
        {
          "output_type": "stream",
          "name": "stdout",
          "text": [
            "<class 'str'>\n",
            "<class 'int'>\n",
            "<class 'float'>\n",
            "<class 'complex'>\n",
            "<class 'list'>\n",
            "<class 'tuple'>\n",
            "<class 'range'>\n",
            "<class 'dict'>\n",
            "<class 'set'>\n",
            "<class 'frozenset'>\n",
            "<class 'bool'>\n",
            "<class 'bytes'>\n",
            "<class 'bytearray'>\n",
            "<class 'memoryview'>\n"
          ]
        }
      ]
    },
    {
      "cell_type": "code",
      "source": [
        "\"\"\"\n",
        "7. Numeric Types (int, float, complex)\n",
        "-> Int - no. with no deceimals. int() used to convert any no to int value.\n",
        "-> Float - no. with deceimals. float() used to convert any no to float value.\n",
        "-> Complex - uses j as imaginary value. complex() used to convert any no to complex value.\n",
        "\"\"\"\n",
        "x= 3\n",
        "y=4.5\n",
        "z=6j\n",
        "print(float(x))\n",
        "print(int(y))\n",
        "print(complex(x))\n"
      ],
      "metadata": {
        "colab": {
          "base_uri": "https://localhost:8080/"
        },
        "id": "wMHK0m5-W4lj",
        "outputId": "ab604d58-0dad-4c29-e1cf-8d0e5af93ea8"
      },
      "execution_count": 13,
      "outputs": [
        {
          "output_type": "stream",
          "name": "stdout",
          "text": [
            "3.0\n",
            "4\n",
            "(3+0j)\n"
          ]
        }
      ]
    },
    {
      "cell_type": "code",
      "source": [
        "\"\"\"\n",
        "8. String: (in python it is array of unicode char as there is no separate char data type)\n",
        "-> gets created while assigning str to var, uses \"\" or ' ' quotes to assign str values.\n",
        "-> uses triple double/single quotes for multiline string.\n",
        "->use [] to access elements of string.\n",
        "\"\"\"\n",
        "x=\"Texas\"\n",
        "y='''Allen is city of Texas.\n",
        "  Texas is a state in USA'''\n",
        "print(x[0:3]) # Slicing str start index, end index use colon in middle.\n",
        "print(x[-4:-2])# use -ve index to start from last.\n",
        "print(len(x)) # to get length of str\n",
        "z= \"as\" in x # for checking str elmts use 'in' & 'not in' keywords\n",
        "print(x)\n",
        "a=\"I live in allen for {} years\"\n",
        "print(a.format(1)) # format() used to combine str & number in place of {} given in text. can use index no of items to place in multiple {}\n",
        "print(\"My name is \\\"June\\\" \") # use escape char (blackslash) to use illegal char in str.\n"
      ],
      "metadata": {
        "colab": {
          "base_uri": "https://localhost:8080/"
        },
        "id": "zxuIC8tSYutI",
        "outputId": "1d293fc6-eb82-4f68-d504-714bf3a1d554"
      },
      "execution_count": 19,
      "outputs": [
        {
          "output_type": "stream",
          "name": "stdout",
          "text": [
            "Tex\n",
            "ex\n",
            "5\n",
            "Texas\n",
            "I live in allen for 1 years\n",
            "My name is \"June\" \n"
          ]
        }
      ]
    },
    {
      "cell_type": "code",
      "source": [
        "#9. Boolean: evaluates expression & returns true or false.\n",
        "x=5\n",
        "y=3\n",
        "print(x>y) # returns boolean value\n",
        "bool(x) # bool() is to evaluate value.\n",
        "print(isinstance(x,int))"
      ],
      "metadata": {
        "colab": {
          "base_uri": "https://localhost:8080/"
        },
        "id": "iFTOaJEmf6nc",
        "outputId": "5c620462-b2df-43f5-a147-cfa498f555eb"
      },
      "execution_count": 1,
      "outputs": [
        {
          "output_type": "stream",
          "name": "stdout",
          "text": [
            "True\n",
            "True\n"
          ]
        }
      ]
    },
    {
      "cell_type": "code",
      "source": [
        "\"\"\" 10. Operators:\n",
        "Arithmetic operators -> +,-,/,*,%,//,**\n",
        "Assignment operators -> =,+=,-=,etc\n",
        "Comparison operators->==,!=,<,>\n",
        "Logical operators-> and, or, not\n",
        "Identity operators -> is, is not\n",
        "Membership operators -> in, not in\n",
        "Bitwise operators->&,|,etc\n",
        "\"\"\"\n",
        "print(5+10)\n"
      ],
      "metadata": {
        "colab": {
          "base_uri": "https://localhost:8080/"
        },
        "id": "MrVw5fjIG4n0",
        "outputId": "5ccf5b83-3f67-4480-aa0d-cbcf89e10d97"
      },
      "execution_count": 2,
      "outputs": [
        {
          "output_type": "stream",
          "name": "stdout",
          "text": [
            "15\n"
          ]
        }
      ]
    },
    {
      "cell_type": "code",
      "source": [
        "# 11. List - Unchangable, use square bracket\n",
        "l1=['a','b','c']\n",
        "l2=[1,2,3]\n",
        "l3=[4,5,6]\n",
        "\n",
        "print(l1[0]) # access items using index no in list\n",
        "l1[1]='d' # change items in list\n",
        "print(l1)\n",
        "for x in l2:\n",
        "  print(x)\n",
        "l2.append(4)\n",
        "l1.insert(4,'e')\n",
        "l3=l2.copy()\n",
        "l1.remove('d')\n",
        "l3.clear()\n",
        "del l2[0]\n",
        "print(l1)\n",
        "print(l2)\n",
        "print(l3)\n",
        "\n"
      ],
      "metadata": {
        "colab": {
          "base_uri": "https://localhost:8080/"
        },
        "id": "H7p2yDacI6x5",
        "outputId": "526b882e-3048-4d0c-976f-f34ced9c0db8"
      },
      "execution_count": 8,
      "outputs": [
        {
          "output_type": "stream",
          "name": "stdout",
          "text": [
            "a\n",
            "['a', 'd', 'c']\n",
            "1\n",
            "2\n",
            "3\n",
            "['a', 'c', 'e']\n",
            "[2, 3, 4]\n",
            "[]\n"
          ]
        }
      ]
    },
    {
      "cell_type": "code",
      "source": [
        "# 12. Tuple"
      ],
      "metadata": {
        "id": "mgSZDYhvOiVK"
      },
      "execution_count": null,
      "outputs": []
    }
  ]
}