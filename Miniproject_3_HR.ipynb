{
  "nbformat": 4,
  "nbformat_minor": 0,
  "metadata": {
    "colab": {
      "provenance": [],
      "mount_file_id": "1piiZ-oB9M9U49hSsLgQk6PMoEKVIiVIh",
      "authorship_tag": "ABX9TyN9LZVatcGaeUBLmHITm7zN",
      "include_colab_link": true
    },
    "kernelspec": {
      "name": "python3",
      "display_name": "Python 3"
    },
    "language_info": {
      "name": "python"
    }
  },
  "cells": [
    {
      "cell_type": "markdown",
      "metadata": {
        "id": "view-in-github",
        "colab_type": "text"
      },
      "source": [
        "<a href=\"https://colab.research.google.com/github/VidhyaKishor27/Pythonbasic/blob/main/Miniproject_3_HR.ipynb\" target=\"_parent\"><img src=\"https://colab.research.google.com/assets/colab-badge.svg\" alt=\"Open In Colab\"/></a>"
      ]
    },
    {
      "cell_type": "code",
      "execution_count": 11,
      "metadata": {
        "colab": {
          "base_uri": "https://localhost:8080/"
        },
        "id": "ljtiFmA2m7o8",
        "outputId": "0494121a-7f74-49d2-d432-5295a36164b9"
      },
      "outputs": [
        {
          "output_type": "stream",
          "name": "stdout",
          "text": [
            "Drive already mounted at /content/drive; to attempt to forcibly remount, call drive.mount(\"/content/drive\", force_remount=True).\n",
            "   satisfaction_level  last_evaluation  number_project  average_montly_hours  \\\n",
            "0                0.38             0.53               2                   157   \n",
            "1                0.80             0.86               5                   262   \n",
            "2                0.11             0.88               7                   272   \n",
            "3                0.72             0.87               5                   223   \n",
            "4                0.37             0.52               2                   159   \n",
            "\n",
            "   time_spend_company  Work_accident  left  promotion_last_5years  sales  \\\n",
            "0                   3              0     1                      0  sales   \n",
            "1                   6              0     1                      0  sales   \n",
            "2                   4              0     1                      0  sales   \n",
            "3                   5              0     1                      0  sales   \n",
            "4                   3              0     1                      0  sales   \n",
            "\n",
            "   salary  \n",
            "0     low  \n",
            "1  medium  \n",
            "2  medium  \n",
            "3     low  \n",
            "4     low  \n"
          ]
        }
      ],
      "source": [
        "import pandas as pd\n",
        "import numpy as np\n",
        "from tabulate import tabulate\n",
        "from google.colab import drive\n",
        "drive.mount('/content/drive')\n",
        "hr=pd.read_csv('/content/drive/MyDrive/Python training/Miniproject - python/HR_comma_sep.csv')\n",
        "print(hr.head(5))"
      ]
    },
    {
      "cell_type": "markdown",
      "source": [
        "1. How many employees in each of the department (use column \"sales\")\n",
        "Output: sales,num_employees"
      ],
      "metadata": {
        "id": "kmsPAj4zoGkC"
      }
    },
    {
      "cell_type": "code",
      "source": [
        "no_of_emp=hr.groupby(['sales']).size().to_frame('No. of Employees')\\\n",
        "  .sort_values(by='No. of Employees',ascending=True).reset_index()\n",
        "print(tabulate(no_of_emp,headers=['Sales','No. of Employees'],tablefmt='grid'))"
      ],
      "metadata": {
        "colab": {
          "base_uri": "https://localhost:8080/"
        },
        "id": "0ySUDAQRoJfe",
        "outputId": "985047c8-78d3-4804-e215-cf103c19de5b"
      },
      "execution_count": 14,
      "outputs": [
        {
          "output_type": "stream",
          "name": "stdout",
          "text": [
            "+----+-------------+--------------------+\n",
            "|    | Sales       |   No. of Employees |\n",
            "+====+=============+====================+\n",
            "|  0 | management  |                630 |\n",
            "+----+-------------+--------------------+\n",
            "|  1 | hr          |                739 |\n",
            "+----+-------------+--------------------+\n",
            "|  2 | accounting  |                767 |\n",
            "+----+-------------+--------------------+\n",
            "|  3 | RandD       |                787 |\n",
            "+----+-------------+--------------------+\n",
            "|  4 | marketing   |                858 |\n",
            "+----+-------------+--------------------+\n",
            "|  5 | product_mng |                902 |\n",
            "+----+-------------+--------------------+\n",
            "|  6 | IT          |               1227 |\n",
            "+----+-------------+--------------------+\n",
            "|  7 | support     |               2229 |\n",
            "+----+-------------+--------------------+\n",
            "|  8 | technical   |               2720 |\n",
            "+----+-------------+--------------------+\n",
            "|  9 | sales       |               4140 |\n",
            "+----+-------------+--------------------+\n"
          ]
        }
      ]
    },
    {
      "cell_type": "markdown",
      "source": [
        "2. Among employees who left, get the department wise (use column \"sales\"), number of employees and rank them.\n",
        "Output:\n",
        "sales,num_employees,rank\n"
      ],
      "metadata": {
        "id": "uI6l3bUNs6NZ"
      }
    },
    {
      "cell_type": "code",
      "source": [
        "hr_left=hr.where(hr['left']==1,inplace=False)\n",
        "emp_left=hr_left.groupby(['sales']).size().to_frame('No. of Employees')\\\n",
        "  .sort_values(by='No. of Employees',ascending=True).reset_index()\n",
        "emp_left['Rank']=emp_left['No. of Employees'].rank()\n",
        "print(tabulate(emp_left,headers=['Sales','No. of Employees','Rank'],tablefmt='grid'))"
      ],
      "metadata": {
        "colab": {
          "base_uri": "https://localhost:8080/"
        },
        "id": "pRtRMPi1tCIr",
        "outputId": "be40682b-4472-41a2-a7a9-c7cad81ae89a"
      },
      "execution_count": 22,
      "outputs": [
        {
          "output_type": "stream",
          "name": "stdout",
          "text": [
            "+----+-------------+--------------------+--------+\n",
            "|    | Sales       |   No. of Employees |   Rank |\n",
            "+====+=============+====================+========+\n",
            "|  0 | management  |                 91 |      1 |\n",
            "+----+-------------+--------------------+--------+\n",
            "|  1 | RandD       |                121 |      2 |\n",
            "+----+-------------+--------------------+--------+\n",
            "|  2 | product_mng |                198 |      3 |\n",
            "+----+-------------+--------------------+--------+\n",
            "|  3 | marketing   |                203 |      4 |\n",
            "+----+-------------+--------------------+--------+\n",
            "|  4 | accounting  |                204 |      5 |\n",
            "+----+-------------+--------------------+--------+\n",
            "|  5 | hr          |                215 |      6 |\n",
            "+----+-------------+--------------------+--------+\n",
            "|  6 | IT          |                273 |      7 |\n",
            "+----+-------------+--------------------+--------+\n",
            "|  7 | support     |                555 |      8 |\n",
            "+----+-------------+--------------------+--------+\n",
            "|  8 | technical   |                697 |      9 |\n",
            "+----+-------------+--------------------+--------+\n",
            "|  9 | sales       |               1014 |     10 |\n",
            "+----+-------------+--------------------+--------+\n"
          ]
        }
      ]
    },
    {
      "cell_type": "markdown",
      "source": [
        "3.Average number of years (time_spend_company) and average number of monthly hours (average_monthly_hours) for the employees left and not left under each department. Sort the value by sales.\n",
        "Output:\n",
        "left,sales,avg_time_spend_company,avg_average_monthly_hours\n"
      ],
      "metadata": {
        "id": "rUwP8C8uvkai"
      }
    },
    {
      "cell_type": "code",
      "source": [],
      "metadata": {
        "id": "hWWE5biJwt13"
      },
      "execution_count": null,
      "outputs": []
    }
  ]
}