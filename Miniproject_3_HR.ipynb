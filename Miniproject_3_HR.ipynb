{
  "nbformat": 4,
  "nbformat_minor": 0,
  "metadata": {
    "colab": {
      "provenance": [],
      "mount_file_id": "1piiZ-oB9M9U49hSsLgQk6PMoEKVIiVIh",
      "authorship_tag": "ABX9TyMglLQW1eOrYSlYe3Lneu/V",
      "include_colab_link": true
    },
    "kernelspec": {
      "name": "python3",
      "display_name": "Python 3"
    },
    "language_info": {
      "name": "python"
    }
  },
  "cells": [
    {
      "cell_type": "markdown",
      "metadata": {
        "id": "view-in-github",
        "colab_type": "text"
      },
      "source": [
        "<a href=\"https://colab.research.google.com/github/VidhyaKishor27/Pythonbasic/blob/main/Miniproject_3_HR.ipynb\" target=\"_parent\"><img src=\"https://colab.research.google.com/assets/colab-badge.svg\" alt=\"Open In Colab\"/></a>"
      ]
    },
    {
      "cell_type": "code",
      "execution_count": 51,
      "metadata": {
        "colab": {
          "base_uri": "https://localhost:8080/"
        },
        "id": "ljtiFmA2m7o8",
        "outputId": "921b041e-8d8e-473c-c292-8477c1499342"
      },
      "outputs": [
        {
          "output_type": "stream",
          "name": "stdout",
          "text": [
            "Drive already mounted at /content/drive; to attempt to forcibly remount, call drive.mount(\"/content/drive\", force_remount=True).\n",
            "   satisfaction_level  last_evaluation  number_project  average_montly_hours  \\\n",
            "0                0.38             0.53               2                   157   \n",
            "1                0.80             0.86               5                   262   \n",
            "2                0.11             0.88               7                   272   \n",
            "3                0.72             0.87               5                   223   \n",
            "4                0.37             0.52               2                   159   \n",
            "\n",
            "   time_spend_company  Work_accident  left  promotion_last_5years  sales  \\\n",
            "0                   3              0     1                      0  sales   \n",
            "1                   6              0     1                      0  sales   \n",
            "2                   4              0     1                      0  sales   \n",
            "3                   5              0     1                      0  sales   \n",
            "4                   3              0     1                      0  sales   \n",
            "\n",
            "   salary  \n",
            "0     low  \n",
            "1  medium  \n",
            "2  medium  \n",
            "3     low  \n",
            "4     low  \n"
          ]
        }
      ],
      "source": [
        "import pandas as pd\n",
        "import numpy as np\n",
        "from tabulate import tabulate\n",
        "import matplotlib.pyplot as plt\n",
        "import seaborn as sns\n",
        "from google.colab import drive\n",
        "drive.mount('/content/drive')\n",
        "hr=pd.read_csv('/content/drive/MyDrive/Python training/Miniproject - python/HR_comma_sep.csv')\n",
        "print(hr.head(5))"
      ]
    },
    {
      "cell_type": "markdown",
      "source": [
        "1. How many employees in each of the department (use column \"sales\")\n",
        "Output: sales,num_employees"
      ],
      "metadata": {
        "id": "kmsPAj4zoGkC"
      }
    },
    {
      "cell_type": "code",
      "source": [
        "no_of_emp=hr.groupby(['sales']).size().to_frame('No. of Employees')\\\n",
        "  .sort_values(by='No. of Employees',ascending=True).reset_index()\n",
        "print(tabulate(no_of_emp,headers=['Sales','No. of Employees'],tablefmt='grid'))"
      ],
      "metadata": {
        "colab": {
          "base_uri": "https://localhost:8080/"
        },
        "id": "0ySUDAQRoJfe",
        "outputId": "985047c8-78d3-4804-e215-cf103c19de5b"
      },
      "execution_count": null,
      "outputs": [
        {
          "output_type": "stream",
          "name": "stdout",
          "text": [
            "+----+-------------+--------------------+\n",
            "|    | Sales       |   No. of Employees |\n",
            "+====+=============+====================+\n",
            "|  0 | management  |                630 |\n",
            "+----+-------------+--------------------+\n",
            "|  1 | hr          |                739 |\n",
            "+----+-------------+--------------------+\n",
            "|  2 | accounting  |                767 |\n",
            "+----+-------------+--------------------+\n",
            "|  3 | RandD       |                787 |\n",
            "+----+-------------+--------------------+\n",
            "|  4 | marketing   |                858 |\n",
            "+----+-------------+--------------------+\n",
            "|  5 | product_mng |                902 |\n",
            "+----+-------------+--------------------+\n",
            "|  6 | IT          |               1227 |\n",
            "+----+-------------+--------------------+\n",
            "|  7 | support     |               2229 |\n",
            "+----+-------------+--------------------+\n",
            "|  8 | technical   |               2720 |\n",
            "+----+-------------+--------------------+\n",
            "|  9 | sales       |               4140 |\n",
            "+----+-------------+--------------------+\n"
          ]
        }
      ]
    },
    {
      "cell_type": "markdown",
      "source": [
        "2. Among employees who left, get the department wise (use column \"sales\"), number of employees and rank them.\n",
        "Output:\n",
        "sales,num_employees,rank\n"
      ],
      "metadata": {
        "id": "uI6l3bUNs6NZ"
      }
    },
    {
      "cell_type": "code",
      "source": [
        "hr_left=hr.where(hr['left']==1,inplace=False)\n",
        "emp_left=hr_left.groupby(['sales']).size().to_frame('No. of Employees')\\\n",
        "  .sort_values(by='No. of Employees',ascending=False).reset_index()\n",
        "emp_left['Rank']=emp_left['No. of Employees'].rank(ascending=False)\n",
        "print(tabulate(emp_left,headers=['Sales','No. of Employees','Rank'],tablefmt='grid'))"
      ],
      "metadata": {
        "colab": {
          "base_uri": "https://localhost:8080/"
        },
        "id": "pRtRMPi1tCIr",
        "outputId": "4fe2db98-0677-49fa-b25e-c0787003ef1e"
      },
      "execution_count": null,
      "outputs": [
        {
          "output_type": "stream",
          "name": "stdout",
          "text": [
            "+----+-------------+--------------------+--------+\n",
            "|    | Sales       |   No. of Employees |   Rank |\n",
            "+====+=============+====================+========+\n",
            "|  0 | sales       |               1014 |      1 |\n",
            "+----+-------------+--------------------+--------+\n",
            "|  1 | technical   |                697 |      2 |\n",
            "+----+-------------+--------------------+--------+\n",
            "|  2 | support     |                555 |      3 |\n",
            "+----+-------------+--------------------+--------+\n",
            "|  3 | IT          |                273 |      4 |\n",
            "+----+-------------+--------------------+--------+\n",
            "|  4 | hr          |                215 |      5 |\n",
            "+----+-------------+--------------------+--------+\n",
            "|  5 | accounting  |                204 |      6 |\n",
            "+----+-------------+--------------------+--------+\n",
            "|  6 | marketing   |                203 |      7 |\n",
            "+----+-------------+--------------------+--------+\n",
            "|  7 | product_mng |                198 |      8 |\n",
            "+----+-------------+--------------------+--------+\n",
            "|  8 | RandD       |                121 |      9 |\n",
            "+----+-------------+--------------------+--------+\n",
            "|  9 | management  |                 91 |     10 |\n",
            "+----+-------------+--------------------+--------+\n"
          ]
        }
      ]
    },
    {
      "cell_type": "markdown",
      "source": [
        "3.Average number of years (time_spend_company) and average number of monthly hours (average_monthly_hours) for the employees left and not left under each department. Sort the value by sales.\n",
        "Output:\n",
        "left,sales,avg_time_spend_company,avg_average_monthly_hours\n"
      ],
      "metadata": {
        "id": "rUwP8C8uvkai"
      }
    },
    {
      "cell_type": "code",
      "source": [
        "avg=hr.groupby(by=['left','sales']).aggregate({\"average_montly_hours\":'mean',\"time_spend_company\":'mean'}).reset_index()\n",
        "avg.columns=['Left','Sales','Avg Monthly Hrs','Avg Time Spend']\n",
        "print(avg)\n",
        "#print(tabulate(avg,headers=['Left','Sales','Avg Monthly Hrs','Avg Time Spend'],tablefmt='grid'))"
      ],
      "metadata": {
        "id": "hWWE5biJwt13",
        "colab": {
          "base_uri": "https://localhost:8080/"
        },
        "outputId": "b03fac60-6a05-4466-a4ad-f9c792f53eff"
      },
      "execution_count": 34,
      "outputs": [
        {
          "output_type": "stream",
          "name": "stdout",
          "text": [
            "    Left        Sales  Avg Monthly Hrs  Avg Time Spend\n",
            "0      0           IT       198.886792        3.356394\n",
            "1      0        RandD       198.951952        3.252252\n",
            "2      0   accounting       199.037300        3.424512\n",
            "3      0           hr       199.250000        3.192748\n",
            "4      0   management       200.233766        4.395176\n",
            "5      0    marketing       198.888550        3.480916\n",
            "6      0  product_mng       197.765625        3.330966\n",
            "7      0        sales       199.571657        3.443698\n",
            "8      0      support       199.140980        3.213859\n",
            "9      0    technical       198.471083        3.222442\n",
            "10     1           IT       213.849817        3.860806\n",
            "11     1        RandD       210.975207        4.000000\n",
            "12     1   accounting       207.029412        3.794118\n",
            "13     1           hr       197.306977        3.753488\n",
            "14     1   management       207.263736        3.758242\n",
            "15     1    marketing       200.990148        3.857143\n",
            "16     1  product_mng       207.787879        3.989899\n",
            "17     1        sales       205.041420        3.812623\n",
            "18     1      support       205.636036        3.933333\n",
            "19     1    technical       214.183644        3.959828\n"
          ]
        }
      ]
    },
    {
      "cell_type": "markdown",
      "source": [
        "4. Under each department, what is the minimum and maximum for both left and not left employees related to time_spend_company and average_monthly_hours. Sort the value by sales.\n",
        "Output:\n",
        "left,sales,min_time_spend_company,max_time_spend_company,min_average_monthly_hours,max_average_monthly_hours\n"
      ],
      "metadata": {
        "id": "ArLZM1lTwFFA"
      }
    },
    {
      "cell_type": "code",
      "source": [
        "min_max=hr.groupby(by=['left','sales']).aggregate({\"average_montly_hours\":['min','max'],\"time_spend_company\":['min','max']}).reset_index()\n",
        "#min_max.columns=['Left','Sales','Min_Avg Monthly Hrs','Max_Avg Monthly Hrs','Min_Time Spend','Max_Time Spend']\n",
        "print(tabulate(min_max,headers=['Left','Sales','Min_Avg Monthly Hrs','Max_Avg Monthly Hrs','Min_Time Spend','Max_Time Spend'],tablefmt='grid'))"
      ],
      "metadata": {
        "colab": {
          "base_uri": "https://localhost:8080/"
        },
        "id": "3pbS92UMwOSD",
        "outputId": "9a36aca5-feca-456e-fe0f-4494e048c5fa"
      },
      "execution_count": 26,
      "outputs": [
        {
          "output_type": "stream",
          "name": "stdout",
          "text": [
            "+----+--------+-------------+-----------------------+-----------------------+------------------+------------------+\n",
            "|    |   Left | Sales       |   Min_Avg Monthly Hrs |   Max_Avg Monthly Hrs |   Min_Time Spend |   Max_Time Spend |\n",
            "+====+========+=============+=======================+=======================+==================+==================+\n",
            "|  0 |      0 | IT          |                    96 |                   287 |                2 |               10 |\n",
            "+----+--------+-------------+-----------------------+-----------------------+------------------+------------------+\n",
            "|  1 |      0 | RandD       |                    98 |                   287 |                2 |                8 |\n",
            "+----+--------+-------------+-----------------------+-----------------------+------------------+------------------+\n",
            "|  2 |      0 | accounting  |                    97 |                   285 |                2 |               10 |\n",
            "+----+--------+-------------+-----------------------+-----------------------+------------------+------------------+\n",
            "|  3 |      0 | hr          |                    98 |                   285 |                2 |                8 |\n",
            "+----+--------+-------------+-----------------------+-----------------------+------------------+------------------+\n",
            "|  4 |      0 | management  |                    97 |                   286 |                2 |               10 |\n",
            "+----+--------+-------------+-----------------------+-----------------------+------------------+------------------+\n",
            "|  5 |      0 | marketing   |                    96 |                   286 |                2 |               10 |\n",
            "+----+--------+-------------+-----------------------+-----------------------+------------------+------------------+\n",
            "|  6 |      0 | product_mng |                    98 |                   286 |                2 |               10 |\n",
            "+----+--------+-------------+-----------------------+-----------------------+------------------+------------------+\n",
            "|  7 |      0 | sales       |                    96 |                   287 |                2 |               10 |\n",
            "+----+--------+-------------+-----------------------+-----------------------+------------------+------------------+\n",
            "|  8 |      0 | support     |                    96 |                   287 |                2 |               10 |\n",
            "+----+--------+-------------+-----------------------+-----------------------+------------------+------------------+\n",
            "|  9 |      0 | technical   |                    97 |                   287 |                2 |               10 |\n",
            "+----+--------+-------------+-----------------------+-----------------------+------------------+------------------+\n",
            "| 10 |      1 | IT          |                   127 |                   308 |                2 |                6 |\n",
            "+----+--------+-------------+-----------------------+-----------------------+------------------+------------------+\n",
            "| 11 |      1 | RandD       |                   127 |                   308 |                2 |                6 |\n",
            "+----+--------+-------------+-----------------------+-----------------------+------------------+------------------+\n",
            "| 12 |      1 | accounting  |                   127 |                   310 |                2 |                6 |\n",
            "+----+--------+-------------+-----------------------+-----------------------+------------------+------------------+\n",
            "| 13 |      1 | hr          |                   126 |                   310 |                3 |                6 |\n",
            "+----+--------+-------------+-----------------------+-----------------------+------------------+------------------+\n",
            "| 14 |      1 | management  |                   127 |                   307 |                2 |                6 |\n",
            "+----+--------+-------------+-----------------------+-----------------------+------------------+------------------+\n",
            "| 15 |      1 | marketing   |                   127 |                   310 |                3 |                6 |\n",
            "+----+--------+-------------+-----------------------+-----------------------+------------------+------------------+\n",
            "| 16 |      1 | product_mng |                   129 |                   310 |                3 |                6 |\n",
            "+----+--------+-------------+-----------------------+-----------------------+------------------+------------------+\n",
            "| 17 |      1 | sales       |                   126 |                   310 |                2 |                6 |\n",
            "+----+--------+-------------+-----------------------+-----------------------+------------------+------------------+\n",
            "| 18 |      1 | support     |                   126 |                   310 |                2 |                6 |\n",
            "+----+--------+-------------+-----------------------+-----------------------+------------------+------------------+\n",
            "| 19 |      1 | technical   |                   126 |                   310 |                2 |                6 |\n",
            "+----+--------+-------------+-----------------------+-----------------------+------------------+------------------+\n"
          ]
        }
      ]
    },
    {
      "cell_type": "markdown",
      "source": [
        "5. Under each department, what is the minimum, maximum, average on last evaluation (last_evaluation) and satisfaction level (satisfaction_level) for both left and not left. Sort the value by sales.\n",
        "Output:\n",
        "left,sales,min_last_evaluation,max_last_evaluation,avg_last_evaluation, min_satisfaction_level, max_satisfaction_level,avg_satisfaction_level\n"
      ],
      "metadata": {
        "id": "KmjR3fZwy_4z"
      }
    },
    {
      "cell_type": "code",
      "source": [
        "avg_min_max=hr.groupby(by=['left','sales']).aggregate({\"last_evaluation\":['min','max','mean'],\"satisfaction_level\":['min','max','mean']}).reset_index()\n",
        "print(tabulate(avg_min_max,headers=['Left','Sales','Min_Last Evaluation','Max_Last Evaluation','Avg_Last Evaluation','Min_Satisfaction Level','Max_Satisfaction Level','Avg_Satisfaction Level'],tablefmt='grid'))"
      ],
      "metadata": {
        "colab": {
          "base_uri": "https://localhost:8080/"
        },
        "id": "TEXcTRFmzBWF",
        "outputId": "6c22b9b8-d14e-4173-c65e-7ead60ea1854"
      },
      "execution_count": 27,
      "outputs": [
        {
          "output_type": "stream",
          "name": "stdout",
          "text": [
            "+----+--------+-------------+-----------------------+-----------------------+-----------------------+--------------------------+--------------------------+--------------------------+\n",
            "|    |   Left | Sales       |   Min_Last Evaluation |   Max_Last Evaluation |   Avg_Last Evaluation |   Min_Satisfaction Level |   Max_Satisfaction Level |   Avg_Satisfaction Level |\n",
            "+====+========+=============+=======================+=======================+=======================+==========================+==========================+==========================+\n",
            "|  0 |      0 | IT          |                  0.37 |                     1 |              0.71305  |                     0.12 |                     1    |                 0.67717  |\n",
            "+----+--------+-------------+-----------------------+-----------------------+-----------------------+--------------------------+--------------------------+--------------------------+\n",
            "|  1 |      0 | RandD       |                  0.36 |                     1 |              0.706081 |                     0.12 |                     1    |                 0.653799 |\n",
            "+----+--------+-------------+-----------------------+-----------------------+-----------------------+--------------------------+--------------------------+--------------------------+\n",
            "|  2 |      0 | accounting  |                  0.36 |                     1 |              0.726128 |                     0.12 |                     1    |                 0.647211 |\n",
            "+----+--------+-------------+-----------------------+-----------------------+-----------------------+--------------------------+--------------------------+--------------------------+\n",
            "|  3 |      0 | hr          |                  0.37 |                     1 |              0.720802 |                     0.13 |                     1    |                 0.666679 |\n",
            "+----+--------+-------------+-----------------------+-----------------------+-----------------------+--------------------------+--------------------------+--------------------------+\n",
            "|  4 |      0 | management  |                  0.37 |                     1 |              0.723451 |                     0.12 |                     1    |                 0.654861 |\n",
            "+----+--------+-------------+-----------------------+-----------------------+-----------------------+--------------------------+--------------------------+--------------------------+\n",
            "|  5 |      0 | marketing   |                  0.36 |                     1 |              0.723282 |                     0.12 |                     1    |                 0.669878 |\n",
            "+----+--------+-------------+-----------------------+-----------------------+-----------------------+--------------------------+--------------------------+--------------------------+\n",
            "|  6 |      0 | product_mng |                  0.36 |                     1 |              0.711435 |                     0.13 |                     1    |                 0.658466 |\n",
            "+----+--------+-------------+-----------------------+-----------------------+-----------------------+--------------------------+--------------------------+--------------------------+\n",
            "|  7 |      0 | sales       |                  0.36 |                     1 |              0.709223 |                     0.12 |                     1    |                 0.668548 |\n",
            "+----+--------+-------------+-----------------------+-----------------------+-----------------------+--------------------------+--------------------------+--------------------------+\n",
            "|  8 |      0 | support     |                  0.36 |                     1 |              0.721714 |                     0.12 |                     1    |                 0.673799 |\n",
            "+----+--------+-------------+-----------------------+-----------------------+-----------------------+--------------------------+--------------------------+--------------------------+\n",
            "|  9 |      0 | technical   |                  0.36 |                     1 |              0.716609 |                     0.12 |                     1    |                 0.668319 |\n",
            "+----+--------+-------------+-----------------------+-----------------------+-----------------------+--------------------------+--------------------------+--------------------------+\n",
            "| 10 |      1 | IT          |                  0.45 |                     1 |              0.730037 |                     0.09 |                     0.92 |                 0.411868 |\n",
            "+----+--------+-------------+-----------------------+-----------------------+-----------------------+--------------------------+--------------------------+--------------------------+\n",
            "| 11 |      1 | RandD       |                  0.46 |                     1 |              0.745372 |                     0.09 |                     0.92 |                 0.43281  |\n",
            "+----+--------+-------------+-----------------------+-----------------------+-----------------------+--------------------------+--------------------------+--------------------------+\n",
            "| 12 |      1 | accounting  |                  0.45 |                     1 |              0.69451  |                     0.09 |                     0.91 |                 0.402598 |\n",
            "+----+--------+-------------+-----------------------+-----------------------+-----------------------+--------------------------+--------------------------+--------------------------+\n",
            "| 13 |      1 | hr          |                  0.45 |                     1 |              0.679721 |                     0.09 |                     0.91 |                 0.433395 |\n",
            "+----+--------+-------------+-----------------------+-----------------------+-----------------------+--------------------------+--------------------------+--------------------------+\n",
            "| 14 |      1 | management  |                  0.46 |                     1 |              0.727253 |                     0.09 |                     0.9  |                 0.422857 |\n",
            "+----+--------+-------------+-----------------------+-----------------------+-----------------------+--------------------------+--------------------------+--------------------------+\n",
            "| 15 |      1 | marketing   |                  0.45 |                     1 |              0.69202  |                     0.09 |                     0.9  |                 0.453153 |\n",
            "+----+--------+-------------+-----------------------+-----------------------+-----------------------+--------------------------+--------------------------+--------------------------+\n",
            "| 16 |      1 | product_mng |                  0.45 |                     1 |              0.726566 |                     0.09 |                     0.91 |                 0.481566 |\n",
            "+----+--------+-------------+-----------------------+-----------------------+-----------------------+--------------------------+--------------------------+--------------------------+\n",
            "| 17 |      1 | sales       |                  0.45 |                     1 |              0.711243 |                     0.09 |                     0.92 |                 0.447663 |\n",
            "+----+--------+-------------+-----------------------+-----------------------+-----------------------+--------------------------+--------------------------+--------------------------+\n",
            "| 18 |      1 | support     |                  0.45 |                     1 |              0.727315 |                     0.09 |                     0.91 |                 0.450901 |\n",
            "+----+--------+-------------+-----------------------+-----------------------+-----------------------+--------------------------+--------------------------+--------------------------+\n",
            "| 19 |      1 | technical   |                  0.45 |                     1 |              0.734132 |                     0.09 |                     0.92 |                 0.432525 |\n",
            "+----+--------+-------------+-----------------------+-----------------------+-----------------------+--------------------------+--------------------------+--------------------------+\n"
          ]
        }
      ]
    },
    {
      "cell_type": "markdown",
      "source": [
        "6.Under each department, what is the count(i.e Sum) on work accidents (work_accident) and promotion for the last 5 years (promotion_last_5years) for both left and not left. Sort the value by sales.\n",
        "Output:\n",
        "left,sales,count_work_accident,count_promotion_last_5years\n"
      ],
      "metadata": {
        "id": "_aeqrv3F0FKY"
      }
    },
    {
      "cell_type": "code",
      "source": [
        "count=hr.groupby(['left','sales']).aggregate({'Work_accident':'sum','promotion_last_5years':'sum'}).reset_index()\n",
        "print(tabulate(count,headers=['Left','Sales','Count_Work Accident','Count_Promotion Last 5 Yrs'],tablefmt='grid'))\n"
      ],
      "metadata": {
        "colab": {
          "base_uri": "https://localhost:8080/"
        },
        "id": "iCQgXYKa0JP3",
        "outputId": "ca7bd918-999b-4ac0-ee9f-8d2f6ce8d446"
      },
      "execution_count": 34,
      "outputs": [
        {
          "output_type": "stream",
          "name": "stdout",
          "text": [
            "+----+--------+-------------+-----------------------+------------------------------+\n",
            "|    |   Left | Sales       |   Count_Work Accident |   Count_Promotion Last 5 Yrs |\n",
            "+====+========+=============+=======================+==============================+\n",
            "|  0 |      0 | IT          |                   155 |                            0 |\n",
            "+----+--------+-------------+-----------------------+------------------------------+\n",
            "|  1 |      0 | RandD       |                   124 |                           27 |\n",
            "+----+--------+-------------+-----------------------+------------------------------+\n",
            "|  2 |      0 | accounting  |                    87 |                           14 |\n",
            "+----+--------+-------------+-----------------------+------------------------------+\n",
            "|  3 |      0 | hr          |                    82 |                           15 |\n",
            "+----+--------+-------------+-----------------------+------------------------------+\n",
            "|  4 |      0 | management  |                    98 |                           66 |\n",
            "+----+--------+-------------+-----------------------+------------------------------+\n",
            "|  5 |      0 | marketing   |                   128 |                           43 |\n",
            "+----+--------+-------------+-----------------------+------------------------------+\n",
            "|  6 |      0 | product_mng |                   123 |                            0 |\n",
            "+----+--------+-------------+-----------------------+------------------------------+\n",
            "|  7 |      0 | sales       |                   541 |                           93 |\n",
            "+----+--------+-------------+-----------------------+------------------------------+\n",
            "|  8 |      0 | support     |                   314 |                           17 |\n",
            "+----+--------+-------------+-----------------------+------------------------------+\n",
            "|  9 |      0 | technical   |                   348 |                           25 |\n",
            "+----+--------+-------------+-----------------------+------------------------------+\n",
            "| 10 |      1 | IT          |                     9 |                            3 |\n",
            "+----+--------+-------------+-----------------------+------------------------------+\n",
            "| 11 |      1 | RandD       |                    10 |                            0 |\n",
            "+----+--------+-------------+-----------------------+------------------------------+\n",
            "| 12 |      1 | accounting  |                     9 |                            0 |\n",
            "+----+--------+-------------+-----------------------+------------------------------+\n",
            "| 13 |      1 | hr          |                     7 |                            0 |\n",
            "+----+--------+-------------+-----------------------+------------------------------+\n",
            "| 14 |      1 | management  |                     5 |                            3 |\n",
            "+----+--------+-------------+-----------------------+------------------------------+\n",
            "| 15 |      1 | marketing   |                    10 |                            0 |\n",
            "+----+--------+-------------+-----------------------+------------------------------+\n",
            "| 16 |      1 | product_mng |                     9 |                            0 |\n",
            "+----+--------+-------------+-----------------------+------------------------------+\n",
            "| 17 |      1 | sales       |                    46 |                            7 |\n",
            "+----+--------+-------------+-----------------------+------------------------------+\n",
            "| 18 |      1 | support     |                    31 |                            3 |\n",
            "+----+--------+-------------+-----------------------+------------------------------+\n",
            "| 19 |      1 | technical   |                    33 |                            3 |\n",
            "+----+--------+-------------+-----------------------+------------------------------+\n"
          ]
        }
      ]
    },
    {
      "cell_type": "markdown",
      "source": [
        "7. Bring the output from question 3-6 above.\n",
        "Output:\n",
        "left,sales,avg_time_spend_company,avg_average_monthly_hours,min_time_spend_company,max_time_spend_company,min_average_monthly_hours,max_average_monthly_hours,min_last_evaluation,max_last_evaluation,avg_last_evaluation,min_satisfaction_level, max_satisfaction_level,avg_satisfaction_level,count_work_accident,count_promotion_last_5years\n"
      ],
      "metadata": {
        "id": "Q21pKa2i2D4F"
      }
    },
    {
      "cell_type": "code",
      "source": [
        "overall=hr.groupby(by=['left','sales']).aggregate({\"average_montly_hours\":['mean','min','max'],\"time_spend_company\":['mean','min','max'],\\\n",
        "                                                   \"last_evaluation\":['mean','min','max'],\"satisfaction_level\":['mean','min','max'],\\\n",
        "                                                   'Work_accident':'sum','promotion_last_5years':'sum'}).reset_index()\n",
        "overall.columns=['Left','Sales','Avg_Monthly Hrs','Min_Avg Monthly Hrs','Max_Avg Monthly Hrs',\\\n",
        "                                   'Avg_Time Spend','Min_Time Spend','Max_Time Spend',\\\n",
        "                                  'Avg_Last Evaluation','Min_Last Evaluation','Max_Last Evaluation',\\\n",
        "                                   'Avg_Satisfaction Level','Min_Satisfaction Level','Max_Satisfaction Level',\\\n",
        "                                  'Count_Work Accident','Count_Promotion Last 5 Yrs']\n",
        "print(overall)\n",
        "#print(tabulate(overall,headers=['Left','Sales','Avg_Monthly Hrs','Min_Avg Monthly Hrs','Max_Avg Monthly Hrs',\\\n",
        "  #                                  'Avg_Time Spend','Min_Time Spend','Max_Time Spend',\\\n",
        "   #                                 'Avg_Last Evaluation','Min_Last Evaluation','Max_Last Evaluation',\\\n",
        "    #                                'Avg_Satisfaction Level','Min_Satisfaction Level','Max_Satisfaction Level',\\\n",
        "     #                               'Count_Work Accident','Count_Promotion Last 5 Yrs'],tablefmt='grid'))"
      ],
      "metadata": {
        "colab": {
          "base_uri": "https://localhost:8080/"
        },
        "id": "L8sIHFHj2Fbu",
        "outputId": "22fdc012-5999-473c-959a-400bd1f02a20"
      },
      "execution_count": 14,
      "outputs": [
        {
          "output_type": "stream",
          "name": "stdout",
          "text": [
            "    Left        Sales  Avg_Monthly Hrs  Min_Avg Monthly Hrs  \\\n",
            "0      0           IT       198.886792                   96   \n",
            "1      0        RandD       198.951952                   98   \n",
            "2      0   accounting       199.037300                   97   \n",
            "3      0           hr       199.250000                   98   \n",
            "4      0   management       200.233766                   97   \n",
            "5      0    marketing       198.888550                   96   \n",
            "6      0  product_mng       197.765625                   98   \n",
            "7      0        sales       199.571657                   96   \n",
            "8      0      support       199.140980                   96   \n",
            "9      0    technical       198.471083                   97   \n",
            "10     1           IT       213.849817                  127   \n",
            "11     1        RandD       210.975207                  127   \n",
            "12     1   accounting       207.029412                  127   \n",
            "13     1           hr       197.306977                  126   \n",
            "14     1   management       207.263736                  127   \n",
            "15     1    marketing       200.990148                  127   \n",
            "16     1  product_mng       207.787879                  129   \n",
            "17     1        sales       205.041420                  126   \n",
            "18     1      support       205.636036                  126   \n",
            "19     1    technical       214.183644                  126   \n",
            "\n",
            "    Max_Avg Monthly Hrs  Avg_Time Spend  Min_Time Spend  Max_Time Spend  \\\n",
            "0                   287        3.356394               2              10   \n",
            "1                   287        3.252252               2               8   \n",
            "2                   285        3.424512               2              10   \n",
            "3                   285        3.192748               2               8   \n",
            "4                   286        4.395176               2              10   \n",
            "5                   286        3.480916               2              10   \n",
            "6                   286        3.330966               2              10   \n",
            "7                   287        3.443698               2              10   \n",
            "8                   287        3.213859               2              10   \n",
            "9                   287        3.222442               2              10   \n",
            "10                  308        3.860806               2               6   \n",
            "11                  308        4.000000               2               6   \n",
            "12                  310        3.794118               2               6   \n",
            "13                  310        3.753488               3               6   \n",
            "14                  307        3.758242               2               6   \n",
            "15                  310        3.857143               3               6   \n",
            "16                  310        3.989899               3               6   \n",
            "17                  310        3.812623               2               6   \n",
            "18                  310        3.933333               2               6   \n",
            "19                  310        3.959828               2               6   \n",
            "\n",
            "    Avg_Last Evaluation  Min_Last Evaluation  Max_Last Evaluation  \\\n",
            "0              0.713050                 0.37                  1.0   \n",
            "1              0.706081                 0.36                  1.0   \n",
            "2              0.726128                 0.36                  1.0   \n",
            "3              0.720802                 0.37                  1.0   \n",
            "4              0.723451                 0.37                  1.0   \n",
            "5              0.723282                 0.36                  1.0   \n",
            "6              0.711435                 0.36                  1.0   \n",
            "7              0.709223                 0.36                  1.0   \n",
            "8              0.721714                 0.36                  1.0   \n",
            "9              0.716609                 0.36                  1.0   \n",
            "10             0.730037                 0.45                  1.0   \n",
            "11             0.745372                 0.46                  1.0   \n",
            "12             0.694510                 0.45                  1.0   \n",
            "13             0.679721                 0.45                  1.0   \n",
            "14             0.727253                 0.46                  1.0   \n",
            "15             0.692020                 0.45                  1.0   \n",
            "16             0.726566                 0.45                  1.0   \n",
            "17             0.711243                 0.45                  1.0   \n",
            "18             0.727315                 0.45                  1.0   \n",
            "19             0.734132                 0.45                  1.0   \n",
            "\n",
            "    Avg_Satisfaction Level  Min_Satisfaction Level  Max_Satisfaction Level  \\\n",
            "0                 0.677170                    0.12                    1.00   \n",
            "1                 0.653799                    0.12                    1.00   \n",
            "2                 0.647211                    0.12                    1.00   \n",
            "3                 0.666679                    0.13                    1.00   \n",
            "4                 0.654861                    0.12                    1.00   \n",
            "5                 0.669878                    0.12                    1.00   \n",
            "6                 0.658466                    0.13                    1.00   \n",
            "7                 0.668548                    0.12                    1.00   \n",
            "8                 0.673799                    0.12                    1.00   \n",
            "9                 0.668319                    0.12                    1.00   \n",
            "10                0.411868                    0.09                    0.92   \n",
            "11                0.432810                    0.09                    0.92   \n",
            "12                0.402598                    0.09                    0.91   \n",
            "13                0.433395                    0.09                    0.91   \n",
            "14                0.422857                    0.09                    0.90   \n",
            "15                0.453153                    0.09                    0.90   \n",
            "16                0.481566                    0.09                    0.91   \n",
            "17                0.447663                    0.09                    0.92   \n",
            "18                0.450901                    0.09                    0.91   \n",
            "19                0.432525                    0.09                    0.92   \n",
            "\n",
            "    Count_Work Accident  Count_Promotion Last 5 Yrs  \n",
            "0                   155                           0  \n",
            "1                   124                          27  \n",
            "2                    87                          14  \n",
            "3                    82                          15  \n",
            "4                    98                          66  \n",
            "5                   128                          43  \n",
            "6                   123                           0  \n",
            "7                   541                          93  \n",
            "8                   314                          17  \n",
            "9                   348                          25  \n",
            "10                    9                           3  \n",
            "11                   10                           0  \n",
            "12                    9                           0  \n",
            "13                    7                           0  \n",
            "14                    5                           3  \n",
            "15                   10                           0  \n",
            "16                    9                           0  \n",
            "17                   46                           7  \n",
            "18                   31                           3  \n",
            "19                   33                           3  \n"
          ]
        }
      ]
    },
    {
      "cell_type": "markdown",
      "source": [
        "8. Using output from the question 7 above, plot them as a grouped bar chart (similar to this or see group bar chart below) with seaborn. There must be two bars, one bar representing left and another for not left. This plot is for each unique department values in column “sales.”\n",
        "\n",
        "X-axis => left or not left\n",
        "Y-axis => avg_time_spend_company (for each unique department values in column \"sales\"). This is the average calculated from \"time_spend_company\""
      ],
      "metadata": {
        "id": "_SXhT-Hf379x"
      }
    },
    {
      "cell_type": "code",
      "source": [
        "plt.figure(figsize=(6,6))\n",
        "sns.barplot(x='Sales',y='Avg_Time Spend',hue='Left',data=overall)\n",
        "plt.xticks(rotation=90)\n",
        "plt.legend(loc='upper right')\n",
        "plt.tight_layout()\n",
        "plt.title(\"Bar chart using Seaborn for Avg Time spend in company\")\n",
        "plt.show()"
      ],
      "metadata": {
        "colab": {
          "base_uri": "https://localhost:8080/",
          "height": 629
        },
        "id": "LH1inE344Oji",
        "outputId": "4d519e05-9ff0-427c-a9d3-3d7df74a4f1b"
      },
      "execution_count": 32,
      "outputs": [
        {
          "output_type": "display_data",
          "data": {
            "text/plain": [
              "<Figure size 600x600 with 1 Axes>"
            ],
            "image/png": "[encoded data removed]"
          },
          "metadata": {}
        }
      ]
    },
    {
      "cell_type": "markdown",
      "source": [
        "9. For output of 3, plot heat map as shown in the image following with the numbers. One approach is to use seaborn"
      ],
      "metadata": {
        "id": "6mXy3NPKE9WD"
      }
    },
    {
      "cell_type": "code",
      "source": [
        "sns.heatmap(avg.corr(),cmap='Blues',annot=True) # heatmap using seaborn\n",
        "plt.show()\n",
        "#plt.imshow(avg.corr(),cmap='Greens') # using matplotlib\n",
        "#plt.show()"
      ],
      "metadata": {
        "colab": {
          "base_uri": "https://localhost:8080/",
          "height": 524
        },
        "id": "j1tdqplBE--4",
        "outputId": "8c23937c-f0e4-4733-b4b9-0f38822a47e0"
      },
      "execution_count": 52,
      "outputs": [
        {
          "output_type": "stream",
          "name": "stderr",
          "text": [
            "<ipython-input-52-8251661e5789>:1: FutureWarning:\n",
            "\n",
            "The default value of numeric_only in DataFrame.corr is deprecated. In a future version, it will default to False. Select only valid columns or specify the value of numeric_only to silence this warning.\n",
            "\n"
          ]
        },
        {
          "output_type": "display_data",
          "data": {
            "text/plain": [
              "<Figure size 640x480 with 2 Axes>"
            ],
            "image/png": "[encoded data removed]"
          },
          "metadata": {}
        }
      ]
    }
  ]
}