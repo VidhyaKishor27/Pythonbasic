{
  "nbformat": 4,
  "nbformat_minor": 0,
  "metadata": {
    "colab": {
      "provenance": [],
      "mount_file_id": "1piiZ-oB9M9U49hSsLgQk6PMoEKVIiVIh",
      "authorship_tag": "ABX9TyMF/bbzWxDBrEX8taPmd67I",
      "include_colab_link": true
    },
    "kernelspec": {
      "name": "python3",
      "display_name": "Python 3"
    },
    "language_info": {
      "name": "python"
    }
  },
  "cells": [
    {
      "cell_type": "markdown",
      "metadata": {
        "id": "view-in-github",
        "colab_type": "text"
      },
      "source": [
        "<a href=\"https://colab.research.google.com/github/VidhyaKishor27/Pythonbasic/blob/main/Miniproject_3_HR.ipynb\" target=\"_parent\"><img src=\"https://colab.research.google.com/assets/colab-badge.svg\" alt=\"Open In Colab\"/></a>"
      ]
    },
    {
      "cell_type": "code",
      "execution_count": 2,
      "metadata": {
        "colab": {
          "base_uri": "https://localhost:8080/"
        },
        "id": "ljtiFmA2m7o8",
        "outputId": "fb63e12a-5f5a-4ab5-e0f7-142b9816f663"
      },
      "outputs": [
        {
          "output_type": "stream",
          "name": "stdout",
          "text": [
            "Drive already mounted at /content/drive; to attempt to forcibly remount, call drive.mount(\"/content/drive\", force_remount=True).\n",
            "   satisfaction_level  last_evaluation  number_project  average_montly_hours  \\\n",
            "0                0.38             0.53               2                   157   \n",
            "1                0.80             0.86               5                   262   \n",
            "2                0.11             0.88               7                   272   \n",
            "3                0.72             0.87               5                   223   \n",
            "4                0.37             0.52               2                   159   \n",
            "\n",
            "   time_spend_company  Work_accident  left  promotion_last_5years  sales  \\\n",
            "0                   3              0     1                      0  sales   \n",
            "1                   6              0     1                      0  sales   \n",
            "2                   4              0     1                      0  sales   \n",
            "3                   5              0     1                      0  sales   \n",
            "4                   3              0     1                      0  sales   \n",
            "\n",
            "   salary  \n",
            "0     low  \n",
            "1  medium  \n",
            "2  medium  \n",
            "3     low  \n",
            "4     low  \n"
          ]
        }
      ],
      "source": [
        "import pandas as pd\n",
        "import numpy as np\n",
        "from tabulate import tabulate\n",
        "from google.colab import drive\n",
        "drive.mount('/content/drive')\n",
        "hr=pd.read_csv('/content/drive/MyDrive/Python training/Miniproject - python/HR_comma_sep.csv')\n",
        "print(hr.head(5))"
      ]
    },
    {
      "cell_type": "markdown",
      "source": [
        "1. How many employees in each of the department (use column \"sales\")\n",
        "Output: sales,num_employees"
      ],
      "metadata": {
        "id": "kmsPAj4zoGkC"
      }
    },
    {
      "cell_type": "code",
      "source": [
        "no_of_emp=hr.groupby(['sales']).size().to_frame('No. of Employees')\\\n",
        "  .sort_values(by='No. of Employees',ascending=True).reset_index()\n",
        "print(tabulate(no_of_emp,headers=['Sales','No. of Employees'],tablefmt='grid'))"
      ],
      "metadata": {
        "colab": {
          "base_uri": "https://localhost:8080/"
        },
        "id": "0ySUDAQRoJfe",
        "outputId": "985047c8-78d3-4804-e215-cf103c19de5b"
      },
      "execution_count": null,
      "outputs": [
        {
          "output_type": "stream",
          "name": "stdout",
          "text": [
            "+----+-------------+--------------------+\n",
            "|    | Sales       |   No. of Employees |\n",
            "+====+=============+====================+\n",
            "|  0 | management  |                630 |\n",
            "+----+-------------+--------------------+\n",
            "|  1 | hr          |                739 |\n",
            "+----+-------------+--------------------+\n",
            "|  2 | accounting  |                767 |\n",
            "+----+-------------+--------------------+\n",
            "|  3 | RandD       |                787 |\n",
            "+----+-------------+--------------------+\n",
            "|  4 | marketing   |                858 |\n",
            "+----+-------------+--------------------+\n",
            "|  5 | product_mng |                902 |\n",
            "+----+-------------+--------------------+\n",
            "|  6 | IT          |               1227 |\n",
            "+----+-------------+--------------------+\n",
            "|  7 | support     |               2229 |\n",
            "+----+-------------+--------------------+\n",
            "|  8 | technical   |               2720 |\n",
            "+----+-------------+--------------------+\n",
            "|  9 | sales       |               4140 |\n",
            "+----+-------------+--------------------+\n"
          ]
        }
      ]
    },
    {
      "cell_type": "markdown",
      "source": [
        "2. Among employees who left, get the department wise (use column \"sales\"), number of employees and rank them.\n",
        "Output:\n",
        "sales,num_employees,rank\n"
      ],
      "metadata": {
        "id": "uI6l3bUNs6NZ"
      }
    },
    {
      "cell_type": "code",
      "source": [
        "hr_left=hr.where(hr['left']==1,inplace=False)\n",
        "emp_left=hr_left.groupby(['sales']).size().to_frame('No. of Employees')\\\n",
        "  .sort_values(by='No. of Employees',ascending=False).reset_index()\n",
        "emp_left['Rank']=emp_left['No. of Employees'].rank(ascending=False)\n",
        "print(tabulate(emp_left,headers=['Sales','No. of Employees','Rank'],tablefmt='grid'))"
      ],
      "metadata": {
        "colab": {
          "base_uri": "https://localhost:8080/"
        },
        "id": "pRtRMPi1tCIr",
        "outputId": "4fe2db98-0677-49fa-b25e-c0787003ef1e"
      },
      "execution_count": null,
      "outputs": [
        {
          "output_type": "stream",
          "name": "stdout",
          "text": [
            "+----+-------------+--------------------+--------+\n",
            "|    | Sales       |   No. of Employees |   Rank |\n",
            "+====+=============+====================+========+\n",
            "|  0 | sales       |               1014 |      1 |\n",
            "+----+-------------+--------------------+--------+\n",
            "|  1 | technical   |                697 |      2 |\n",
            "+----+-------------+--------------------+--------+\n",
            "|  2 | support     |                555 |      3 |\n",
            "+----+-------------+--------------------+--------+\n",
            "|  3 | IT          |                273 |      4 |\n",
            "+----+-------------+--------------------+--------+\n",
            "|  4 | hr          |                215 |      5 |\n",
            "+----+-------------+--------------------+--------+\n",
            "|  5 | accounting  |                204 |      6 |\n",
            "+----+-------------+--------------------+--------+\n",
            "|  6 | marketing   |                203 |      7 |\n",
            "+----+-------------+--------------------+--------+\n",
            "|  7 | product_mng |                198 |      8 |\n",
            "+----+-------------+--------------------+--------+\n",
            "|  8 | RandD       |                121 |      9 |\n",
            "+----+-------------+--------------------+--------+\n",
            "|  9 | management  |                 91 |     10 |\n",
            "+----+-------------+--------------------+--------+\n"
          ]
        }
      ]
    },
    {
      "cell_type": "markdown",
      "source": [
        "3.Average number of years (time_spend_company) and average number of monthly hours (average_monthly_hours) for the employees left and not left under each department. Sort the value by sales.\n",
        "Output:\n",
        "left,sales,avg_time_spend_company,avg_average_monthly_hours\n"
      ],
      "metadata": {
        "id": "rUwP8C8uvkai"
      }
    },
    {
      "cell_type": "code",
      "source": [
        "avg=hr.groupby(by=['left','sales']).aggregate({\"average_montly_hours\":'mean',\"time_spend_company\":'mean'})\n",
        "print(avg)"
      ],
      "metadata": {
        "id": "hWWE5biJwt13",
        "colab": {
          "base_uri": "https://localhost:8080/"
        },
        "outputId": "10eab0b8-cbe4-49f1-a3ef-aa33a2b055ff"
      },
      "execution_count": 16,
      "outputs": [
        {
          "output_type": "stream",
          "name": "stdout",
          "text": [
            "                  average_montly_hours  time_spend_company\n",
            "left sales                                                \n",
            "0    IT                     198.886792            3.356394\n",
            "     RandD                  198.951952            3.252252\n",
            "     accounting             199.037300            3.424512\n",
            "     hr                     199.250000            3.192748\n",
            "     management             200.233766            4.395176\n",
            "     marketing              198.888550            3.480916\n",
            "     product_mng            197.765625            3.330966\n",
            "     sales                  199.571657            3.443698\n",
            "     support                199.140980            3.213859\n",
            "     technical              198.471083            3.222442\n",
            "1    IT                     213.849817            3.860806\n",
            "     RandD                  210.975207            4.000000\n",
            "     accounting             207.029412            3.794118\n",
            "     hr                     197.306977            3.753488\n",
            "     management             207.263736            3.758242\n",
            "     marketing              200.990148            3.857143\n",
            "     product_mng            207.787879            3.989899\n",
            "     sales                  205.041420            3.812623\n",
            "     support                205.636036            3.933333\n",
            "     technical              214.183644            3.959828\n"
          ]
        }
      ]
    }
  ]
}