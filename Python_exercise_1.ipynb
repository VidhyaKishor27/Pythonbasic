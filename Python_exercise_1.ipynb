{
  "nbformat": 4,
  "nbformat_minor": 0,
  "metadata": {
    "colab": {
      "provenance": [],
      "authorship_tag": "ABX9TyPpcyrd+Kc7PL8tBLY8BdrX",
      "include_colab_link": true
    },
    "kernelspec": {
      "name": "python3",
      "display_name": "Python 3"
    },
    "language_info": {
      "name": "python"
    }
  },
  "cells": [
    {
      "cell_type": "markdown",
      "metadata": {
        "id": "view-in-github",
        "colab_type": "text"
      },
      "source": [
        "<a href=\"https://colab.research.google.com/github/VidhyaKishor27/Pythonbasic/blob/main/Python_exercise_1.ipynb\" target=\"_parent\"><img src=\"https://colab.research.google.com/assets/colab-badge.svg\" alt=\"Open In Colab\"/></a>"
      ]
    },
    {
      "cell_type": "code",
      "execution_count": 26,
      "metadata": {
        "id": "bizBexel13m4",
        "colab": {
          "base_uri": "https://localhost:8080/"
        },
        "outputId": "f1b017fa-77f4-4354-f16a-7b863af68219"
      },
      "outputs": [
        {
          "output_type": "stream",
          "name": "stdout",
          "text": [
            "What's the number to check if it's prime  or not?89\n",
            "This is a prime number\n"
          ]
        }
      ],
      "source": [
        "# 1. Write code  to check if a given number is prime or not.\n",
        "def prime():\n",
        "  x=int(input(\"What's the number to check if it's prime  or not?\"))\n",
        "  if x<=1:\n",
        "    return False\n",
        "  else:\n",
        "    for i in range(2,(x-1)):\n",
        "      if (x%i==0):\n",
        "        return False\n",
        "    return True\n",
        "if prime()==True:\n",
        "  print(\"This is a prime number\")\n",
        "else:\n",
        "  print(\"This is not a prime number\")\n"
      ]
    },
    {
      "cell_type": "code",
      "source": [
        "# 2. Write code to check if a list is sorted in ascending order.\n",
        "mylist1=[4,8,3,2]\n",
        "mylist2=[1,2,3,4]\n",
        "def sorting(data):\n",
        "  for i in range(1,len(data)):\n",
        "    if data[i-1]>data[i]:\n",
        "      return False\n",
        "  return True\n",
        "\n",
        "if sorting(mylist1)==False:\n",
        "  print(\"List is not sorted in Ascending order\")\n",
        "else:\n",
        "  print(\"List is sorted in Ascending order\")\n",
        "if sorting(mylist2)==False:\n",
        "  print(\"List is not sorted in Ascending order\")\n",
        "else:\n",
        "  print(\"List is sorted in Ascending order\")"
      ],
      "metadata": {
        "colab": {
          "base_uri": "https://localhost:8080/"
        },
        "id": "igDvEMy9j4q1",
        "outputId": "5af6ea17-53f0-4d2e-842f-f2348dde8cc8"
      },
      "execution_count": 34,
      "outputs": [
        {
          "output_type": "stream",
          "name": "stdout",
          "text": [
            "List is not sorted in Ascending order\n",
            "List is sorted in Ascending order\n"
          ]
        }
      ]
    },
    {
      "cell_type": "code",
      "source": [
        "# 3. Write code that checks if two lists are equal.\n",
        "mylist1=list(input(\"What is the list 1?\"))\n",
        "mylist2=list(input(\"What is the list 2?\"))\n",
        "def to_equal(data1, data2):\n",
        "  for i in range(1,len(data1)):\n",
        "    for i in range(1,len(data2)):\n",
        "      if data1[i-1]!=data2[i-1]:\n",
        "        return False\n",
        "  return True\n",
        "\n",
        "if to_equal(mylist1,mylist2)==True:\n",
        "  print(\"List is equal\")\n",
        "else:\n",
        "  print(\"List is not equal\")"
      ],
      "metadata": {
        "colab": {
          "base_uri": "https://localhost:8080/"
        },
        "id": "QtMYRKbiyAiB",
        "outputId": "b73e9cd6-a522-4b82-ed45-10feb459c73f"
      },
      "execution_count": 40,
      "outputs": [
        {
          "output_type": "stream",
          "name": "stdout",
          "text": [
            "What is the list 1?1234\n",
            "What is the list 2?5678\n",
            "List is not equal\n"
          ]
        }
      ]
    },
    {
      "cell_type": "code",
      "source": [
        "# 4. Write a code to check if a string is a palindrome.\n",
        "def rev(x):\n",
        "  return x[::-1]\n",
        "d=str(input(\"Type the word to check if it is palindrome:\"))\n",
        "#revd=\"\".join(reversed(d))\n",
        "d1=rev(d)\n",
        "print(d1)\n",
        "if d==d1:\n",
        "  print(\"This is palindrome\")\n",
        "else:\n",
        "  print(\"This is not palindrome\")"
      ],
      "metadata": {
        "colab": {
          "base_uri": "https://localhost:8080/"
        },
        "id": "SH61YNfL0KsP",
        "outputId": "0696746a-b92a-4124-a82a-618b651ea3d0"
      },
      "execution_count": 69,
      "outputs": [
        {
          "output_type": "stream",
          "name": "stdout",
          "text": [
            "Type the word to check if it is palindrome:hello\n",
            "olleh\n",
            "This is not palindrome\n"
          ]
        }
      ]
    },
    {
      "cell_type": "code",
      "source": [
        "# to check how x[::-1] syntax works\n",
        "def rev(x):\n",
        "  return x[-2:0:-1]\n",
        "d=str(input(\"Type the word to check if it is palindrome:\"))\n",
        "#revd=\"\".join(reversed(d))\n",
        "d1=rev(d)\n",
        "print(d1)"
      ],
      "metadata": {
        "colab": {
          "base_uri": "https://localhost:8080/"
        },
        "id": "f9lsP4PD84DV",
        "outputId": "bbf5c5c3-4394-45ea-ef65-414d0e83e3ba"
      },
      "execution_count": 71,
      "outputs": [
        {
          "output_type": "stream",
          "name": "stdout",
          "text": [
            "Type the word to check if it is palindrome:123456\n",
            "5432\n"
          ]
        }
      ]
    },
    {
      "cell_type": "code",
      "source": [
        "# 5. Write a code to t that checks if a function handles floating-point calculations accurately. System coding\n",
        "import math\n",
        "def checkingfloat(value1,value2):\n",
        "  return math.isclose(value1,value2)\n",
        "def floatcal(x):\n",
        "  return x*2+math.sin(x)\n",
        "#data=0.3\n",
        "data = [0.1, 0.2, 0.3]\n",
        "for x in data:\n",
        "  exp_vl=floatcal(data)\n",
        "  cal_vl=floatcal(data)\n",
        "  if checkingfloat(exp_vl,cal_vl):\n",
        "    print(\"Accurate\")\n",
        "  else:\n",
        "    print(\"Not Accurate\")"
      ],
      "metadata": {
        "colab": {
          "base_uri": "https://localhost:8080/",
          "height": 367
        },
        "id": "436xpiD8AHQx",
        "outputId": "8e62b5a1-bbb1-4bb7-e236-d3a38253b738"
      },
      "execution_count": 8,
      "outputs": [
        {
          "output_type": "error",
          "ename": "TypeError",
          "evalue": "ignored",
          "traceback": [
            "\u001b[0;31m---------------------------------------------------------------------------\u001b[0m",
            "\u001b[0;31mTypeError\u001b[0m                                 Traceback (most recent call last)",
            "\u001b[0;32m<ipython-input-8-750d6eccd8a4>\u001b[0m in \u001b[0;36m<cell line: 9>\u001b[0;34m()\u001b[0m\n\u001b[1;32m      8\u001b[0m \u001b[0mdata\u001b[0m \u001b[0;34m=\u001b[0m \u001b[0;34m[\u001b[0m\u001b[0;36m0.1\u001b[0m\u001b[0;34m,\u001b[0m \u001b[0;36m0.2\u001b[0m\u001b[0;34m,\u001b[0m \u001b[0;36m0.3\u001b[0m\u001b[0;34m]\u001b[0m\u001b[0;34m\u001b[0m\u001b[0;34m\u001b[0m\u001b[0m\n\u001b[1;32m      9\u001b[0m \u001b[0;32mfor\u001b[0m \u001b[0mx\u001b[0m \u001b[0;32min\u001b[0m \u001b[0mdata\u001b[0m\u001b[0;34m:\u001b[0m\u001b[0;34m\u001b[0m\u001b[0;34m\u001b[0m\u001b[0m\n\u001b[0;32m---> 10\u001b[0;31m   \u001b[0mexp_vl\u001b[0m\u001b[0;34m=\u001b[0m\u001b[0mfloatcal\u001b[0m\u001b[0;34m(\u001b[0m\u001b[0mdata\u001b[0m\u001b[0;34m)\u001b[0m\u001b[0;34m\u001b[0m\u001b[0;34m\u001b[0m\u001b[0m\n\u001b[0m\u001b[1;32m     11\u001b[0m   \u001b[0mcal_vl\u001b[0m\u001b[0;34m=\u001b[0m\u001b[0mfloatcal\u001b[0m\u001b[0;34m(\u001b[0m\u001b[0mdata\u001b[0m\u001b[0;34m)\u001b[0m\u001b[0;34m\u001b[0m\u001b[0;34m\u001b[0m\u001b[0m\n\u001b[1;32m     12\u001b[0m   \u001b[0;32mif\u001b[0m \u001b[0mcheckingfloat\u001b[0m\u001b[0;34m(\u001b[0m\u001b[0mexp_vl\u001b[0m\u001b[0;34m,\u001b[0m\u001b[0mcal_vl\u001b[0m\u001b[0;34m)\u001b[0m\u001b[0;34m:\u001b[0m\u001b[0;34m\u001b[0m\u001b[0;34m\u001b[0m\u001b[0m\n",
            "\u001b[0;32m<ipython-input-8-750d6eccd8a4>\u001b[0m in \u001b[0;36mfloatcal\u001b[0;34m(x)\u001b[0m\n\u001b[1;32m      4\u001b[0m   \u001b[0;32mreturn\u001b[0m \u001b[0mmath\u001b[0m\u001b[0;34m.\u001b[0m\u001b[0misclose\u001b[0m\u001b[0;34m(\u001b[0m\u001b[0mvalue1\u001b[0m\u001b[0;34m,\u001b[0m\u001b[0mvalue2\u001b[0m\u001b[0;34m)\u001b[0m\u001b[0;34m\u001b[0m\u001b[0;34m\u001b[0m\u001b[0m\n\u001b[1;32m      5\u001b[0m \u001b[0;32mdef\u001b[0m \u001b[0mfloatcal\u001b[0m\u001b[0;34m(\u001b[0m\u001b[0mx\u001b[0m\u001b[0;34m)\u001b[0m\u001b[0;34m:\u001b[0m\u001b[0;34m\u001b[0m\u001b[0;34m\u001b[0m\u001b[0m\n\u001b[0;32m----> 6\u001b[0;31m   \u001b[0;32mreturn\u001b[0m \u001b[0mx\u001b[0m\u001b[0;34m*\u001b[0m\u001b[0;36m2\u001b[0m\u001b[0;34m+\u001b[0m\u001b[0mmath\u001b[0m\u001b[0;34m.\u001b[0m\u001b[0msin\u001b[0m\u001b[0;34m(\u001b[0m\u001b[0mx\u001b[0m\u001b[0;34m)\u001b[0m\u001b[0;34m\u001b[0m\u001b[0;34m\u001b[0m\u001b[0m\n\u001b[0m\u001b[1;32m      7\u001b[0m \u001b[0;31m#data=0.3\u001b[0m\u001b[0;34m\u001b[0m\u001b[0;34m\u001b[0m\u001b[0m\n\u001b[1;32m      8\u001b[0m \u001b[0mdata\u001b[0m \u001b[0;34m=\u001b[0m \u001b[0;34m[\u001b[0m\u001b[0;36m0.1\u001b[0m\u001b[0;34m,\u001b[0m \u001b[0;36m0.2\u001b[0m\u001b[0;34m,\u001b[0m \u001b[0;36m0.3\u001b[0m\u001b[0;34m]\u001b[0m\u001b[0;34m\u001b[0m\u001b[0;34m\u001b[0m\u001b[0m\n",
            "\u001b[0;31mTypeError\u001b[0m: must be real number, not list"
          ]
        }
      ]
    }
  ]
}