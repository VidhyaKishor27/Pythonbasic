{
  "nbformat": 4,
  "nbformat_minor": 0,
  "metadata": {
    "colab": {
      "provenance": [],
      "authorship_tag": "ABX9TyMrvUSGDDy5oDuJ/hd7+f/0",
      "include_colab_link": true
    },
    "kernelspec": {
      "name": "python3",
      "display_name": "Python 3"
    },
    "language_info": {
      "name": "python"
    }
  },
  "cells": [
    {
      "cell_type": "markdown",
      "metadata": {
        "id": "view-in-github",
        "colab_type": "text"
      },
      "source": [
        "<a href=\"https://colab.research.google.com/github/VidhyaKishor27/Pythonbasic/blob/main/Python_exercise_1.ipynb\" target=\"_parent\"><img src=\"https://colab.research.google.com/assets/colab-badge.svg\" alt=\"Open In Colab\"/></a>"
      ]
    },
    {
      "cell_type": "code",
      "execution_count": 26,
      "metadata": {
        "id": "bizBexel13m4",
        "colab": {
          "base_uri": "https://localhost:8080/"
        },
        "outputId": "f1b017fa-77f4-4354-f16a-7b863af68219"
      },
      "outputs": [
        {
          "output_type": "stream",
          "name": "stdout",
          "text": [
            "What's the number to check if it's prime  or not?89\n",
            "This is a prime number\n"
          ]
        }
      ],
      "source": [
        "# 1. Write code  to check if a given number is prime or not.\n",
        "def prime():\n",
        "  x=int(input(\"What's the number to check if it's prime  or not?\"))\n",
        "  if x<=1:\n",
        "    return False\n",
        "  else:\n",
        "    for i in range(2,(x-1)):\n",
        "      if (x%i==0):\n",
        "        return False\n",
        "    return True\n",
        "if prime()==True:\n",
        "  print(\"This is a prime number\")\n",
        "else:\n",
        "  print(\"This is not a prime number\")\n"
      ]
    }
  ]
}