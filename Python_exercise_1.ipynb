{
  "nbformat": 4,
  "nbformat_minor": 0,
  "metadata": {
    "colab": {
      "provenance": [],
      "authorship_tag": "ABX9TyNUt7tTGWFRr29JbwCHxTb2",
      "include_colab_link": true
    },
    "kernelspec": {
      "name": "python3",
      "display_name": "Python 3"
    },
    "language_info": {
      "name": "python"
    }
  },
  "cells": [
    {
      "cell_type": "markdown",
      "metadata": {
        "id": "view-in-github",
        "colab_type": "text"
      },
      "source": [
        "<a href=\"https://colab.research.google.com/github/VidhyaKishor27/Pythonbasic/blob/main/Python_exercise_1.ipynb\" target=\"_parent\"><img src=\"https://colab.research.google.com/assets/colab-badge.svg\" alt=\"Open In Colab\"/></a>"
      ]
    },
    {
      "cell_type": "code",
      "execution_count": 26,
      "metadata": {
        "id": "bizBexel13m4",
        "colab": {
          "base_uri": "https://localhost:8080/"
        },
        "outputId": "f1b017fa-77f4-4354-f16a-7b863af68219"
      },
      "outputs": [
        {
          "output_type": "stream",
          "name": "stdout",
          "text": [
            "What's the number to check if it's prime  or not?89\n",
            "This is a prime number\n"
          ]
        }
      ],
      "source": [
        "# 1. Write code  to check if a given number is prime or not.\n",
        "def prime():\n",
        "  x=int(input(\"What's the number to check if it's prime  or not?\"))\n",
        "  if x<=1:\n",
        "    return False\n",
        "  else:\n",
        "    for i in range(2,(x-1)):\n",
        "      if (x%i==0):\n",
        "        return False\n",
        "    return True\n",
        "if prime()==True:\n",
        "  print(\"This is a prime number\")\n",
        "else:\n",
        "  print(\"This is not a prime number\")\n"
      ]
    },
    {
      "cell_type": "code",
      "source": [
        "# 2. Write code to check if a list is sorted in ascending order.\n",
        "mylist1=[4,8,3,2]\n",
        "mylist2=[1,2,3,4]\n",
        "def sorting(data):\n",
        "  for i in range(1,len(data)):\n",
        "    if data[i-1]>data[i]:\n",
        "      return False\n",
        "  return True\n",
        "\n",
        "if sorting(mylist1)==False:\n",
        "  print(\"List is not sorted in Ascending order\")\n",
        "else:\n",
        "  print(\"List is sorted in Ascending order\")\n",
        "if sorting(mylist2)==False:\n",
        "  print(\"List is not sorted in Ascending order\")\n",
        "else:\n",
        "  print(\"List is sorted in Ascending order\")"
      ],
      "metadata": {
        "colab": {
          "base_uri": "https://localhost:8080/"
        },
        "id": "igDvEMy9j4q1",
        "outputId": "5af6ea17-53f0-4d2e-842f-f2348dde8cc8"
      },
      "execution_count": 34,
      "outputs": [
        {
          "output_type": "stream",
          "name": "stdout",
          "text": [
            "List is not sorted in Ascending order\n",
            "List is sorted in Ascending order\n"
          ]
        }
      ]
    },
    {
      "cell_type": "code",
      "source": [
        "# 3. Write code that checks if two lists are equal.\n",
        "mylist1=list(input(\"What is the list 1?\"))\n",
        "mylist2=list(input(\"What is the list 2?\"))\n",
        "def to_equal(data1, data2):\n",
        "  for i in range(1,len(data1)):\n",
        "    for i in range(1,len(data2)):\n",
        "      if data1[i-1]!=data2[i-1]:\n",
        "        return False\n",
        "  return True\n",
        "\n",
        "if to_equal(mylist1,mylist2)==True:\n",
        "  print(\"List is equal\")\n",
        "else:\n",
        "  print(\"List is not equal\")"
      ],
      "metadata": {
        "colab": {
          "base_uri": "https://localhost:8080/"
        },
        "id": "QtMYRKbiyAiB",
        "outputId": "b73e9cd6-a522-4b82-ed45-10feb459c73f"
      },
      "execution_count": 40,
      "outputs": [
        {
          "output_type": "stream",
          "name": "stdout",
          "text": [
            "What is the list 1?1234\n",
            "What is the list 2?5678\n",
            "List is not equal\n"
          ]
        }
      ]
    }
  ]
}