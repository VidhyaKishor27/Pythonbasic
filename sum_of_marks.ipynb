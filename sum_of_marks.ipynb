{
  "nbformat": 4,
  "nbformat_minor": 0,
  "metadata": {
    "colab": {
      "provenance": [],
      "authorship_tag": "ABX9TyOySXzucdDylivqRHbF6cmU",
      "include_colab_link": true
    },
    "kernelspec": {
      "name": "python3",
      "display_name": "Python 3"
    },
    "language_info": {
      "name": "python"
    }
  },
  "cells": [
    {
      "cell_type": "markdown",
      "metadata": {
        "id": "view-in-github",
        "colab_type": "text"
      },
      "source": [
        "<a href=\"https://colab.research.google.com/github/VidhyaKishor27/Pythonbasic/blob/main/sum_of_marks.ipynb\" target=\"_parent\"><img src=\"https://colab.research.google.com/assets/colab-badge.svg\" alt=\"Open In Colab\"/></a>"
      ]
    },
    {
      "cell_type": "code",
      "execution_count": 2,
      "metadata": {
        "colab": {
          "base_uri": "https://localhost:8080/"
        },
        "id": "_c1etLnk_zLb",
        "outputId": "b2416dcc-2ec2-423a-d210-147d7e56dc16"
      },
      "outputs": [
        {
          "output_type": "stream",
          "name": "stdout",
          "text": [
            "Total marks of Vidhya is 70\n",
            "Total marks of Venba is 60\n",
            "Total marks of Isai is 90\n",
            "The total mark obtained by Vidhya is 60\n",
            "The total mark obtained by Venba is 110\n",
            "The total mark obtained by Isai is 75\n",
            "The total marks of Vidhya is 90\n"
          ]
        }
      ],
      "source": [
        "#static values\n",
        "venba={\"maths\":30,\"sci\":20,\"tamil\":10}\n",
        "vidhya={\"maths\":20,\"sci\":10,\"tamil\":40}\n",
        "isai={\"maths\":20,\"sci\":20,\"tamil\":50}\n",
        "print(\"Total marks of Vidhya is\", sum(vidhya.values()))\n",
        "print(\"Total marks of Venba is\",sum(venba.values()))\n",
        "print(\"Total marks of Isai is\",sum(isai.values()))\n",
        "#dynamic values & func\n",
        "def total(student,maths,sci,tamil):\n",
        "  x=maths+sci+tamil\n",
        "  print(\"The total mark obtained by\",student,\"is\",x)\n",
        "total(\"Vidhya\",30,20,10)\n",
        "total(\"Venba\",40,60,10)\n",
        "total(\"Isai\",20,50,5)\n",
        "#lambda\n",
        "x=lambda maths, sci, tamil : maths+sci+tamil\n",
        "print(\"The total marks of Vidhya is\", x(20,30,40))\n",
        "\n",
        "\n",
        "\n"
      ]
    }
  ]
}