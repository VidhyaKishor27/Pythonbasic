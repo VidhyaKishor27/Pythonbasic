{
  "nbformat": 4,
  "nbformat_minor": 0,
  "metadata": {
    "colab": {
      "provenance": [],
      "mount_file_id": "1ejlrWnqd4v-UCycLLuMAYBlzAFnybx83",
      "authorship_tag": "ABX9TyNJmm957DwTpSkiFPSuC+fx",
      "include_colab_link": true
    },
    "kernelspec": {
      "name": "python3",
      "display_name": "Python 3"
    },
    "language_info": {
      "name": "python"
    }
  },
  "cells": [
    {
      "cell_type": "markdown",
      "metadata": {
        "id": "view-in-github",
        "colab_type": "text"
      },
      "source": [
        "<a href=\"https://colab.research.google.com/github/VidhyaKishor27/Pythonbasic/blob/main/Miniproject2_Corona_Vaccine.ipynb\" target=\"_parent\"><img src=\"https://colab.research.google.com/assets/colab-badge.svg\" alt=\"Open In Colab\"/></a>"
      ]
    },
    {
      "cell_type": "markdown",
      "source": [
        "### Part 1- Observation Questions:"
      ],
      "metadata": {
        "id": "sE9M1qWDBuE2"
      }
    },
    {
      "cell_type": "markdown",
      "source": [
        "1. How many distinct counties + state there (hint: unique)"
      ],
      "metadata": {
        "id": "yzurDsIlBzos"
      }
    },
    {
      "cell_type": "code",
      "source": [
        "import pandas as pd\n",
        "import numpy as np\n",
        "from google.colab import drive\n",
        "drive.mount('/content/drive')\n",
        "data1=pd.read_csv('/content/drive/MyDrive/Python training/Miniproject - python/us-counties-recent.csv')\n",
        "data2=pd.read_csv('/content/drive/MyDrive/Python training/Miniproject - python/us-counties.csv')\n",
        "county1=data1['county'].unique()\n",
        "county2=data2['county'].unique()\n",
        "state1=data1['state'].unique()\n",
        "state2=data2['state'].unique()\n",
        "print(\"Distinct Counties & States from Data file1 US-Counties-recent:\")\n",
        "print(\"Counties are as below\")\n",
        "print(county1)\n",
        "print(\"States are as below\")\n",
        "print(state1)\n",
        "print(\"Distinct Counties & States from Data file2 US-Counties:\")\n",
        "print(\"Counties are as below\")\n",
        "print(county2)\n",
        "print(\"States are as below\")\n",
        "print(state2)"
      ],
      "metadata": {
        "colab": {
          "base_uri": "https://localhost:8080/"
        },
        "id": "7UdgDisFB32d",
        "outputId": "658442d8-8873-47f0-dcb0-b07933581109"
      },
      "execution_count": 1,
      "outputs": [
        {
          "output_type": "stream",
          "name": "stdout",
          "text": [
            "Drive already mounted at /content/drive; to attempt to forcibly remount, call drive.mount(\"/content/drive\", force_remount=True).\n",
            "Distinct Counties & States from Data file1 US-Counties-recent:\n",
            "Counties are as below\n",
            "['Autauga' 'Baldwin' 'Barbour' ... 'Uinta' 'Washakie' 'Weston']\n",
            "States are as below\n",
            "['Alabama' 'Alaska' 'American Samoa' 'Arizona' 'Arkansas' 'California'\n",
            " 'Colorado' 'Connecticut' 'Delaware' 'District of Columbia' 'Florida'\n",
            " 'Georgia' 'Guam' 'Hawaii' 'Idaho' 'Illinois' 'Indiana' 'Iowa' 'Kansas'\n",
            " 'Kentucky' 'Louisiana' 'Maine' 'Maryland' 'Massachusetts' 'Michigan'\n",
            " 'Minnesota' 'Mississippi' 'Missouri' 'Montana' 'Nebraska' 'Nevada'\n",
            " 'New Hampshire' 'New Jersey' 'New Mexico' 'New York' 'North Carolina'\n",
            " 'North Dakota' 'Northern Mariana Islands' 'Ohio' 'Oklahoma' 'Oregon'\n",
            " 'Pennsylvania' 'Puerto Rico' 'Rhode Island' 'South Carolina'\n",
            " 'South Dakota' 'Tennessee' 'Texas' 'Utah' 'Vermont' 'Virgin Islands'\n",
            " 'Virginia' 'Washington' 'West Virginia' 'Wisconsin' 'Wyoming']\n",
            "Distinct Counties & States from Data file2 US-Counties:\n",
            "Counties are as below\n",
            "['Snohomish' 'Cook' 'Orange' ... 'Esmeralda' 'Loving' 'Kalawao']\n",
            "States are as below\n",
            "['Washington' 'Illinois' 'California' 'Arizona' 'Massachusetts'\n",
            " 'Wisconsin' 'Texas' 'Nebraska' 'Utah' 'Oregon' 'Florida' 'New York'\n",
            " 'Rhode Island' 'Georgia' 'New Hampshire' 'North Carolina' 'New Jersey'\n",
            " 'Colorado' 'Maryland' 'Nevada' 'Tennessee' 'Hawaii' 'Indiana' 'Kentucky'\n",
            " 'Minnesota' 'Oklahoma' 'Pennsylvania' 'South Carolina'\n",
            " 'District of Columbia' 'Kansas' 'Missouri' 'Vermont' 'Virginia'\n",
            " 'Connecticut' 'Iowa' 'Louisiana' 'Ohio' 'Michigan' 'South Dakota'\n",
            " 'Arkansas' 'Delaware' 'Mississippi' 'New Mexico' 'North Dakota' 'Wyoming'\n",
            " 'Alaska' 'Maine' 'Alabama' 'Idaho' 'Montana' 'Puerto Rico'\n",
            " 'Virgin Islands' 'Guam' 'West Virginia' 'Northern Mariana Islands'\n",
            " 'American Samoa']\n"
          ]
        }
      ]
    }
  ]
}